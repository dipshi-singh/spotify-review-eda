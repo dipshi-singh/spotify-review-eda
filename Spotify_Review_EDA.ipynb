{
 "cells": [
  {
   "cell_type": "code",
   "execution_count": 1,
   "id": "005db4d4",
   "metadata": {
    "_cell_guid": "b1076dfc-b9ad-4769-8c92-a6c4dae69d19",
    "_uuid": "8f2839f25d086af736a60e9eeb907d3b93b6e0e5",
    "execution": {
     "iopub.execute_input": "2024-07-23T14:42:34.111490Z",
     "iopub.status.busy": "2024-07-23T14:42:34.111071Z",
     "iopub.status.idle": "2024-07-23T14:42:35.036417Z",
     "shell.execute_reply": "2024-07-23T14:42:35.035141Z"
    },
    "papermill": {
     "duration": 0.9539,
     "end_time": "2024-07-23T14:42:35.039490",
     "exception": false,
     "start_time": "2024-07-23T14:42:34.085590",
     "status": "completed"
    },
    "tags": []
   },
   "outputs": [
    {
     "name": "stdout",
     "output_type": "stream",
     "text": [
      "/kaggle/input/spotify-reviews-playstore-daily-update/spotify_reviews.csv\n"
     ]
    }
   ],
   "source": [
    "# This Python 3 environment comes with many helpful analytics libraries installed\n",
    "# It is defined by the kaggle/python Docker image: https://github.com/kaggle/docker-python\n",
    "# For example, here's several helpful packages to load\n",
    "\n",
    "import numpy as np # linear algebra\n",
    "import pandas as pd # data processing, CSV file I/O (e.g. pd.read_csv)\n",
    "\n",
    "# Input data files are available in the read-only \"../input/\" directory\n",
    "# For example, running this (by clicking run or pressing Shift+Enter) will list all files under the input directory\n",
    "\n",
    "import os\n",
    "for dirname, _, filenames in os.walk('/kaggle/input'):\n",
    "    for filename in filenames:\n",
    "        filepath = os.path.join(dirname, filename)\n",
    "        print(os.path.join(dirname, filename))\n",
    "\n",
    "# You can write up to 20GB to the current directory (/kaggle/working/) that gets preserved as output when you create a version using \"Save & Run All\" \n",
    "# You can also write temporary files to /kaggle/temp/, but they won't be saved outside of the current session"
   ]
  },
  {
   "cell_type": "code",
   "execution_count": 2,
   "id": "3c1fa52c",
   "metadata": {
    "execution": {
     "iopub.execute_input": "2024-07-23T14:42:35.089513Z",
     "iopub.status.busy": "2024-07-23T14:42:35.089003Z",
     "iopub.status.idle": "2024-07-23T14:42:36.445704Z",
     "shell.execute_reply": "2024-07-23T14:42:36.444532Z"
    },
    "papermill": {
     "duration": 1.384243,
     "end_time": "2024-07-23T14:42:36.448518",
     "exception": false,
     "start_time": "2024-07-23T14:42:35.064275",
     "status": "completed"
    },
    "tags": []
   },
   "outputs": [],
   "source": [
    "import seaborn as sns\n",
    "import matplotlib.pyplot as plt\n",
    "import re"
   ]
  },
  {
   "cell_type": "code",
   "execution_count": 3,
   "id": "c6272e78",
   "metadata": {
    "execution": {
     "iopub.execute_input": "2024-07-23T14:42:36.497960Z",
     "iopub.status.busy": "2024-07-23T14:42:36.497554Z",
     "iopub.status.idle": "2024-07-23T14:42:37.496287Z",
     "shell.execute_reply": "2024-07-23T14:42:37.495237Z"
    },
    "papermill": {
     "duration": 1.026296,
     "end_time": "2024-07-23T14:42:37.499119",
     "exception": false,
     "start_time": "2024-07-23T14:42:36.472823",
     "status": "completed"
    },
    "tags": []
   },
   "outputs": [],
   "source": [
    "import nltk\n",
    "from nltk.corpus import stopwords"
   ]
  },
  {
   "cell_type": "code",
   "execution_count": 4,
   "id": "a42f67a0",
   "metadata": {
    "execution": {
     "iopub.execute_input": "2024-07-23T14:42:37.549620Z",
     "iopub.status.busy": "2024-07-23T14:42:37.548635Z",
     "iopub.status.idle": "2024-07-23T14:42:38.846926Z",
     "shell.execute_reply": "2024-07-23T14:42:38.845605Z"
    },
    "papermill": {
     "duration": 1.326806,
     "end_time": "2024-07-23T14:42:38.849870",
     "exception": false,
     "start_time": "2024-07-23T14:42:37.523064",
     "status": "completed"
    },
    "tags": []
   },
   "outputs": [],
   "source": [
    "df = pd.read_csv(filepath)"
   ]
  },
  {
   "cell_type": "code",
   "execution_count": 5,
   "id": "0ca29c12",
   "metadata": {
    "execution": {
     "iopub.execute_input": "2024-07-23T14:42:38.900261Z",
     "iopub.status.busy": "2024-07-23T14:42:38.899232Z",
     "iopub.status.idle": "2024-07-23T14:42:38.928785Z",
     "shell.execute_reply": "2024-07-23T14:42:38.927689Z"
    },
    "papermill": {
     "duration": 0.057813,
     "end_time": "2024-07-23T14:42:38.931237",
     "exception": false,
     "start_time": "2024-07-23T14:42:38.873424",
     "status": "completed"
    },
    "tags": []
   },
   "outputs": [
    {
     "data": {
      "text/html": [
       "<div>\n",
       "<style scoped>\n",
       "    .dataframe tbody tr th:only-of-type {\n",
       "        vertical-align: middle;\n",
       "    }\n",
       "\n",
       "    .dataframe tbody tr th {\n",
       "        vertical-align: top;\n",
       "    }\n",
       "\n",
       "    .dataframe thead th {\n",
       "        text-align: right;\n",
       "    }\n",
       "</style>\n",
       "<table border=\"1\" class=\"dataframe\">\n",
       "  <thead>\n",
       "    <tr style=\"text-align: right;\">\n",
       "      <th></th>\n",
       "      <th>reviewId</th>\n",
       "      <th>userName</th>\n",
       "      <th>content</th>\n",
       "      <th>score</th>\n",
       "      <th>thumbsUpCount</th>\n",
       "      <th>reviewCreatedVersion</th>\n",
       "      <th>at</th>\n",
       "      <th>appVersion</th>\n",
       "    </tr>\n",
       "  </thead>\n",
       "  <tbody>\n",
       "    <tr>\n",
       "      <th>0</th>\n",
       "      <td>437314fe-1b1d-4352-abea-12fec30fce58</td>\n",
       "      <td>Rajib Das</td>\n",
       "      <td>It's good</td>\n",
       "      <td>4</td>\n",
       "      <td>0</td>\n",
       "      <td>NaN</td>\n",
       "      <td>2024-05-09 16:28:13</td>\n",
       "      <td>NaN</td>\n",
       "    </tr>\n",
       "    <tr>\n",
       "      <th>1</th>\n",
       "      <td>4933ad2c-c70a-4a84-957d-d405439b2e0f</td>\n",
       "      <td>Mihaela Claudia Neagu</td>\n",
       "      <td>I love this app so much, I've been using Spoti...</td>\n",
       "      <td>5</td>\n",
       "      <td>0</td>\n",
       "      <td>8.9.38.494</td>\n",
       "      <td>2024-05-09 16:27:18</td>\n",
       "      <td>8.9.38.494</td>\n",
       "    </tr>\n",
       "    <tr>\n",
       "      <th>2</th>\n",
       "      <td>1ab275fb-59bf-42c7-88ef-b85901f0445e</td>\n",
       "      <td>JONATHAN GRACIA</td>\n",
       "      <td>Perfect</td>\n",
       "      <td>5</td>\n",
       "      <td>0</td>\n",
       "      <td>8.9.36.616</td>\n",
       "      <td>2024-05-09 16:27:03</td>\n",
       "      <td>8.9.36.616</td>\n",
       "    </tr>\n",
       "    <tr>\n",
       "      <th>3</th>\n",
       "      <td>b38406eb-7b11-4ceb-a45c-d7f28fb5d382</td>\n",
       "      <td>Cam Rempel</td>\n",
       "      <td>Best all around music streaming app I have use...</td>\n",
       "      <td>5</td>\n",
       "      <td>0</td>\n",
       "      <td>8.9.38.494</td>\n",
       "      <td>2024-05-09 16:26:19</td>\n",
       "      <td>8.9.38.494</td>\n",
       "    </tr>\n",
       "    <tr>\n",
       "      <th>4</th>\n",
       "      <td>7be7999d-4cb6-47b9-8414-d7bdaa9df578</td>\n",
       "      <td>Your clowness (Her Clowness)</td>\n",
       "      <td>Are y'all fr gatekeeping the play button on so...</td>\n",
       "      <td>1</td>\n",
       "      <td>0</td>\n",
       "      <td>8.9.38.494</td>\n",
       "      <td>2024-05-09 16:26:14</td>\n",
       "      <td>8.9.38.494</td>\n",
       "    </tr>\n",
       "    <tr>\n",
       "      <th>...</th>\n",
       "      <td>...</td>\n",
       "      <td>...</td>\n",
       "      <td>...</td>\n",
       "      <td>...</td>\n",
       "      <td>...</td>\n",
       "      <td>...</td>\n",
       "      <td>...</td>\n",
       "      <td>...</td>\n",
       "    </tr>\n",
       "    <tr>\n",
       "      <th>84160</th>\n",
       "      <td>b41ccea7-2805-458a-bd70-547ff07ddb95</td>\n",
       "      <td>Marlena Scott</td>\n",
       "      <td>The most decent music streaming app around rig...</td>\n",
       "      <td>3</td>\n",
       "      <td>2</td>\n",
       "      <td>8.5.55.1105</td>\n",
       "      <td>2020-04-30 10:02:07</td>\n",
       "      <td>8.5.55.1105</td>\n",
       "    </tr>\n",
       "    <tr>\n",
       "      <th>84161</th>\n",
       "      <td>456cbd4f-d9b5-4d7b-8a7d-caab7593431e</td>\n",
       "      <td>A Google user</td>\n",
       "      <td>As a premium user for a few years, Spotify is ...</td>\n",
       "      <td>4</td>\n",
       "      <td>0</td>\n",
       "      <td>8.5.27.957</td>\n",
       "      <td>2019-10-11 16:28:13</td>\n",
       "      <td>8.5.27.957</td>\n",
       "    </tr>\n",
       "    <tr>\n",
       "      <th>84162</th>\n",
       "      <td>33317821-01e1-4207-964f-ae8109a0d6b3</td>\n",
       "      <td>Supriya Deepak</td>\n",
       "      <td>There is lot of ads all of a sudden, and it's ...</td>\n",
       "      <td>3</td>\n",
       "      <td>0</td>\n",
       "      <td>NaN</td>\n",
       "      <td>2020-11-27 14:14:34</td>\n",
       "      <td>NaN</td>\n",
       "    </tr>\n",
       "    <tr>\n",
       "      <th>84163</th>\n",
       "      <td>98acdcd9-a1e8-4d49-9fc8-1aee84d14383</td>\n",
       "      <td>A Google user</td>\n",
       "      <td>The UI could be better. I think there should b...</td>\n",
       "      <td>4</td>\n",
       "      <td>1</td>\n",
       "      <td>8.5.49.973</td>\n",
       "      <td>2020-03-28 03:50:24</td>\n",
       "      <td>8.5.49.973</td>\n",
       "    </tr>\n",
       "    <tr>\n",
       "      <th>84164</th>\n",
       "      <td>4263fcac-7aac-464c-b007-a7a25797b9df</td>\n",
       "      <td>lewis matley</td>\n",
       "      <td>It was good till I couldn't listen to the musi...</td>\n",
       "      <td>1</td>\n",
       "      <td>0</td>\n",
       "      <td>8.5.60.1013</td>\n",
       "      <td>2020-06-13 03:27:52</td>\n",
       "      <td>8.5.60.1013</td>\n",
       "    </tr>\n",
       "  </tbody>\n",
       "</table>\n",
       "<p>84165 rows × 8 columns</p>\n",
       "</div>"
      ],
      "text/plain": [
       "                                   reviewId                      userName  \\\n",
       "0      437314fe-1b1d-4352-abea-12fec30fce58                     Rajib Das   \n",
       "1      4933ad2c-c70a-4a84-957d-d405439b2e0f         Mihaela Claudia Neagu   \n",
       "2      1ab275fb-59bf-42c7-88ef-b85901f0445e               JONATHAN GRACIA   \n",
       "3      b38406eb-7b11-4ceb-a45c-d7f28fb5d382                    Cam Rempel   \n",
       "4      7be7999d-4cb6-47b9-8414-d7bdaa9df578  Your clowness (Her Clowness)   \n",
       "...                                     ...                           ...   \n",
       "84160  b41ccea7-2805-458a-bd70-547ff07ddb95                 Marlena Scott   \n",
       "84161  456cbd4f-d9b5-4d7b-8a7d-caab7593431e                 A Google user   \n",
       "84162  33317821-01e1-4207-964f-ae8109a0d6b3                Supriya Deepak   \n",
       "84163  98acdcd9-a1e8-4d49-9fc8-1aee84d14383                 A Google user   \n",
       "84164  4263fcac-7aac-464c-b007-a7a25797b9df                  lewis matley   \n",
       "\n",
       "                                                 content  score  \\\n",
       "0                                              It's good      4   \n",
       "1      I love this app so much, I've been using Spoti...      5   \n",
       "2                                                Perfect      5   \n",
       "3      Best all around music streaming app I have use...      5   \n",
       "4      Are y'all fr gatekeeping the play button on so...      1   \n",
       "...                                                  ...    ...   \n",
       "84160  The most decent music streaming app around rig...      3   \n",
       "84161  As a premium user for a few years, Spotify is ...      4   \n",
       "84162  There is lot of ads all of a sudden, and it's ...      3   \n",
       "84163  The UI could be better. I think there should b...      4   \n",
       "84164  It was good till I couldn't listen to the musi...      1   \n",
       "\n",
       "       thumbsUpCount reviewCreatedVersion                   at   appVersion  \n",
       "0                  0                  NaN  2024-05-09 16:28:13          NaN  \n",
       "1                  0           8.9.38.494  2024-05-09 16:27:18   8.9.38.494  \n",
       "2                  0           8.9.36.616  2024-05-09 16:27:03   8.9.36.616  \n",
       "3                  0           8.9.38.494  2024-05-09 16:26:19   8.9.38.494  \n",
       "4                  0           8.9.38.494  2024-05-09 16:26:14   8.9.38.494  \n",
       "...              ...                  ...                  ...          ...  \n",
       "84160              2          8.5.55.1105  2020-04-30 10:02:07  8.5.55.1105  \n",
       "84161              0           8.5.27.957  2019-10-11 16:28:13   8.5.27.957  \n",
       "84162              0                  NaN  2020-11-27 14:14:34          NaN  \n",
       "84163              1           8.5.49.973  2020-03-28 03:50:24   8.5.49.973  \n",
       "84164              0          8.5.60.1013  2020-06-13 03:27:52  8.5.60.1013  \n",
       "\n",
       "[84165 rows x 8 columns]"
      ]
     },
     "execution_count": 5,
     "metadata": {},
     "output_type": "execute_result"
    }
   ],
   "source": [
    "df"
   ]
  },
  {
   "cell_type": "code",
   "execution_count": 6,
   "id": "93dc6f11",
   "metadata": {
    "execution": {
     "iopub.execute_input": "2024-07-23T14:42:38.980976Z",
     "iopub.status.busy": "2024-07-23T14:42:38.980583Z",
     "iopub.status.idle": "2024-07-23T14:42:38.988068Z",
     "shell.execute_reply": "2024-07-23T14:42:38.986909Z"
    },
    "papermill": {
     "duration": 0.035267,
     "end_time": "2024-07-23T14:42:38.990530",
     "exception": false,
     "start_time": "2024-07-23T14:42:38.955263",
     "status": "completed"
    },
    "tags": []
   },
   "outputs": [
    {
     "data": {
      "text/plain": [
       "Index(['reviewId', 'userName', 'content', 'score', 'thumbsUpCount',\n",
       "       'reviewCreatedVersion', 'at', 'appVersion'],\n",
       "      dtype='object')"
      ]
     },
     "execution_count": 6,
     "metadata": {},
     "output_type": "execute_result"
    }
   ],
   "source": [
    "df.columns"
   ]
  },
  {
   "cell_type": "code",
   "execution_count": 7,
   "id": "1da24c91",
   "metadata": {
    "execution": {
     "iopub.execute_input": "2024-07-23T14:42:39.040559Z",
     "iopub.status.busy": "2024-07-23T14:42:39.039714Z",
     "iopub.status.idle": "2024-07-23T14:42:39.120804Z",
     "shell.execute_reply": "2024-07-23T14:42:39.119463Z"
    },
    "papermill": {
     "duration": 0.109287,
     "end_time": "2024-07-23T14:42:39.123876",
     "exception": false,
     "start_time": "2024-07-23T14:42:39.014589",
     "status": "completed"
    },
    "tags": []
   },
   "outputs": [
    {
     "name": "stdout",
     "output_type": "stream",
     "text": [
      "<class 'pandas.core.frame.DataFrame'>\n",
      "RangeIndex: 84165 entries, 0 to 84164\n",
      "Data columns (total 8 columns):\n",
      " #   Column                Non-Null Count  Dtype \n",
      "---  ------                --------------  ----- \n",
      " 0   reviewId              84165 non-null  object\n",
      " 1   userName              84161 non-null  object\n",
      " 2   content               84165 non-null  object\n",
      " 3   score                 84165 non-null  int64 \n",
      " 4   thumbsUpCount         84165 non-null  int64 \n",
      " 5   reviewCreatedVersion  78397 non-null  object\n",
      " 6   at                    84165 non-null  object\n",
      " 7   appVersion            78397 non-null  object\n",
      "dtypes: int64(2), object(6)\n",
      "memory usage: 5.1+ MB\n"
     ]
    }
   ],
   "source": [
    "df.info()"
   ]
  },
  {
   "cell_type": "code",
   "execution_count": 8,
   "id": "71075dcd",
   "metadata": {
    "execution": {
     "iopub.execute_input": "2024-07-23T14:42:39.175768Z",
     "iopub.status.busy": "2024-07-23T14:42:39.175344Z",
     "iopub.status.idle": "2024-07-23T14:42:39.190784Z",
     "shell.execute_reply": "2024-07-23T14:42:39.189392Z"
    },
    "papermill": {
     "duration": 0.044725,
     "end_time": "2024-07-23T14:42:39.193901",
     "exception": false,
     "start_time": "2024-07-23T14:42:39.149176",
     "status": "completed"
    },
    "tags": []
   },
   "outputs": [
    {
     "data": {
      "text/html": [
       "<div>\n",
       "<style scoped>\n",
       "    .dataframe tbody tr th:only-of-type {\n",
       "        vertical-align: middle;\n",
       "    }\n",
       "\n",
       "    .dataframe tbody tr th {\n",
       "        vertical-align: top;\n",
       "    }\n",
       "\n",
       "    .dataframe thead th {\n",
       "        text-align: right;\n",
       "    }\n",
       "</style>\n",
       "<table border=\"1\" class=\"dataframe\">\n",
       "  <thead>\n",
       "    <tr style=\"text-align: right;\">\n",
       "      <th></th>\n",
       "      <th>reviewId</th>\n",
       "      <th>userName</th>\n",
       "      <th>content</th>\n",
       "      <th>score</th>\n",
       "      <th>thumbsUpCount</th>\n",
       "      <th>reviewCreatedVersion</th>\n",
       "      <th>at</th>\n",
       "      <th>appVersion</th>\n",
       "    </tr>\n",
       "  </thead>\n",
       "  <tbody>\n",
       "    <tr>\n",
       "      <th>0</th>\n",
       "      <td>437314fe-1b1d-4352-abea-12fec30fce58</td>\n",
       "      <td>Rajib Das</td>\n",
       "      <td>It's good</td>\n",
       "      <td>4</td>\n",
       "      <td>0</td>\n",
       "      <td>NaN</td>\n",
       "      <td>2024-05-09 16:28:13</td>\n",
       "      <td>NaN</td>\n",
       "    </tr>\n",
       "    <tr>\n",
       "      <th>1</th>\n",
       "      <td>4933ad2c-c70a-4a84-957d-d405439b2e0f</td>\n",
       "      <td>Mihaela Claudia Neagu</td>\n",
       "      <td>I love this app so much, I've been using Spoti...</td>\n",
       "      <td>5</td>\n",
       "      <td>0</td>\n",
       "      <td>8.9.38.494</td>\n",
       "      <td>2024-05-09 16:27:18</td>\n",
       "      <td>8.9.38.494</td>\n",
       "    </tr>\n",
       "    <tr>\n",
       "      <th>2</th>\n",
       "      <td>1ab275fb-59bf-42c7-88ef-b85901f0445e</td>\n",
       "      <td>JONATHAN GRACIA</td>\n",
       "      <td>Perfect</td>\n",
       "      <td>5</td>\n",
       "      <td>0</td>\n",
       "      <td>8.9.36.616</td>\n",
       "      <td>2024-05-09 16:27:03</td>\n",
       "      <td>8.9.36.616</td>\n",
       "    </tr>\n",
       "    <tr>\n",
       "      <th>3</th>\n",
       "      <td>b38406eb-7b11-4ceb-a45c-d7f28fb5d382</td>\n",
       "      <td>Cam Rempel</td>\n",
       "      <td>Best all around music streaming app I have use...</td>\n",
       "      <td>5</td>\n",
       "      <td>0</td>\n",
       "      <td>8.9.38.494</td>\n",
       "      <td>2024-05-09 16:26:19</td>\n",
       "      <td>8.9.38.494</td>\n",
       "    </tr>\n",
       "    <tr>\n",
       "      <th>4</th>\n",
       "      <td>7be7999d-4cb6-47b9-8414-d7bdaa9df578</td>\n",
       "      <td>Your clowness (Her Clowness)</td>\n",
       "      <td>Are y'all fr gatekeeping the play button on so...</td>\n",
       "      <td>1</td>\n",
       "      <td>0</td>\n",
       "      <td>8.9.38.494</td>\n",
       "      <td>2024-05-09 16:26:14</td>\n",
       "      <td>8.9.38.494</td>\n",
       "    </tr>\n",
       "  </tbody>\n",
       "</table>\n",
       "</div>"
      ],
      "text/plain": [
       "                               reviewId                      userName  \\\n",
       "0  437314fe-1b1d-4352-abea-12fec30fce58                     Rajib Das   \n",
       "1  4933ad2c-c70a-4a84-957d-d405439b2e0f         Mihaela Claudia Neagu   \n",
       "2  1ab275fb-59bf-42c7-88ef-b85901f0445e               JONATHAN GRACIA   \n",
       "3  b38406eb-7b11-4ceb-a45c-d7f28fb5d382                    Cam Rempel   \n",
       "4  7be7999d-4cb6-47b9-8414-d7bdaa9df578  Your clowness (Her Clowness)   \n",
       "\n",
       "                                             content  score  thumbsUpCount  \\\n",
       "0                                          It's good      4              0   \n",
       "1  I love this app so much, I've been using Spoti...      5              0   \n",
       "2                                            Perfect      5              0   \n",
       "3  Best all around music streaming app I have use...      5              0   \n",
       "4  Are y'all fr gatekeeping the play button on so...      1              0   \n",
       "\n",
       "  reviewCreatedVersion                   at  appVersion  \n",
       "0                  NaN  2024-05-09 16:28:13         NaN  \n",
       "1           8.9.38.494  2024-05-09 16:27:18  8.9.38.494  \n",
       "2           8.9.36.616  2024-05-09 16:27:03  8.9.36.616  \n",
       "3           8.9.38.494  2024-05-09 16:26:19  8.9.38.494  \n",
       "4           8.9.38.494  2024-05-09 16:26:14  8.9.38.494  "
      ]
     },
     "execution_count": 8,
     "metadata": {},
     "output_type": "execute_result"
    }
   ],
   "source": [
    "df.head()"
   ]
  },
  {
   "cell_type": "code",
   "execution_count": 9,
   "id": "94c924bf",
   "metadata": {
    "execution": {
     "iopub.execute_input": "2024-07-23T14:42:39.257688Z",
     "iopub.status.busy": "2024-07-23T14:42:39.256463Z",
     "iopub.status.idle": "2024-07-23T14:42:39.263996Z",
     "shell.execute_reply": "2024-07-23T14:42:39.262642Z"
    },
    "papermill": {
     "duration": 0.041844,
     "end_time": "2024-07-23T14:42:39.266665",
     "exception": false,
     "start_time": "2024-07-23T14:42:39.224821",
     "status": "completed"
    },
    "tags": []
   },
   "outputs": [],
   "source": [
    "df.rename(columns={'thumbsUpCount':'likesOnReview',\n",
    "        'at':'reviewDate'},inplace=True)"
   ]
  },
  {
   "cell_type": "code",
   "execution_count": 10,
   "id": "fbdbaeba",
   "metadata": {
    "execution": {
     "iopub.execute_input": "2024-07-23T14:42:39.320581Z",
     "iopub.status.busy": "2024-07-23T14:42:39.319783Z",
     "iopub.status.idle": "2024-07-23T14:42:39.334097Z",
     "shell.execute_reply": "2024-07-23T14:42:39.332925Z"
    },
    "papermill": {
     "duration": 0.047516,
     "end_time": "2024-07-23T14:42:39.338480",
     "exception": false,
     "start_time": "2024-07-23T14:42:39.290964",
     "status": "completed"
    },
    "tags": []
   },
   "outputs": [],
   "source": [
    "df = df.drop('reviewCreatedVersion',axis=1)"
   ]
  },
  {
   "cell_type": "code",
   "execution_count": 11,
   "id": "f142440b",
   "metadata": {
    "execution": {
     "iopub.execute_input": "2024-07-23T14:42:39.404773Z",
     "iopub.status.busy": "2024-07-23T14:42:39.404341Z",
     "iopub.status.idle": "2024-07-23T14:42:39.418217Z",
     "shell.execute_reply": "2024-07-23T14:42:39.417084Z"
    },
    "papermill": {
     "duration": 0.049406,
     "end_time": "2024-07-23T14:42:39.420711",
     "exception": false,
     "start_time": "2024-07-23T14:42:39.371305",
     "status": "completed"
    },
    "tags": []
   },
   "outputs": [
    {
     "data": {
      "text/html": [
       "<div>\n",
       "<style scoped>\n",
       "    .dataframe tbody tr th:only-of-type {\n",
       "        vertical-align: middle;\n",
       "    }\n",
       "\n",
       "    .dataframe tbody tr th {\n",
       "        vertical-align: top;\n",
       "    }\n",
       "\n",
       "    .dataframe thead th {\n",
       "        text-align: right;\n",
       "    }\n",
       "</style>\n",
       "<table border=\"1\" class=\"dataframe\">\n",
       "  <thead>\n",
       "    <tr style=\"text-align: right;\">\n",
       "      <th></th>\n",
       "      <th>reviewId</th>\n",
       "      <th>userName</th>\n",
       "      <th>content</th>\n",
       "      <th>score</th>\n",
       "      <th>likesOnReview</th>\n",
       "      <th>reviewDate</th>\n",
       "      <th>appVersion</th>\n",
       "    </tr>\n",
       "  </thead>\n",
       "  <tbody>\n",
       "    <tr>\n",
       "      <th>0</th>\n",
       "      <td>437314fe-1b1d-4352-abea-12fec30fce58</td>\n",
       "      <td>Rajib Das</td>\n",
       "      <td>It's good</td>\n",
       "      <td>4</td>\n",
       "      <td>0</td>\n",
       "      <td>2024-05-09 16:28:13</td>\n",
       "      <td>NaN</td>\n",
       "    </tr>\n",
       "    <tr>\n",
       "      <th>1</th>\n",
       "      <td>4933ad2c-c70a-4a84-957d-d405439b2e0f</td>\n",
       "      <td>Mihaela Claudia Neagu</td>\n",
       "      <td>I love this app so much, I've been using Spoti...</td>\n",
       "      <td>5</td>\n",
       "      <td>0</td>\n",
       "      <td>2024-05-09 16:27:18</td>\n",
       "      <td>8.9.38.494</td>\n",
       "    </tr>\n",
       "    <tr>\n",
       "      <th>2</th>\n",
       "      <td>1ab275fb-59bf-42c7-88ef-b85901f0445e</td>\n",
       "      <td>JONATHAN GRACIA</td>\n",
       "      <td>Perfect</td>\n",
       "      <td>5</td>\n",
       "      <td>0</td>\n",
       "      <td>2024-05-09 16:27:03</td>\n",
       "      <td>8.9.36.616</td>\n",
       "    </tr>\n",
       "    <tr>\n",
       "      <th>3</th>\n",
       "      <td>b38406eb-7b11-4ceb-a45c-d7f28fb5d382</td>\n",
       "      <td>Cam Rempel</td>\n",
       "      <td>Best all around music streaming app I have use...</td>\n",
       "      <td>5</td>\n",
       "      <td>0</td>\n",
       "      <td>2024-05-09 16:26:19</td>\n",
       "      <td>8.9.38.494</td>\n",
       "    </tr>\n",
       "    <tr>\n",
       "      <th>4</th>\n",
       "      <td>7be7999d-4cb6-47b9-8414-d7bdaa9df578</td>\n",
       "      <td>Your clowness (Her Clowness)</td>\n",
       "      <td>Are y'all fr gatekeeping the play button on so...</td>\n",
       "      <td>1</td>\n",
       "      <td>0</td>\n",
       "      <td>2024-05-09 16:26:14</td>\n",
       "      <td>8.9.38.494</td>\n",
       "    </tr>\n",
       "  </tbody>\n",
       "</table>\n",
       "</div>"
      ],
      "text/plain": [
       "                               reviewId                      userName  \\\n",
       "0  437314fe-1b1d-4352-abea-12fec30fce58                     Rajib Das   \n",
       "1  4933ad2c-c70a-4a84-957d-d405439b2e0f         Mihaela Claudia Neagu   \n",
       "2  1ab275fb-59bf-42c7-88ef-b85901f0445e               JONATHAN GRACIA   \n",
       "3  b38406eb-7b11-4ceb-a45c-d7f28fb5d382                    Cam Rempel   \n",
       "4  7be7999d-4cb6-47b9-8414-d7bdaa9df578  Your clowness (Her Clowness)   \n",
       "\n",
       "                                             content  score  likesOnReview  \\\n",
       "0                                          It's good      4              0   \n",
       "1  I love this app so much, I've been using Spoti...      5              0   \n",
       "2                                            Perfect      5              0   \n",
       "3  Best all around music streaming app I have use...      5              0   \n",
       "4  Are y'all fr gatekeeping the play button on so...      1              0   \n",
       "\n",
       "            reviewDate  appVersion  \n",
       "0  2024-05-09 16:28:13         NaN  \n",
       "1  2024-05-09 16:27:18  8.9.38.494  \n",
       "2  2024-05-09 16:27:03  8.9.36.616  \n",
       "3  2024-05-09 16:26:19  8.9.38.494  \n",
       "4  2024-05-09 16:26:14  8.9.38.494  "
      ]
     },
     "execution_count": 11,
     "metadata": {},
     "output_type": "execute_result"
    }
   ],
   "source": [
    "df.head()"
   ]
  },
  {
   "cell_type": "code",
   "execution_count": 12,
   "id": "aca78a21",
   "metadata": {
    "execution": {
     "iopub.execute_input": "2024-07-23T14:42:39.471364Z",
     "iopub.status.busy": "2024-07-23T14:42:39.470935Z",
     "iopub.status.idle": "2024-07-23T14:42:39.498856Z",
     "shell.execute_reply": "2024-07-23T14:42:39.497668Z"
    },
    "papermill": {
     "duration": 0.056156,
     "end_time": "2024-07-23T14:42:39.501381",
     "exception": false,
     "start_time": "2024-07-23T14:42:39.445225",
     "status": "completed"
    },
    "tags": []
   },
   "outputs": [
    {
     "data": {
      "text/html": [
       "<div>\n",
       "<style scoped>\n",
       "    .dataframe tbody tr th:only-of-type {\n",
       "        vertical-align: middle;\n",
       "    }\n",
       "\n",
       "    .dataframe tbody tr th {\n",
       "        vertical-align: top;\n",
       "    }\n",
       "\n",
       "    .dataframe thead th {\n",
       "        text-align: right;\n",
       "    }\n",
       "</style>\n",
       "<table border=\"1\" class=\"dataframe\">\n",
       "  <thead>\n",
       "    <tr style=\"text-align: right;\">\n",
       "      <th></th>\n",
       "      <th>score</th>\n",
       "      <th>likesOnReview</th>\n",
       "    </tr>\n",
       "  </thead>\n",
       "  <tbody>\n",
       "    <tr>\n",
       "      <th>count</th>\n",
       "      <td>84165.000000</td>\n",
       "      <td>84165.000000</td>\n",
       "    </tr>\n",
       "    <tr>\n",
       "      <th>mean</th>\n",
       "      <td>2.439696</td>\n",
       "      <td>15.690097</td>\n",
       "    </tr>\n",
       "    <tr>\n",
       "      <th>std</th>\n",
       "      <td>1.508838</td>\n",
       "      <td>102.131869</td>\n",
       "    </tr>\n",
       "    <tr>\n",
       "      <th>min</th>\n",
       "      <td>1.000000</td>\n",
       "      <td>0.000000</td>\n",
       "    </tr>\n",
       "    <tr>\n",
       "      <th>25%</th>\n",
       "      <td>1.000000</td>\n",
       "      <td>0.000000</td>\n",
       "    </tr>\n",
       "    <tr>\n",
       "      <th>50%</th>\n",
       "      <td>2.000000</td>\n",
       "      <td>0.000000</td>\n",
       "    </tr>\n",
       "    <tr>\n",
       "      <th>75%</th>\n",
       "      <td>4.000000</td>\n",
       "      <td>4.000000</td>\n",
       "    </tr>\n",
       "    <tr>\n",
       "      <th>max</th>\n",
       "      <td>5.000000</td>\n",
       "      <td>9781.000000</td>\n",
       "    </tr>\n",
       "  </tbody>\n",
       "</table>\n",
       "</div>"
      ],
      "text/plain": [
       "              score  likesOnReview\n",
       "count  84165.000000   84165.000000\n",
       "mean       2.439696      15.690097\n",
       "std        1.508838     102.131869\n",
       "min        1.000000       0.000000\n",
       "25%        1.000000       0.000000\n",
       "50%        2.000000       0.000000\n",
       "75%        4.000000       4.000000\n",
       "max        5.000000    9781.000000"
      ]
     },
     "execution_count": 12,
     "metadata": {},
     "output_type": "execute_result"
    }
   ],
   "source": [
    "df.describe()"
   ]
  },
  {
   "cell_type": "markdown",
   "id": "67d04d7f",
   "metadata": {
    "papermill": {
     "duration": 0.02444,
     "end_time": "2024-07-23T14:42:39.550647",
     "exception": false,
     "start_time": "2024-07-23T14:42:39.526207",
     "status": "completed"
    },
    "tags": []
   },
   "source": [
    "## fixing username\n",
    "* removing non alphabetic characters\n",
    "* lower case"
   ]
  },
  {
   "cell_type": "code",
   "execution_count": 13,
   "id": "c719d86c",
   "metadata": {
    "execution": {
     "iopub.execute_input": "2024-07-23T14:42:39.602241Z",
     "iopub.status.busy": "2024-07-23T14:42:39.601686Z",
     "iopub.status.idle": "2024-07-23T14:42:39.904414Z",
     "shell.execute_reply": "2024-07-23T14:42:39.903352Z"
    },
    "papermill": {
     "duration": 0.331785,
     "end_time": "2024-07-23T14:42:39.907210",
     "exception": false,
     "start_time": "2024-07-23T14:42:39.575425",
     "status": "completed"
    },
    "tags": []
   },
   "outputs": [],
   "source": [
    "pattern = r'([a-zA-Z]+)'\n",
    "df['userName'] = df['userName'].str.extract(pattern)"
   ]
  },
  {
   "cell_type": "code",
   "execution_count": 14,
   "id": "dec701c7",
   "metadata": {
    "execution": {
     "iopub.execute_input": "2024-07-23T14:42:39.958910Z",
     "iopub.status.busy": "2024-07-23T14:42:39.958445Z",
     "iopub.status.idle": "2024-07-23T14:42:39.995567Z",
     "shell.execute_reply": "2024-07-23T14:42:39.994253Z"
    },
    "papermill": {
     "duration": 0.065832,
     "end_time": "2024-07-23T14:42:39.998129",
     "exception": false,
     "start_time": "2024-07-23T14:42:39.932297",
     "status": "completed"
    },
    "tags": []
   },
   "outputs": [
    {
     "data": {
      "text/html": [
       "<div>\n",
       "<style scoped>\n",
       "    .dataframe tbody tr th:only-of-type {\n",
       "        vertical-align: middle;\n",
       "    }\n",
       "\n",
       "    .dataframe tbody tr th {\n",
       "        vertical-align: top;\n",
       "    }\n",
       "\n",
       "    .dataframe thead th {\n",
       "        text-align: right;\n",
       "    }\n",
       "</style>\n",
       "<table border=\"1\" class=\"dataframe\">\n",
       "  <thead>\n",
       "    <tr style=\"text-align: right;\">\n",
       "      <th></th>\n",
       "      <th>reviewId</th>\n",
       "      <th>userName</th>\n",
       "      <th>content</th>\n",
       "      <th>score</th>\n",
       "      <th>likesOnReview</th>\n",
       "      <th>reviewDate</th>\n",
       "      <th>appVersion</th>\n",
       "    </tr>\n",
       "  </thead>\n",
       "  <tbody>\n",
       "    <tr>\n",
       "      <th>0</th>\n",
       "      <td>437314fe-1b1d-4352-abea-12fec30fce58</td>\n",
       "      <td>rajib</td>\n",
       "      <td>It's good</td>\n",
       "      <td>4</td>\n",
       "      <td>0</td>\n",
       "      <td>2024-05-09 16:28:13</td>\n",
       "      <td>NaN</td>\n",
       "    </tr>\n",
       "    <tr>\n",
       "      <th>1</th>\n",
       "      <td>4933ad2c-c70a-4a84-957d-d405439b2e0f</td>\n",
       "      <td>mihaela</td>\n",
       "      <td>I love this app so much, I've been using Spoti...</td>\n",
       "      <td>5</td>\n",
       "      <td>0</td>\n",
       "      <td>2024-05-09 16:27:18</td>\n",
       "      <td>8.9.38.494</td>\n",
       "    </tr>\n",
       "    <tr>\n",
       "      <th>2</th>\n",
       "      <td>1ab275fb-59bf-42c7-88ef-b85901f0445e</td>\n",
       "      <td>jonathan</td>\n",
       "      <td>Perfect</td>\n",
       "      <td>5</td>\n",
       "      <td>0</td>\n",
       "      <td>2024-05-09 16:27:03</td>\n",
       "      <td>8.9.36.616</td>\n",
       "    </tr>\n",
       "    <tr>\n",
       "      <th>3</th>\n",
       "      <td>b38406eb-7b11-4ceb-a45c-d7f28fb5d382</td>\n",
       "      <td>cam</td>\n",
       "      <td>Best all around music streaming app I have use...</td>\n",
       "      <td>5</td>\n",
       "      <td>0</td>\n",
       "      <td>2024-05-09 16:26:19</td>\n",
       "      <td>8.9.38.494</td>\n",
       "    </tr>\n",
       "    <tr>\n",
       "      <th>4</th>\n",
       "      <td>7be7999d-4cb6-47b9-8414-d7bdaa9df578</td>\n",
       "      <td>your</td>\n",
       "      <td>Are y'all fr gatekeeping the play button on so...</td>\n",
       "      <td>1</td>\n",
       "      <td>0</td>\n",
       "      <td>2024-05-09 16:26:14</td>\n",
       "      <td>8.9.38.494</td>\n",
       "    </tr>\n",
       "  </tbody>\n",
       "</table>\n",
       "</div>"
      ],
      "text/plain": [
       "                               reviewId  userName  \\\n",
       "0  437314fe-1b1d-4352-abea-12fec30fce58     rajib   \n",
       "1  4933ad2c-c70a-4a84-957d-d405439b2e0f   mihaela   \n",
       "2  1ab275fb-59bf-42c7-88ef-b85901f0445e  jonathan   \n",
       "3  b38406eb-7b11-4ceb-a45c-d7f28fb5d382       cam   \n",
       "4  7be7999d-4cb6-47b9-8414-d7bdaa9df578      your   \n",
       "\n",
       "                                             content  score  likesOnReview  \\\n",
       "0                                          It's good      4              0   \n",
       "1  I love this app so much, I've been using Spoti...      5              0   \n",
       "2                                            Perfect      5              0   \n",
       "3  Best all around music streaming app I have use...      5              0   \n",
       "4  Are y'all fr gatekeeping the play button on so...      1              0   \n",
       "\n",
       "            reviewDate  appVersion  \n",
       "0  2024-05-09 16:28:13         NaN  \n",
       "1  2024-05-09 16:27:18  8.9.38.494  \n",
       "2  2024-05-09 16:27:03  8.9.36.616  \n",
       "3  2024-05-09 16:26:19  8.9.38.494  \n",
       "4  2024-05-09 16:26:14  8.9.38.494  "
      ]
     },
     "execution_count": 14,
     "metadata": {},
     "output_type": "execute_result"
    }
   ],
   "source": [
    "df['userName'] = df['userName'].str.lower()\n",
    "df.head()"
   ]
  },
  {
   "cell_type": "markdown",
   "id": "48b16840",
   "metadata": {
    "papermill": {
     "duration": 0.03227,
     "end_time": "2024-07-23T14:42:40.055531",
     "exception": false,
     "start_time": "2024-07-23T14:42:40.023261",
     "status": "completed"
    },
    "tags": []
   },
   "source": [
    "### fixing index\n",
    "* removed original review id column\n",
    "* added new review id col"
   ]
  },
  {
   "cell_type": "code",
   "execution_count": 15,
   "id": "15baa26f",
   "metadata": {
    "execution": {
     "iopub.execute_input": "2024-07-23T14:42:40.113180Z",
     "iopub.status.busy": "2024-07-23T14:42:40.112781Z",
     "iopub.status.idle": "2024-07-23T14:42:40.127007Z",
     "shell.execute_reply": "2024-07-23T14:42:40.125874Z"
    },
    "papermill": {
     "duration": 0.046212,
     "end_time": "2024-07-23T14:42:40.129375",
     "exception": false,
     "start_time": "2024-07-23T14:42:40.083163",
     "status": "completed"
    },
    "tags": []
   },
   "outputs": [
    {
     "data": {
      "text/html": [
       "<div>\n",
       "<style scoped>\n",
       "    .dataframe tbody tr th:only-of-type {\n",
       "        vertical-align: middle;\n",
       "    }\n",
       "\n",
       "    .dataframe tbody tr th {\n",
       "        vertical-align: top;\n",
       "    }\n",
       "\n",
       "    .dataframe thead th {\n",
       "        text-align: right;\n",
       "    }\n",
       "</style>\n",
       "<table border=\"1\" class=\"dataframe\">\n",
       "  <thead>\n",
       "    <tr style=\"text-align: right;\">\n",
       "      <th></th>\n",
       "      <th>reviewId</th>\n",
       "      <th>userName</th>\n",
       "      <th>content</th>\n",
       "      <th>score</th>\n",
       "      <th>likesOnReview</th>\n",
       "      <th>reviewDate</th>\n",
       "      <th>appVersion</th>\n",
       "    </tr>\n",
       "  </thead>\n",
       "  <tbody>\n",
       "    <tr>\n",
       "      <th>0</th>\n",
       "      <td>0</td>\n",
       "      <td>rajib</td>\n",
       "      <td>It's good</td>\n",
       "      <td>4</td>\n",
       "      <td>0</td>\n",
       "      <td>2024-05-09 16:28:13</td>\n",
       "      <td>NaN</td>\n",
       "    </tr>\n",
       "    <tr>\n",
       "      <th>1</th>\n",
       "      <td>1</td>\n",
       "      <td>mihaela</td>\n",
       "      <td>I love this app so much, I've been using Spoti...</td>\n",
       "      <td>5</td>\n",
       "      <td>0</td>\n",
       "      <td>2024-05-09 16:27:18</td>\n",
       "      <td>8.9.38.494</td>\n",
       "    </tr>\n",
       "    <tr>\n",
       "      <th>2</th>\n",
       "      <td>2</td>\n",
       "      <td>jonathan</td>\n",
       "      <td>Perfect</td>\n",
       "      <td>5</td>\n",
       "      <td>0</td>\n",
       "      <td>2024-05-09 16:27:03</td>\n",
       "      <td>8.9.36.616</td>\n",
       "    </tr>\n",
       "    <tr>\n",
       "      <th>3</th>\n",
       "      <td>3</td>\n",
       "      <td>cam</td>\n",
       "      <td>Best all around music streaming app I have use...</td>\n",
       "      <td>5</td>\n",
       "      <td>0</td>\n",
       "      <td>2024-05-09 16:26:19</td>\n",
       "      <td>8.9.38.494</td>\n",
       "    </tr>\n",
       "    <tr>\n",
       "      <th>4</th>\n",
       "      <td>4</td>\n",
       "      <td>your</td>\n",
       "      <td>Are y'all fr gatekeeping the play button on so...</td>\n",
       "      <td>1</td>\n",
       "      <td>0</td>\n",
       "      <td>2024-05-09 16:26:14</td>\n",
       "      <td>8.9.38.494</td>\n",
       "    </tr>\n",
       "  </tbody>\n",
       "</table>\n",
       "</div>"
      ],
      "text/plain": [
       "   reviewId  userName                                            content  \\\n",
       "0         0     rajib                                          It's good   \n",
       "1         1   mihaela  I love this app so much, I've been using Spoti...   \n",
       "2         2  jonathan                                            Perfect   \n",
       "3         3       cam  Best all around music streaming app I have use...   \n",
       "4         4      your  Are y'all fr gatekeeping the play button on so...   \n",
       "\n",
       "   score  likesOnReview           reviewDate  appVersion  \n",
       "0      4              0  2024-05-09 16:28:13         NaN  \n",
       "1      5              0  2024-05-09 16:27:18  8.9.38.494  \n",
       "2      5              0  2024-05-09 16:27:03  8.9.36.616  \n",
       "3      5              0  2024-05-09 16:26:19  8.9.38.494  \n",
       "4      1              0  2024-05-09 16:26:14  8.9.38.494  "
      ]
     },
     "execution_count": 15,
     "metadata": {},
     "output_type": "execute_result"
    }
   ],
   "source": [
    "df['reviewId'] =  range(len(df))\n",
    "df.head()"
   ]
  },
  {
   "cell_type": "markdown",
   "id": "0312898b",
   "metadata": {
    "papermill": {
     "duration": 0.026183,
     "end_time": "2024-07-23T14:42:40.182155",
     "exception": false,
     "start_time": "2024-07-23T14:42:40.155972",
     "status": "completed"
    },
    "tags": []
   },
   "source": [
    "### checking out score column"
   ]
  },
  {
   "cell_type": "code",
   "execution_count": 16,
   "id": "71486896",
   "metadata": {
    "execution": {
     "iopub.execute_input": "2024-07-23T14:42:40.235970Z",
     "iopub.status.busy": "2024-07-23T14:42:40.235487Z",
     "iopub.status.idle": "2024-07-23T14:42:40.249084Z",
     "shell.execute_reply": "2024-07-23T14:42:40.247948Z"
    },
    "papermill": {
     "duration": 0.044311,
     "end_time": "2024-07-23T14:42:40.252705",
     "exception": false,
     "start_time": "2024-07-23T14:42:40.208394",
     "status": "completed"
    },
    "tags": []
   },
   "outputs": [
    {
     "data": {
      "text/plain": [
       "count    84165.000000\n",
       "mean         2.439696\n",
       "std          1.508838\n",
       "min          1.000000\n",
       "25%          1.000000\n",
       "50%          2.000000\n",
       "75%          4.000000\n",
       "max          5.000000\n",
       "Name: score, dtype: float64"
      ]
     },
     "execution_count": 16,
     "metadata": {},
     "output_type": "execute_result"
    }
   ],
   "source": [
    "df['score'].describe()"
   ]
  },
  {
   "cell_type": "code",
   "execution_count": 17,
   "id": "db7fd036",
   "metadata": {
    "execution": {
     "iopub.execute_input": "2024-07-23T14:42:40.365091Z",
     "iopub.status.busy": "2024-07-23T14:42:40.364307Z",
     "iopub.status.idle": "2024-07-23T14:42:40.374961Z",
     "shell.execute_reply": "2024-07-23T14:42:40.373598Z"
    },
    "papermill": {
     "duration": 0.098313,
     "end_time": "2024-07-23T14:42:40.377730",
     "exception": false,
     "start_time": "2024-07-23T14:42:40.279417",
     "status": "completed"
    },
    "tags": []
   },
   "outputs": [
    {
     "name": "stdout",
     "output_type": "stream",
     "text": [
      "<class 'pandas.core.series.Series'>\n",
      "RangeIndex: 84165 entries, 0 to 84164\n",
      "Series name: score\n",
      "Non-Null Count  Dtype\n",
      "--------------  -----\n",
      "84165 non-null  int64\n",
      "dtypes: int64(1)\n",
      "memory usage: 657.7 KB\n"
     ]
    }
   ],
   "source": [
    "df['score'].info()"
   ]
  },
  {
   "cell_type": "markdown",
   "id": "145459c9",
   "metadata": {
    "papermill": {
     "duration": 0.026517,
     "end_time": "2024-07-23T14:42:40.431389",
     "exception": false,
     "start_time": "2024-07-23T14:42:40.404872",
     "status": "completed"
    },
    "tags": []
   },
   "source": [
    "### fixing review date\n",
    "* converting date to pandas datetime type"
   ]
  },
  {
   "cell_type": "code",
   "execution_count": 18,
   "id": "5311758c",
   "metadata": {
    "execution": {
     "iopub.execute_input": "2024-07-23T14:42:40.486808Z",
     "iopub.status.busy": "2024-07-23T14:42:40.486353Z",
     "iopub.status.idle": "2024-07-23T14:42:40.511896Z",
     "shell.execute_reply": "2024-07-23T14:42:40.510538Z"
    },
    "papermill": {
     "duration": 0.0567,
     "end_time": "2024-07-23T14:42:40.514551",
     "exception": false,
     "start_time": "2024-07-23T14:42:40.457851",
     "status": "completed"
    },
    "tags": []
   },
   "outputs": [
    {
     "name": "stdout",
     "output_type": "stream",
     "text": [
      "<class 'pandas.core.series.Series'>\n",
      "RangeIndex: 84165 entries, 0 to 84164\n",
      "Series name: reviewDate\n",
      "Non-Null Count  Dtype \n",
      "--------------  ----- \n",
      "84165 non-null  object\n",
      "dtypes: object(1)\n",
      "memory usage: 657.7+ KB\n"
     ]
    }
   ],
   "source": [
    "df['reviewDate'].info()"
   ]
  },
  {
   "cell_type": "code",
   "execution_count": 19,
   "id": "07d35d69",
   "metadata": {
    "execution": {
     "iopub.execute_input": "2024-07-23T14:42:40.570059Z",
     "iopub.status.busy": "2024-07-23T14:42:40.569651Z",
     "iopub.status.idle": "2024-07-23T14:42:40.669106Z",
     "shell.execute_reply": "2024-07-23T14:42:40.667861Z"
    },
    "papermill": {
     "duration": 0.129173,
     "end_time": "2024-07-23T14:42:40.671611",
     "exception": false,
     "start_time": "2024-07-23T14:42:40.542438",
     "status": "completed"
    },
    "tags": []
   },
   "outputs": [
    {
     "data": {
      "text/plain": [
       "count                   84165\n",
       "unique                  84083\n",
       "top       2024-03-13 16:09:44\n",
       "freq                        2\n",
       "Name: reviewDate, dtype: object"
      ]
     },
     "execution_count": 19,
     "metadata": {},
     "output_type": "execute_result"
    }
   ],
   "source": [
    "df['reviewDate'].describe()"
   ]
  },
  {
   "cell_type": "code",
   "execution_count": 20,
   "id": "fa315ce5",
   "metadata": {
    "execution": {
     "iopub.execute_input": "2024-07-23T14:42:40.725740Z",
     "iopub.status.busy": "2024-07-23T14:42:40.725260Z",
     "iopub.status.idle": "2024-07-23T14:42:40.734891Z",
     "shell.execute_reply": "2024-07-23T14:42:40.733582Z"
    },
    "papermill": {
     "duration": 0.039887,
     "end_time": "2024-07-23T14:42:40.737510",
     "exception": false,
     "start_time": "2024-07-23T14:42:40.697623",
     "status": "completed"
    },
    "tags": []
   },
   "outputs": [],
   "source": [
    "df['reviewDate'] = df['reviewDate'].astype(str)\n",
    "#df['reviewDate'] = pd.to_datetime(df['reviewDate'])"
   ]
  },
  {
   "cell_type": "markdown",
   "id": "2967886f",
   "metadata": {
    "papermill": {
     "duration": 0.025652,
     "end_time": "2024-07-23T14:42:40.789230",
     "exception": false,
     "start_time": "2024-07-23T14:42:40.763578",
     "status": "completed"
    },
    "tags": []
   },
   "source": [
    "#### splitting date and time into 2 separate columns\n"
   ]
  },
  {
   "cell_type": "code",
   "execution_count": 21,
   "id": "cb687d87",
   "metadata": {
    "execution": {
     "iopub.execute_input": "2024-07-23T14:42:40.843002Z",
     "iopub.status.busy": "2024-07-23T14:42:40.842593Z",
     "iopub.status.idle": "2024-07-23T14:42:41.345280Z",
     "shell.execute_reply": "2024-07-23T14:42:41.344178Z"
    },
    "papermill": {
     "duration": 0.53272,
     "end_time": "2024-07-23T14:42:41.348028",
     "exception": false,
     "start_time": "2024-07-23T14:42:40.815308",
     "status": "completed"
    },
    "tags": []
   },
   "outputs": [],
   "source": [
    "df['reviewTime'] = df['reviewDate'].str.split(' ').str[1]\n",
    "df['reviewDate'] = df['reviewDate'].str.split(' ').str[0]"
   ]
  },
  {
   "cell_type": "code",
   "execution_count": 22,
   "id": "d3ba7d20",
   "metadata": {
    "execution": {
     "iopub.execute_input": "2024-07-23T14:42:41.402503Z",
     "iopub.status.busy": "2024-07-23T14:42:41.402064Z",
     "iopub.status.idle": "2024-07-23T14:42:41.423810Z",
     "shell.execute_reply": "2024-07-23T14:42:41.422678Z"
    },
    "papermill": {
     "duration": 0.052026,
     "end_time": "2024-07-23T14:42:41.426246",
     "exception": false,
     "start_time": "2024-07-23T14:42:41.374220",
     "status": "completed"
    },
    "tags": []
   },
   "outputs": [
    {
     "data": {
      "text/html": [
       "<div>\n",
       "<style scoped>\n",
       "    .dataframe tbody tr th:only-of-type {\n",
       "        vertical-align: middle;\n",
       "    }\n",
       "\n",
       "    .dataframe tbody tr th {\n",
       "        vertical-align: top;\n",
       "    }\n",
       "\n",
       "    .dataframe thead th {\n",
       "        text-align: right;\n",
       "    }\n",
       "</style>\n",
       "<table border=\"1\" class=\"dataframe\">\n",
       "  <thead>\n",
       "    <tr style=\"text-align: right;\">\n",
       "      <th></th>\n",
       "      <th>reviewId</th>\n",
       "      <th>userName</th>\n",
       "      <th>content</th>\n",
       "      <th>score</th>\n",
       "      <th>likesOnReview</th>\n",
       "      <th>reviewDate</th>\n",
       "      <th>appVersion</th>\n",
       "      <th>reviewTime</th>\n",
       "    </tr>\n",
       "  </thead>\n",
       "  <tbody>\n",
       "    <tr>\n",
       "      <th>0</th>\n",
       "      <td>0</td>\n",
       "      <td>rajib</td>\n",
       "      <td>It's good</td>\n",
       "      <td>4</td>\n",
       "      <td>0</td>\n",
       "      <td>2024-05-09</td>\n",
       "      <td>NaN</td>\n",
       "      <td>16:28:13</td>\n",
       "    </tr>\n",
       "    <tr>\n",
       "      <th>1</th>\n",
       "      <td>1</td>\n",
       "      <td>mihaela</td>\n",
       "      <td>I love this app so much, I've been using Spoti...</td>\n",
       "      <td>5</td>\n",
       "      <td>0</td>\n",
       "      <td>2024-05-09</td>\n",
       "      <td>8.9.38.494</td>\n",
       "      <td>16:27:18</td>\n",
       "    </tr>\n",
       "    <tr>\n",
       "      <th>2</th>\n",
       "      <td>2</td>\n",
       "      <td>jonathan</td>\n",
       "      <td>Perfect</td>\n",
       "      <td>5</td>\n",
       "      <td>0</td>\n",
       "      <td>2024-05-09</td>\n",
       "      <td>8.9.36.616</td>\n",
       "      <td>16:27:03</td>\n",
       "    </tr>\n",
       "    <tr>\n",
       "      <th>3</th>\n",
       "      <td>3</td>\n",
       "      <td>cam</td>\n",
       "      <td>Best all around music streaming app I have use...</td>\n",
       "      <td>5</td>\n",
       "      <td>0</td>\n",
       "      <td>2024-05-09</td>\n",
       "      <td>8.9.38.494</td>\n",
       "      <td>16:26:19</td>\n",
       "    </tr>\n",
       "    <tr>\n",
       "      <th>4</th>\n",
       "      <td>4</td>\n",
       "      <td>your</td>\n",
       "      <td>Are y'all fr gatekeeping the play button on so...</td>\n",
       "      <td>1</td>\n",
       "      <td>0</td>\n",
       "      <td>2024-05-09</td>\n",
       "      <td>8.9.38.494</td>\n",
       "      <td>16:26:14</td>\n",
       "    </tr>\n",
       "  </tbody>\n",
       "</table>\n",
       "</div>"
      ],
      "text/plain": [
       "   reviewId  userName                                            content  \\\n",
       "0         0     rajib                                          It's good   \n",
       "1         1   mihaela  I love this app so much, I've been using Spoti...   \n",
       "2         2  jonathan                                            Perfect   \n",
       "3         3       cam  Best all around music streaming app I have use...   \n",
       "4         4      your  Are y'all fr gatekeeping the play button on so...   \n",
       "\n",
       "   score  likesOnReview  reviewDate  appVersion reviewTime  \n",
       "0      4              0  2024-05-09         NaN   16:28:13  \n",
       "1      5              0  2024-05-09  8.9.38.494   16:27:18  \n",
       "2      5              0  2024-05-09  8.9.36.616   16:27:03  \n",
       "3      5              0  2024-05-09  8.9.38.494   16:26:19  \n",
       "4      1              0  2024-05-09  8.9.38.494   16:26:14  "
      ]
     },
     "execution_count": 22,
     "metadata": {},
     "output_type": "execute_result"
    }
   ],
   "source": [
    "df.head()"
   ]
  },
  {
   "cell_type": "markdown",
   "id": "ecea5c57",
   "metadata": {
    "papermill": {
     "duration": 0.026513,
     "end_time": "2024-07-23T14:42:41.480458",
     "exception": false,
     "start_time": "2024-07-23T14:42:41.453945",
     "status": "completed"
    },
    "tags": []
   },
   "source": [
    "### fixing app version"
   ]
  },
  {
   "cell_type": "code",
   "execution_count": 23,
   "id": "1e30c961",
   "metadata": {
    "execution": {
     "iopub.execute_input": "2024-07-23T14:42:41.536354Z",
     "iopub.status.busy": "2024-07-23T14:42:41.535912Z",
     "iopub.status.idle": "2024-07-23T14:42:41.566399Z",
     "shell.execute_reply": "2024-07-23T14:42:41.565331Z"
    },
    "papermill": {
     "duration": 0.061751,
     "end_time": "2024-07-23T14:42:41.569090",
     "exception": false,
     "start_time": "2024-07-23T14:42:41.507339",
     "status": "completed"
    },
    "tags": []
   },
   "outputs": [],
   "source": [
    "df['appVersion'] = df['appVersion'].fillna(df['appVersion'].mode()[0])"
   ]
  },
  {
   "cell_type": "code",
   "execution_count": 24,
   "id": "720cc364",
   "metadata": {
    "execution": {
     "iopub.execute_input": "2024-07-23T14:42:41.625392Z",
     "iopub.status.busy": "2024-07-23T14:42:41.624982Z",
     "iopub.status.idle": "2024-07-23T14:42:41.639182Z",
     "shell.execute_reply": "2024-07-23T14:42:41.638093Z"
    },
    "papermill": {
     "duration": 0.045668,
     "end_time": "2024-07-23T14:42:41.641560",
     "exception": false,
     "start_time": "2024-07-23T14:42:41.595892",
     "status": "completed"
    },
    "tags": []
   },
   "outputs": [
    {
     "data": {
      "text/html": [
       "<div>\n",
       "<style scoped>\n",
       "    .dataframe tbody tr th:only-of-type {\n",
       "        vertical-align: middle;\n",
       "    }\n",
       "\n",
       "    .dataframe tbody tr th {\n",
       "        vertical-align: top;\n",
       "    }\n",
       "\n",
       "    .dataframe thead th {\n",
       "        text-align: right;\n",
       "    }\n",
       "</style>\n",
       "<table border=\"1\" class=\"dataframe\">\n",
       "  <thead>\n",
       "    <tr style=\"text-align: right;\">\n",
       "      <th></th>\n",
       "      <th>reviewId</th>\n",
       "      <th>userName</th>\n",
       "      <th>content</th>\n",
       "      <th>score</th>\n",
       "      <th>likesOnReview</th>\n",
       "      <th>reviewDate</th>\n",
       "      <th>appVersion</th>\n",
       "      <th>reviewTime</th>\n",
       "    </tr>\n",
       "  </thead>\n",
       "  <tbody>\n",
       "    <tr>\n",
       "      <th>0</th>\n",
       "      <td>0</td>\n",
       "      <td>rajib</td>\n",
       "      <td>It's good</td>\n",
       "      <td>4</td>\n",
       "      <td>0</td>\n",
       "      <td>2024-05-09</td>\n",
       "      <td>8.8.96.364</td>\n",
       "      <td>16:28:13</td>\n",
       "    </tr>\n",
       "    <tr>\n",
       "      <th>1</th>\n",
       "      <td>1</td>\n",
       "      <td>mihaela</td>\n",
       "      <td>I love this app so much, I've been using Spoti...</td>\n",
       "      <td>5</td>\n",
       "      <td>0</td>\n",
       "      <td>2024-05-09</td>\n",
       "      <td>8.9.38.494</td>\n",
       "      <td>16:27:18</td>\n",
       "    </tr>\n",
       "    <tr>\n",
       "      <th>2</th>\n",
       "      <td>2</td>\n",
       "      <td>jonathan</td>\n",
       "      <td>Perfect</td>\n",
       "      <td>5</td>\n",
       "      <td>0</td>\n",
       "      <td>2024-05-09</td>\n",
       "      <td>8.9.36.616</td>\n",
       "      <td>16:27:03</td>\n",
       "    </tr>\n",
       "    <tr>\n",
       "      <th>3</th>\n",
       "      <td>3</td>\n",
       "      <td>cam</td>\n",
       "      <td>Best all around music streaming app I have use...</td>\n",
       "      <td>5</td>\n",
       "      <td>0</td>\n",
       "      <td>2024-05-09</td>\n",
       "      <td>8.9.38.494</td>\n",
       "      <td>16:26:19</td>\n",
       "    </tr>\n",
       "    <tr>\n",
       "      <th>4</th>\n",
       "      <td>4</td>\n",
       "      <td>your</td>\n",
       "      <td>Are y'all fr gatekeeping the play button on so...</td>\n",
       "      <td>1</td>\n",
       "      <td>0</td>\n",
       "      <td>2024-05-09</td>\n",
       "      <td>8.9.38.494</td>\n",
       "      <td>16:26:14</td>\n",
       "    </tr>\n",
       "  </tbody>\n",
       "</table>\n",
       "</div>"
      ],
      "text/plain": [
       "   reviewId  userName                                            content  \\\n",
       "0         0     rajib                                          It's good   \n",
       "1         1   mihaela  I love this app so much, I've been using Spoti...   \n",
       "2         2  jonathan                                            Perfect   \n",
       "3         3       cam  Best all around music streaming app I have use...   \n",
       "4         4      your  Are y'all fr gatekeeping the play button on so...   \n",
       "\n",
       "   score  likesOnReview  reviewDate  appVersion reviewTime  \n",
       "0      4              0  2024-05-09  8.8.96.364   16:28:13  \n",
       "1      5              0  2024-05-09  8.9.38.494   16:27:18  \n",
       "2      5              0  2024-05-09  8.9.36.616   16:27:03  \n",
       "3      5              0  2024-05-09  8.9.38.494   16:26:19  \n",
       "4      1              0  2024-05-09  8.9.38.494   16:26:14  "
      ]
     },
     "execution_count": 24,
     "metadata": {},
     "output_type": "execute_result"
    }
   ],
   "source": [
    "df.head()"
   ]
  },
  {
   "cell_type": "markdown",
   "id": "db5f2a1d",
   "metadata": {
    "papermill": {
     "duration": 0.026606,
     "end_time": "2024-07-23T14:42:41.696130",
     "exception": false,
     "start_time": "2024-07-23T14:42:41.669524",
     "status": "completed"
    },
    "tags": []
   },
   "source": [
    "## dealing with outliers\n",
    "    "
   ]
  },
  {
   "cell_type": "code",
   "execution_count": 25,
   "id": "ae1fd967",
   "metadata": {
    "execution": {
     "iopub.execute_input": "2024-07-23T14:42:41.750950Z",
     "iopub.status.busy": "2024-07-23T14:42:41.750488Z",
     "iopub.status.idle": "2024-07-23T14:42:41.833625Z",
     "shell.execute_reply": "2024-07-23T14:42:41.832409Z"
    },
    "papermill": {
     "duration": 0.11356,
     "end_time": "2024-07-23T14:42:41.836125",
     "exception": false,
     "start_time": "2024-07-23T14:42:41.722565",
     "status": "completed"
    },
    "tags": []
   },
   "outputs": [
    {
     "data": {
      "text/plain": [
       "userName\n",
       "a             12786\n",
       "david           436\n",
       "john            398\n",
       "michael         397\n",
       "james           319\n",
       "              ...  \n",
       "itme              1\n",
       "itmareli          1\n",
       "itit              1\n",
       "itisdarren        1\n",
       "zzz               1\n",
       "Name: reviewId, Length: 24266, dtype: int64"
      ]
     },
     "execution_count": 25,
     "metadata": {},
     "output_type": "execute_result"
    }
   ],
   "source": [
    "grouped = df.groupby(by='userName')['reviewId'].count().sort_values(ascending=False)\n",
    "grouped"
   ]
  },
  {
   "cell_type": "markdown",
   "id": "2338b13b",
   "metadata": {
    "papermill": {
     "duration": 0.026802,
     "end_time": "2024-07-23T14:42:41.890202",
     "exception": false,
     "start_time": "2024-07-23T14:42:41.863400",
     "status": "completed"
    },
    "tags": []
   },
   "source": [
    "#### removing partial outlier while retaining review of the outlier in a sep var"
   ]
  },
  {
   "cell_type": "code",
   "execution_count": 26,
   "id": "63f7142c",
   "metadata": {
    "execution": {
     "iopub.execute_input": "2024-07-23T14:42:41.947218Z",
     "iopub.status.busy": "2024-07-23T14:42:41.946149Z",
     "iopub.status.idle": "2024-07-23T14:42:41.961475Z",
     "shell.execute_reply": "2024-07-23T14:42:41.959933Z"
    },
    "papermill": {
     "duration": 0.04642,
     "end_time": "2024-07-23T14:42:41.964084",
     "exception": false,
     "start_time": "2024-07-23T14:42:41.917664",
     "status": "completed"
    },
    "tags": []
   },
   "outputs": [
    {
     "name": "stdout",
     "output_type": "stream",
     "text": [
      "reviewId\n",
      "0-1        17995\n",
      "1-2         2493\n",
      "2-3         1003\n",
      "3-4          573\n",
      "4-5          369\n",
      "5-10         863\n",
      "10-20        486\n",
      "20-30        203\n",
      "30-40         68\n",
      "40-50         49\n",
      "50-100        98\n",
      "100-200       53\n",
      "200-300        7\n",
      "300-400        4\n",
      "400-500        1\n",
      "Name: count, dtype: int64\n"
     ]
    }
   ],
   "source": [
    "bins = [0, 1, 2, 3, 4, 5, 10, 20, 30, 40, 50, 100, 200, 300, 400, 500]\n",
    "labels = [f'{bins[i]}-{bins[i+1]}' for i in range(len(bins)-1)]\n",
    "categories = pd.cut(grouped, bins = bins, labels =labels)\n",
    "bin_counts = categories.value_counts(sort = False)\n",
    "print(bin_counts)"
   ]
  },
  {
   "cell_type": "code",
   "execution_count": 27,
   "id": "76727adb",
   "metadata": {
    "execution": {
     "iopub.execute_input": "2024-07-23T14:42:42.020823Z",
     "iopub.status.busy": "2024-07-23T14:42:42.020429Z",
     "iopub.status.idle": "2024-07-23T14:42:42.025881Z",
     "shell.execute_reply": "2024-07-23T14:42:42.024769Z"
    },
    "papermill": {
     "duration": 0.037309,
     "end_time": "2024-07-23T14:42:42.028696",
     "exception": false,
     "start_time": "2024-07-23T14:42:41.991387",
     "status": "completed"
    },
    "tags": []
   },
   "outputs": [],
   "source": [
    "userReviews = df['content']"
   ]
  },
  {
   "cell_type": "markdown",
   "id": "1be9d5a6",
   "metadata": {
    "papermill": {
     "duration": 0.02684,
     "end_time": "2024-07-23T14:42:42.082883",
     "exception": false,
     "start_time": "2024-07-23T14:42:42.056043",
     "status": "completed"
    },
    "tags": []
   },
   "source": [
    "### the outliers are too high in number so before proceeding to remove/deal with them we will attempt to understand the review content of the users who post high number of reviews"
   ]
  },
  {
   "cell_type": "markdown",
   "id": "1656e11a",
   "metadata": {
    "papermill": {
     "duration": 0.02664,
     "end_time": "2024-07-23T14:42:42.136578",
     "exception": false,
     "start_time": "2024-07-23T14:42:42.109938",
     "status": "completed"
    },
    "tags": []
   },
   "source": [
    "## Understanding Reviews"
   ]
  },
  {
   "cell_type": "code",
   "execution_count": 28,
   "id": "387d3ee4",
   "metadata": {
    "execution": {
     "iopub.execute_input": "2024-07-23T14:42:42.193710Z",
     "iopub.status.busy": "2024-07-23T14:42:42.193269Z",
     "iopub.status.idle": "2024-07-23T14:42:42.208039Z",
     "shell.execute_reply": "2024-07-23T14:42:42.206953Z"
    },
    "papermill": {
     "duration": 0.046047,
     "end_time": "2024-07-23T14:42:42.210622",
     "exception": false,
     "start_time": "2024-07-23T14:42:42.164575",
     "status": "completed"
    },
    "tags": []
   },
   "outputs": [
    {
     "data": {
      "text/html": [
       "<div>\n",
       "<style scoped>\n",
       "    .dataframe tbody tr th:only-of-type {\n",
       "        vertical-align: middle;\n",
       "    }\n",
       "\n",
       "    .dataframe tbody tr th {\n",
       "        vertical-align: top;\n",
       "    }\n",
       "\n",
       "    .dataframe thead th {\n",
       "        text-align: right;\n",
       "    }\n",
       "</style>\n",
       "<table border=\"1\" class=\"dataframe\">\n",
       "  <thead>\n",
       "    <tr style=\"text-align: right;\">\n",
       "      <th></th>\n",
       "      <th>reviewId</th>\n",
       "      <th>userName</th>\n",
       "      <th>content</th>\n",
       "      <th>score</th>\n",
       "      <th>likesOnReview</th>\n",
       "      <th>reviewDate</th>\n",
       "      <th>appVersion</th>\n",
       "      <th>reviewTime</th>\n",
       "    </tr>\n",
       "  </thead>\n",
       "  <tbody>\n",
       "    <tr>\n",
       "      <th>0</th>\n",
       "      <td>0</td>\n",
       "      <td>rajib</td>\n",
       "      <td>It's good</td>\n",
       "      <td>4</td>\n",
       "      <td>0</td>\n",
       "      <td>2024-05-09</td>\n",
       "      <td>8.8.96.364</td>\n",
       "      <td>16:28:13</td>\n",
       "    </tr>\n",
       "    <tr>\n",
       "      <th>1</th>\n",
       "      <td>1</td>\n",
       "      <td>mihaela</td>\n",
       "      <td>I love this app so much, I've been using Spoti...</td>\n",
       "      <td>5</td>\n",
       "      <td>0</td>\n",
       "      <td>2024-05-09</td>\n",
       "      <td>8.9.38.494</td>\n",
       "      <td>16:27:18</td>\n",
       "    </tr>\n",
       "    <tr>\n",
       "      <th>2</th>\n",
       "      <td>2</td>\n",
       "      <td>jonathan</td>\n",
       "      <td>Perfect</td>\n",
       "      <td>5</td>\n",
       "      <td>0</td>\n",
       "      <td>2024-05-09</td>\n",
       "      <td>8.9.36.616</td>\n",
       "      <td>16:27:03</td>\n",
       "    </tr>\n",
       "    <tr>\n",
       "      <th>3</th>\n",
       "      <td>3</td>\n",
       "      <td>cam</td>\n",
       "      <td>Best all around music streaming app I have use...</td>\n",
       "      <td>5</td>\n",
       "      <td>0</td>\n",
       "      <td>2024-05-09</td>\n",
       "      <td>8.9.38.494</td>\n",
       "      <td>16:26:19</td>\n",
       "    </tr>\n",
       "    <tr>\n",
       "      <th>4</th>\n",
       "      <td>4</td>\n",
       "      <td>your</td>\n",
       "      <td>Are y'all fr gatekeeping the play button on so...</td>\n",
       "      <td>1</td>\n",
       "      <td>0</td>\n",
       "      <td>2024-05-09</td>\n",
       "      <td>8.9.38.494</td>\n",
       "      <td>16:26:14</td>\n",
       "    </tr>\n",
       "  </tbody>\n",
       "</table>\n",
       "</div>"
      ],
      "text/plain": [
       "   reviewId  userName                                            content  \\\n",
       "0         0     rajib                                          It's good   \n",
       "1         1   mihaela  I love this app so much, I've been using Spoti...   \n",
       "2         2  jonathan                                            Perfect   \n",
       "3         3       cam  Best all around music streaming app I have use...   \n",
       "4         4      your  Are y'all fr gatekeeping the play button on so...   \n",
       "\n",
       "   score  likesOnReview  reviewDate  appVersion reviewTime  \n",
       "0      4              0  2024-05-09  8.8.96.364   16:28:13  \n",
       "1      5              0  2024-05-09  8.9.38.494   16:27:18  \n",
       "2      5              0  2024-05-09  8.9.36.616   16:27:03  \n",
       "3      5              0  2024-05-09  8.9.38.494   16:26:19  \n",
       "4      1              0  2024-05-09  8.9.38.494   16:26:14  "
      ]
     },
     "execution_count": 28,
     "metadata": {},
     "output_type": "execute_result"
    }
   ],
   "source": [
    "df.head()"
   ]
  },
  {
   "cell_type": "code",
   "execution_count": 29,
   "id": "09cb0f75",
   "metadata": {
    "execution": {
     "iopub.execute_input": "2024-07-23T14:42:42.270205Z",
     "iopub.status.busy": "2024-07-23T14:42:42.269817Z",
     "iopub.status.idle": "2024-07-23T14:42:42.275005Z",
     "shell.execute_reply": "2024-07-23T14:42:42.273895Z"
    },
    "papermill": {
     "duration": 0.039,
     "end_time": "2024-07-23T14:42:42.277406",
     "exception": false,
     "start_time": "2024-07-23T14:42:42.238406",
     "status": "completed"
    },
    "tags": []
   },
   "outputs": [],
   "source": [
    "reviews = df['content']"
   ]
  },
  {
   "cell_type": "code",
   "execution_count": 30,
   "id": "1f284e5f",
   "metadata": {
    "execution": {
     "iopub.execute_input": "2024-07-23T14:42:42.334208Z",
     "iopub.status.busy": "2024-07-23T14:42:42.333806Z",
     "iopub.status.idle": "2024-07-23T14:42:43.360838Z",
     "shell.execute_reply": "2024-07-23T14:42:43.359256Z"
    },
    "papermill": {
     "duration": 1.058191,
     "end_time": "2024-07-23T14:42:43.363424",
     "exception": false,
     "start_time": "2024-07-23T14:42:42.305233",
     "status": "completed"
    },
    "tags": []
   },
   "outputs": [
    {
     "name": "stdout",
     "output_type": "stream",
     "text": [
      "Average length of reviews is  58.95274757915998\n",
      "Median length of reviews is  60\n",
      "Mode of reviews is  58\n",
      "Max length of reviews is  474\n",
      "Min length of reviews is  1\n"
     ]
    }
   ],
   "source": [
    "import statistics\n",
    "\n",
    "reviewsByWord = [i.split(\" \") for i in reviews]\n",
    "reviewLengthByWord = [len(i) for i in reviewsByWord]\n",
    "averageLength = sum(reviewLengthByWord) / len(reviewLengthByWord)\n",
    "medianLength = statistics.median(reviewLengthByWord)\n",
    "modeLength = statistics.mode(reviewLengthByWord)\n",
    "maxLength = max(reviewLengthByWord)\n",
    "minLength = min(reviewLengthByWord)\n",
    "\n",
    "print('Average length of reviews is ',averageLength)\n",
    "print('Median length of reviews is ',medianLength)\n",
    "print('Mode of reviews is ',modeLength)\n",
    "print('Max length of reviews is ',maxLength)\n",
    "print('Min length of reviews is ',minLength)"
   ]
  },
  {
   "cell_type": "code",
   "execution_count": 31,
   "id": "fef9d1c4",
   "metadata": {
    "execution": {
     "iopub.execute_input": "2024-07-23T14:42:43.420383Z",
     "iopub.status.busy": "2024-07-23T14:42:43.419960Z",
     "iopub.status.idle": "2024-07-23T14:42:44.140120Z",
     "shell.execute_reply": "2024-07-23T14:42:44.139101Z"
    },
    "papermill": {
     "duration": 0.751985,
     "end_time": "2024-07-23T14:42:44.142977",
     "exception": false,
     "start_time": "2024-07-23T14:42:43.390992",
     "status": "completed"
    },
    "tags": []
   },
   "outputs": [
    {
     "data": {
      "image/png": "[encoded data removed]",
      "text/plain": [
       "<Figure size 1000x600 with 1 Axes>"
      ]
     },
     "metadata": {},
     "output_type": "display_data"
    }
   ],
   "source": [
    "plt.figure(figsize=(10, 6))\n",
    "bins = [50,100,150,200,250,300,350,400,450,500]\n",
    "plt.hist(reviewLengthByWord, bins=bins, edgecolor='blue', alpha=0.7)\n",
    "plt.xlabel('Number of Words')\n",
    "plt.ylabel('Frequency')\n",
    "plt.title('Histogram of Review Lengths by Word Count')\n",
    "plt.xticks(bins)\n",
    "plt.grid(axis='y', linestyle='-', alpha=0.5)\n",
    "plt.show()"
   ]
  },
  {
   "cell_type": "markdown",
   "id": "33dec63b",
   "metadata": {
    "papermill": {
     "duration": 0.030286,
     "end_time": "2024-07-23T14:42:44.203080",
     "exception": false,
     "start_time": "2024-07-23T14:42:44.172794",
     "status": "completed"
    },
    "tags": []
   },
   "source": [
    "#### above graph is not an accurate representation of content as we havent taken into account the usage of stopwords, we will use NLTK library to stopwords and filler words"
   ]
  },
  {
   "cell_type": "code",
   "execution_count": 32,
   "id": "f7c1a2c6",
   "metadata": {
    "execution": {
     "iopub.execute_input": "2024-07-23T14:42:44.261065Z",
     "iopub.status.busy": "2024-07-23T14:42:44.260613Z",
     "iopub.status.idle": "2024-07-23T14:42:45.748638Z",
     "shell.execute_reply": "2024-07-23T14:42:45.747385Z"
    },
    "papermill": {
     "duration": 1.520267,
     "end_time": "2024-07-23T14:42:45.751440",
     "exception": false,
     "start_time": "2024-07-23T14:42:44.231173",
     "status": "completed"
    },
    "tags": []
   },
   "outputs": [],
   "source": [
    "stopWords = set(stopwords.words('english'))\n",
    "\n",
    "def remove_stopwords(review):\n",
    "    filtered_words = [word for word in review if word.lower() not in stopWords]\n",
    "    return filtered_words\n",
    "\n",
    "# Remove stopwords from each review\n",
    "reviews_without_stopwords = [remove_stopwords(review) for review in reviewsByWord]\n",
    "df['ContentWithoutStopwords'] = reviews_without_stopwords\n",
    "\n",
    "#bagOfWords = ' '.join(reviews_without_stopwords)\n",
    "#print(len(bagOfWords))"
   ]
  },
  {
   "cell_type": "code",
   "execution_count": 33,
   "id": "0a5611cf",
   "metadata": {
    "execution": {
     "iopub.execute_input": "2024-07-23T14:42:45.809673Z",
     "iopub.status.busy": "2024-07-23T14:42:45.808667Z",
     "iopub.status.idle": "2024-07-23T14:42:45.821707Z",
     "shell.execute_reply": "2024-07-23T14:42:45.820712Z"
    },
    "papermill": {
     "duration": 0.044679,
     "end_time": "2024-07-23T14:42:45.824212",
     "exception": false,
     "start_time": "2024-07-23T14:42:45.779533",
     "status": "completed"
    },
    "tags": []
   },
   "outputs": [],
   "source": [
    "review_lengths = [len(review) for review in reviews_without_stopwords]\n"
   ]
  },
  {
   "cell_type": "code",
   "execution_count": 34,
   "id": "6b2e7549",
   "metadata": {
    "execution": {
     "iopub.execute_input": "2024-07-23T14:42:45.881959Z",
     "iopub.status.busy": "2024-07-23T14:42:45.881464Z",
     "iopub.status.idle": "2024-07-23T14:42:46.621915Z",
     "shell.execute_reply": "2024-07-23T14:42:46.620670Z"
    },
    "papermill": {
     "duration": 0.772148,
     "end_time": "2024-07-23T14:42:46.624446",
     "exception": false,
     "start_time": "2024-07-23T14:42:45.852298",
     "status": "completed"
    },
    "tags": []
   },
   "outputs": [
    {
     "data": {
      "image/png": "[encoded data removed]",
      "text/plain": [
       "<Figure size 1000x600 with 1 Axes>"
      ]
     },
     "metadata": {},
     "output_type": "display_data"
    }
   ],
   "source": [
    "max_length = max(review_lengths)\n",
    "bins = range(0, max_length+2,20)  # Adjust bin width as needed\n",
    "\n",
    "plt.figure(figsize=(10, 6))\n",
    "#bins = [50,100,150,200,250,300,350,400,450,500]\n",
    "plt.hist(review_lengths, bins=bins, edgecolor='blue', alpha=0.7)\n",
    "plt.xlabel('Number of Words')\n",
    "plt.ylabel('Frequency')\n",
    "plt.title('Histogram of Review Lengths by Word Count')\n",
    "plt.xticks(bins)\n",
    "plt.grid(axis='y', linestyle='-', alpha=0.5)\n",
    "plt.show()"
   ]
  },
  {
   "cell_type": "markdown",
   "id": "905c3417",
   "metadata": {
    "papermill": {
     "duration": 0.028409,
     "end_time": "2024-07-23T14:42:46.682579",
     "exception": false,
     "start_time": "2024-07-23T14:42:46.654170",
     "status": "completed"
    },
    "tags": []
   },
   "source": [
    "### Finding correlation between review length and review score"
   ]
  },
  {
   "cell_type": "code",
   "execution_count": 35,
   "id": "5435de41",
   "metadata": {
    "execution": {
     "iopub.execute_input": "2024-07-23T14:42:46.741285Z",
     "iopub.status.busy": "2024-07-23T14:42:46.740855Z",
     "iopub.status.idle": "2024-07-23T14:42:46.759431Z",
     "shell.execute_reply": "2024-07-23T14:42:46.758268Z"
    },
    "papermill": {
     "duration": 0.05097,
     "end_time": "2024-07-23T14:42:46.761977",
     "exception": false,
     "start_time": "2024-07-23T14:42:46.711007",
     "status": "completed"
    },
    "tags": []
   },
   "outputs": [
    {
     "data": {
      "text/html": [
       "<div>\n",
       "<style scoped>\n",
       "    .dataframe tbody tr th:only-of-type {\n",
       "        vertical-align: middle;\n",
       "    }\n",
       "\n",
       "    .dataframe tbody tr th {\n",
       "        vertical-align: top;\n",
       "    }\n",
       "\n",
       "    .dataframe thead th {\n",
       "        text-align: right;\n",
       "    }\n",
       "</style>\n",
       "<table border=\"1\" class=\"dataframe\">\n",
       "  <thead>\n",
       "    <tr style=\"text-align: right;\">\n",
       "      <th></th>\n",
       "      <th>reviewId</th>\n",
       "      <th>userName</th>\n",
       "      <th>content</th>\n",
       "      <th>score</th>\n",
       "      <th>likesOnReview</th>\n",
       "      <th>reviewDate</th>\n",
       "      <th>appVersion</th>\n",
       "      <th>reviewTime</th>\n",
       "      <th>ContentWithoutStopwords</th>\n",
       "    </tr>\n",
       "  </thead>\n",
       "  <tbody>\n",
       "    <tr>\n",
       "      <th>0</th>\n",
       "      <td>0</td>\n",
       "      <td>rajib</td>\n",
       "      <td>It's good</td>\n",
       "      <td>4</td>\n",
       "      <td>0</td>\n",
       "      <td>2024-05-09</td>\n",
       "      <td>8.8.96.364</td>\n",
       "      <td>16:28:13</td>\n",
       "      <td>[good]</td>\n",
       "    </tr>\n",
       "    <tr>\n",
       "      <th>1</th>\n",
       "      <td>1</td>\n",
       "      <td>mihaela</td>\n",
       "      <td>I love this app so much, I've been using Spoti...</td>\n",
       "      <td>5</td>\n",
       "      <td>0</td>\n",
       "      <td>2024-05-09</td>\n",
       "      <td>8.9.38.494</td>\n",
       "      <td>16:27:18</td>\n",
       "      <td>[love, app, much,, I've, using, Spotify, 2, ye...</td>\n",
       "    </tr>\n",
       "    <tr>\n",
       "      <th>2</th>\n",
       "      <td>2</td>\n",
       "      <td>jonathan</td>\n",
       "      <td>Perfect</td>\n",
       "      <td>5</td>\n",
       "      <td>0</td>\n",
       "      <td>2024-05-09</td>\n",
       "      <td>8.9.36.616</td>\n",
       "      <td>16:27:03</td>\n",
       "      <td>[Perfect]</td>\n",
       "    </tr>\n",
       "    <tr>\n",
       "      <th>3</th>\n",
       "      <td>3</td>\n",
       "      <td>cam</td>\n",
       "      <td>Best all around music streaming app I have use...</td>\n",
       "      <td>5</td>\n",
       "      <td>0</td>\n",
       "      <td>2024-05-09</td>\n",
       "      <td>8.9.38.494</td>\n",
       "      <td>16:26:19</td>\n",
       "      <td>[Best, around, music, streaming, app, used,, f...</td>\n",
       "    </tr>\n",
       "    <tr>\n",
       "      <th>4</th>\n",
       "      <td>4</td>\n",
       "      <td>your</td>\n",
       "      <td>Are y'all fr gatekeeping the play button on so...</td>\n",
       "      <td>1</td>\n",
       "      <td>0</td>\n",
       "      <td>2024-05-09</td>\n",
       "      <td>8.9.38.494</td>\n",
       "      <td>16:26:14</td>\n",
       "      <td>[y'all, fr, gatekeeping, play, button, songs!?]</td>\n",
       "    </tr>\n",
       "  </tbody>\n",
       "</table>\n",
       "</div>"
      ],
      "text/plain": [
       "   reviewId  userName                                            content  \\\n",
       "0         0     rajib                                          It's good   \n",
       "1         1   mihaela  I love this app so much, I've been using Spoti...   \n",
       "2         2  jonathan                                            Perfect   \n",
       "3         3       cam  Best all around music streaming app I have use...   \n",
       "4         4      your  Are y'all fr gatekeeping the play button on so...   \n",
       "\n",
       "   score  likesOnReview  reviewDate  appVersion reviewTime  \\\n",
       "0      4              0  2024-05-09  8.8.96.364   16:28:13   \n",
       "1      5              0  2024-05-09  8.9.38.494   16:27:18   \n",
       "2      5              0  2024-05-09  8.9.36.616   16:27:03   \n",
       "3      5              0  2024-05-09  8.9.38.494   16:26:19   \n",
       "4      1              0  2024-05-09  8.9.38.494   16:26:14   \n",
       "\n",
       "                             ContentWithoutStopwords  \n",
       "0                                             [good]  \n",
       "1  [love, app, much,, I've, using, Spotify, 2, ye...  \n",
       "2                                          [Perfect]  \n",
       "3  [Best, around, music, streaming, app, used,, f...  \n",
       "4    [y'all, fr, gatekeeping, play, button, songs!?]  "
      ]
     },
     "execution_count": 35,
     "metadata": {},
     "output_type": "execute_result"
    }
   ],
   "source": [
    "df.head()"
   ]
  },
  {
   "cell_type": "code",
   "execution_count": 36,
   "id": "127817f5",
   "metadata": {
    "execution": {
     "iopub.execute_input": "2024-07-23T14:42:46.821969Z",
     "iopub.status.busy": "2024-07-23T14:42:46.821577Z",
     "iopub.status.idle": "2024-07-23T14:42:47.373999Z",
     "shell.execute_reply": "2024-07-23T14:42:47.372765Z"
    },
    "papermill": {
     "duration": 0.585119,
     "end_time": "2024-07-23T14:42:47.376612",
     "exception": false,
     "start_time": "2024-07-23T14:42:46.791493",
     "status": "completed"
    },
    "tags": []
   },
   "outputs": [
    {
     "data": {
      "image/png": "[encoded data removed]",
      "text/plain": [
       "<Figure size 800x600 with 1 Axes>"
      ]
     },
     "metadata": {},
     "output_type": "display_data"
    }
   ],
   "source": [
    "df['filteredContentLength'] = df['ContentWithoutStopwords'].apply(len)\n",
    "\n",
    "# Plot scatter plot\n",
    "plt.figure(figsize=(8, 6))\n",
    "plt.scatter(df['filteredContentLength'], df['score'], color='blue', alpha=0.7)\n",
    "plt.title('Scatter Plot of Filtered Content Length vs. Score')\n",
    "plt.xlabel('Filtered Content Length (Number of Words)')\n",
    "plt.ylabel('Score')\n",
    "plt.grid(True)\n",
    "plt.show()"
   ]
  },
  {
   "cell_type": "code",
   "execution_count": 37,
   "id": "85052d44",
   "metadata": {
    "execution": {
     "iopub.execute_input": "2024-07-23T14:42:47.437814Z",
     "iopub.status.busy": "2024-07-23T14:42:47.437402Z",
     "iopub.status.idle": "2024-07-23T14:42:47.705076Z",
     "shell.execute_reply": "2024-07-23T14:42:47.703836Z"
    },
    "papermill": {
     "duration": 0.301461,
     "end_time": "2024-07-23T14:42:47.707908",
     "exception": false,
     "start_time": "2024-07-23T14:42:47.406447",
     "status": "completed"
    },
    "tags": []
   },
   "outputs": [
    {
     "data": {
      "image/png": "[encoded data removed]",
      "text/plain": [
       "<Figure size 1000x600 with 1 Axes>"
      ]
     },
     "metadata": {},
     "output_type": "display_data"
    }
   ],
   "source": [
    "agg_data = df.groupby('score')['filteredContentLength'].mean().reset_index()\n",
    "\n",
    "# Bar chart\n",
    "plt.figure(figsize=(10, 6))\n",
    "plt.bar(agg_data['score'], agg_data['filteredContentLength'], color='blue', alpha=0.7)\n",
    "plt.title('Average Filtered Content Length by Score')\n",
    "plt.xlabel('Score')\n",
    "plt.ylabel('Average Filtered Content Length (Number of Words)')\n",
    "plt.grid(True)\n",
    "plt.show()"
   ]
  },
  {
   "cell_type": "markdown",
   "id": "17fdf55a",
   "metadata": {
    "papermill": {
     "duration": 0.03071,
     "end_time": "2024-07-23T14:42:47.768776",
     "exception": false,
     "start_time": "2024-07-23T14:42:47.738066",
     "status": "completed"
    },
    "tags": []
   },
   "source": [
    "### since higher word count of the reviews are associated with lower rating we can conclude that these are more critical in nature"
   ]
  },
  {
   "cell_type": "code",
   "execution_count": 38,
   "id": "c1bae8f1",
   "metadata": {
    "execution": {
     "iopub.execute_input": "2024-07-23T14:42:47.831599Z",
     "iopub.status.busy": "2024-07-23T14:42:47.831179Z",
     "iopub.status.idle": "2024-07-23T14:42:47.838742Z",
     "shell.execute_reply": "2024-07-23T14:42:47.837496Z"
    },
    "papermill": {
     "duration": 0.04179,
     "end_time": "2024-07-23T14:42:47.841406",
     "exception": false,
     "start_time": "2024-07-23T14:42:47.799616",
     "status": "completed"
    },
    "tags": []
   },
   "outputs": [
    {
     "data": {
      "text/plain": [
       "Index(['reviewId', 'userName', 'content', 'score', 'likesOnReview',\n",
       "       'reviewDate', 'appVersion', 'reviewTime', 'ContentWithoutStopwords',\n",
       "       'filteredContentLength'],\n",
       "      dtype='object')"
      ]
     },
     "execution_count": 38,
     "metadata": {},
     "output_type": "execute_result"
    }
   ],
   "source": [
    "df.columns"
   ]
  },
  {
   "cell_type": "code",
   "execution_count": 39,
   "id": "fa954312",
   "metadata": {
    "execution": {
     "iopub.execute_input": "2024-07-23T14:42:47.904303Z",
     "iopub.status.busy": "2024-07-23T14:42:47.903912Z",
     "iopub.status.idle": "2024-07-23T14:42:47.912640Z",
     "shell.execute_reply": "2024-07-23T14:42:47.911533Z"
    },
    "papermill": {
     "duration": 0.042987,
     "end_time": "2024-07-23T14:42:47.915235",
     "exception": false,
     "start_time": "2024-07-23T14:42:47.872248",
     "status": "completed"
    },
    "tags": []
   },
   "outputs": [
    {
     "data": {
      "text/plain": [
       "0    2024-05-09\n",
       "1    2024-05-09\n",
       "2    2024-05-09\n",
       "3    2024-05-09\n",
       "4    2024-05-09\n",
       "Name: reviewDate, dtype: object"
      ]
     },
     "execution_count": 39,
     "metadata": {},
     "output_type": "execute_result"
    }
   ],
   "source": [
    "df['reviewDate'].head()"
   ]
  },
  {
   "cell_type": "markdown",
   "id": "304444cc",
   "metadata": {
    "papermill": {
     "duration": 0.030384,
     "end_time": "2024-07-23T14:42:47.976510",
     "exception": false,
     "start_time": "2024-07-23T14:42:47.946126",
     "status": "completed"
    },
    "tags": []
   },
   "source": [
    "## Analyzing Review Dynamics"
   ]
  },
  {
   "cell_type": "markdown",
   "id": "0d057756",
   "metadata": {
    "papermill": {
     "duration": 0.030142,
     "end_time": "2024-07-23T14:42:48.037193",
     "exception": false,
     "start_time": "2024-07-23T14:42:48.007051",
     "status": "completed"
    },
    "tags": []
   },
   "source": [
    "### Analyzing seasonal trends"
   ]
  },
  {
   "cell_type": "code",
   "execution_count": 40,
   "id": "53e05f21",
   "metadata": {
    "execution": {
     "iopub.execute_input": "2024-07-23T14:42:48.100189Z",
     "iopub.status.busy": "2024-07-23T14:42:48.099805Z",
     "iopub.status.idle": "2024-07-23T14:42:48.834885Z",
     "shell.execute_reply": "2024-07-23T14:42:48.833720Z"
    },
    "papermill": {
     "duration": 0.769631,
     "end_time": "2024-07-23T14:42:48.837400",
     "exception": false,
     "start_time": "2024-07-23T14:42:48.067769",
     "status": "completed"
    },
    "tags": []
   },
   "outputs": [
    {
     "data": {
      "text/plain": [
       "0    May\n",
       "1    May\n",
       "2    May\n",
       "3    May\n",
       "4    May\n",
       "Name: reviewMonth, dtype: object"
      ]
     },
     "execution_count": 40,
     "metadata": {},
     "output_type": "execute_result"
    }
   ],
   "source": [
    "df['reviewDate'] = pd.to_datetime(df['reviewDate'],format='%Y-%m-%d')\n",
    "df['reviewMonth'] = df['reviewDate'].dt.strftime('%b')\n",
    "df['reviewMonth'].head()"
   ]
  },
  {
   "cell_type": "markdown",
   "id": "00a28e74",
   "metadata": {
    "papermill": {
     "duration": 0.029992,
     "end_time": "2024-07-23T14:42:48.897901",
     "exception": false,
     "start_time": "2024-07-23T14:42:48.867909",
     "status": "completed"
    },
    "tags": []
   },
   "source": [
    "### Finding periods of high and low activity by aggregating count of reviews each month"
   ]
  },
  {
   "cell_type": "code",
   "execution_count": 41,
   "id": "fdffef26",
   "metadata": {
    "execution": {
     "iopub.execute_input": "2024-07-23T14:42:48.960908Z",
     "iopub.status.busy": "2024-07-23T14:42:48.960463Z",
     "iopub.status.idle": "2024-07-23T14:42:49.414104Z",
     "shell.execute_reply": "2024-07-23T14:42:49.412871Z"
    },
    "papermill": {
     "duration": 0.488347,
     "end_time": "2024-07-23T14:42:49.416848",
     "exception": false,
     "start_time": "2024-07-23T14:42:48.928501",
     "status": "completed"
    },
    "tags": []
   },
   "outputs": [
    {
     "data": {
      "image/png": "[encoded data removed]",
      "text/plain": [
       "<Figure size 1200x600 with 1 Axes>"
      ]
     },
     "metadata": {},
     "output_type": "display_data"
    }
   ],
   "source": [
    "monthlyScore = df.groupby('reviewMonth')['score'].count()\n",
    "month_order = ['Jan', 'Feb', 'Mar', 'Apr', 'May', 'Jun', 'Jul', 'Aug', 'Sep', 'Oct', 'Nov', 'Dec']\n",
    "monthlyScore = monthlyScore.reindex(month_order)\n",
    "\n",
    "# Plotting\n",
    "plt.figure(figsize=(12, 6))\n",
    "plt.plot(monthlyScore.index, monthlyScore, marker='o', linestyle='-', color='blue')\n",
    "\n",
    "# Formatting the x-axis\n",
    "plt.title('Average Monthly Review Score')\n",
    "plt.xlabel('Month')\n",
    "plt.ylabel('Average Score')\n",
    "plt.grid(True)\n",
    "plt.xticks(rotation=45)\n",
    "plt.tight_layout()\n",
    "plt.show()"
   ]
  },
  {
   "cell_type": "markdown",
   "id": "36e92ab0",
   "metadata": {
    "papermill": {
     "duration": 0.031257,
     "end_time": "2024-07-23T14:42:49.479897",
     "exception": false,
     "start_time": "2024-07-23T14:42:49.448640",
     "status": "completed"
    },
    "tags": []
   },
   "source": [
    "### Finding user satisfaction per month by aggregating mean of score each month"
   ]
  },
  {
   "cell_type": "code",
   "execution_count": 42,
   "id": "f98f6ee6",
   "metadata": {
    "execution": {
     "iopub.execute_input": "2024-07-23T14:42:49.545011Z",
     "iopub.status.busy": "2024-07-23T14:42:49.544588Z",
     "iopub.status.idle": "2024-07-23T14:42:49.992980Z",
     "shell.execute_reply": "2024-07-23T14:42:49.991858Z"
    },
    "papermill": {
     "duration": 0.484071,
     "end_time": "2024-07-23T14:42:49.995791",
     "exception": false,
     "start_time": "2024-07-23T14:42:49.511720",
     "status": "completed"
    },
    "tags": []
   },
   "outputs": [
    {
     "data": {
      "image/png": "[encoded data removed]",
      "text/plain": [
       "<Figure size 1200x600 with 1 Axes>"
      ]
     },
     "metadata": {},
     "output_type": "display_data"
    }
   ],
   "source": [
    "monthlyScore = df.groupby('reviewMonth')['score'].mean()\n",
    "month_order = ['Jan', 'Feb', 'Mar', 'Apr', 'May', 'Jun', 'Jul', 'Aug', 'Sep', 'Oct', 'Nov', 'Dec']\n",
    "monthlyScore = monthlyScore.reindex(month_order)\n",
    "\n",
    "# Plotting\n",
    "plt.figure(figsize=(12, 6))\n",
    "plt.plot(monthlyScore.index, monthlyScore, marker='o', linestyle='-', color='blue')\n",
    "\n",
    "# Formatting the x-axis\n",
    "plt.title('Average Monthly Review Score')\n",
    "plt.xlabel('Month')\n",
    "plt.ylabel('Average Score')\n",
    "plt.grid(True)\n",
    "plt.xticks(rotation=45)\n",
    "plt.tight_layout()\n",
    "plt.show()"
   ]
  },
  {
   "cell_type": "markdown",
   "id": "1baa531f",
   "metadata": {
    "papermill": {
     "duration": 0.031974,
     "end_time": "2024-07-23T14:42:50.060286",
     "exception": false,
     "start_time": "2024-07-23T14:42:50.028312",
     "status": "completed"
    },
    "tags": []
   },
   "source": [
    "## Content Analysis of Reviews"
   ]
  },
  {
   "cell_type": "code",
   "execution_count": null,
   "id": "0b4c4173",
   "metadata": {
    "papermill": {
     "duration": 0.032237,
     "end_time": "2024-07-23T14:42:50.124883",
     "exception": false,
     "start_time": "2024-07-23T14:42:50.092646",
     "status": "completed"
    },
    "tags": []
   },
   "outputs": [],
   "source": []
  },
  {
   "cell_type": "code",
   "execution_count": null,
   "id": "442ca084",
   "metadata": {
    "papermill": {
     "duration": 0.03287,
     "end_time": "2024-07-23T14:42:50.190593",
     "exception": false,
     "start_time": "2024-07-23T14:42:50.157723",
     "status": "completed"
    },
    "tags": []
   },
   "outputs": [],
   "source": []
  },
  {
   "cell_type": "code",
   "execution_count": null,
   "id": "4284b4c4",
   "metadata": {
    "papermill": {
     "duration": 0.032989,
     "end_time": "2024-07-23T14:42:50.256029",
     "exception": false,
     "start_time": "2024-07-23T14:42:50.223040",
     "status": "completed"
    },
    "tags": []
   },
   "outputs": [],
   "source": []
  },
  {
   "cell_type": "code",
   "execution_count": null,
   "id": "ff321fe1",
   "metadata": {
    "papermill": {
     "duration": 0.033754,
     "end_time": "2024-07-23T14:42:50.322461",
     "exception": false,
     "start_time": "2024-07-23T14:42:50.288707",
     "status": "completed"
    },
    "tags": []
   },
   "outputs": [],
   "source": []
  },
  {
   "cell_type": "code",
   "execution_count": null,
   "id": "cc1742d9",
   "metadata": {
    "papermill": {
     "duration": 0.032354,
     "end_time": "2024-07-23T14:42:50.387462",
     "exception": false,
     "start_time": "2024-07-23T14:42:50.355108",
     "status": "completed"
    },
    "tags": []
   },
   "outputs": [],
   "source": []
  },
  {
   "cell_type": "code",
   "execution_count": null,
   "id": "9a12e047",
   "metadata": {
    "papermill": {
     "duration": 0.032283,
     "end_time": "2024-07-23T14:42:50.452492",
     "exception": false,
     "start_time": "2024-07-23T14:42:50.420209",
     "status": "completed"
    },
    "tags": []
   },
   "outputs": [],
   "source": []
  },
  {
   "cell_type": "code",
   "execution_count": 43,
   "id": "93182241",
   "metadata": {
    "execution": {
     "iopub.execute_input": "2024-07-23T14:42:50.520377Z",
     "iopub.status.busy": "2024-07-23T14:42:50.519942Z",
     "iopub.status.idle": "2024-07-23T14:42:50.525004Z",
     "shell.execute_reply": "2024-07-23T14:42:50.523673Z"
    },
    "papermill": {
     "duration": 0.042334,
     "end_time": "2024-07-23T14:42:50.527555",
     "exception": false,
     "start_time": "2024-07-23T14:42:50.485221",
     "status": "completed"
    },
    "tags": []
   },
   "outputs": [],
   "source": [
    "# #selecting 500 random rows of outliers\n",
    "# outlier = df[df['userName'] == 'a']\n",
    "# random_outlier = outlier.sample(n=500)\n",
    "# dropindices = outlier.index.tolist()\n",
    "# #print(outlier)"
   ]
  },
  {
   "cell_type": "code",
   "execution_count": 44,
   "id": "ee2bdf2b",
   "metadata": {
    "execution": {
     "iopub.execute_input": "2024-07-23T14:42:50.595255Z",
     "iopub.status.busy": "2024-07-23T14:42:50.594857Z",
     "iopub.status.idle": "2024-07-23T14:42:50.599953Z",
     "shell.execute_reply": "2024-07-23T14:42:50.598757Z"
    },
    "papermill": {
     "duration": 0.041666,
     "end_time": "2024-07-23T14:42:50.602443",
     "exception": false,
     "start_time": "2024-07-23T14:42:50.560777",
     "status": "completed"
    },
    "tags": []
   },
   "outputs": [],
   "source": [
    "# #dropping outlier rows to merge later\n",
    "# df.drop(dropindices,inplace=True)\n",
    "# print(len(df))"
   ]
  },
  {
   "cell_type": "code",
   "execution_count": 45,
   "id": "1b12e270",
   "metadata": {
    "execution": {
     "iopub.execute_input": "2024-07-23T14:42:50.671086Z",
     "iopub.status.busy": "2024-07-23T14:42:50.670672Z",
     "iopub.status.idle": "2024-07-23T14:42:50.675450Z",
     "shell.execute_reply": "2024-07-23T14:42:50.674148Z"
    },
    "papermill": {
     "duration": 0.04251,
     "end_time": "2024-07-23T14:42:50.677965",
     "exception": false,
     "start_time": "2024-07-23T14:42:50.635455",
     "status": "completed"
    },
    "tags": []
   },
   "outputs": [],
   "source": [
    "# #merging outliers rows with original df\n",
    "# df = pd.concat([df,random_outlier],axis=0)"
   ]
  },
  {
   "cell_type": "code",
   "execution_count": 46,
   "id": "1f91a6cd",
   "metadata": {
    "execution": {
     "iopub.execute_input": "2024-07-23T14:42:50.744802Z",
     "iopub.status.busy": "2024-07-23T14:42:50.744420Z",
     "iopub.status.idle": "2024-07-23T14:42:50.749394Z",
     "shell.execute_reply": "2024-07-23T14:42:50.748328Z"
    },
    "papermill": {
     "duration": 0.041138,
     "end_time": "2024-07-23T14:42:50.751816",
     "exception": false,
     "start_time": "2024-07-23T14:42:50.710678",
     "status": "completed"
    },
    "tags": []
   },
   "outputs": [],
   "source": [
    "# df.head()"
   ]
  },
  {
   "cell_type": "markdown",
   "id": "23e0cdef",
   "metadata": {
    "papermill": {
     "duration": 0.03304,
     "end_time": "2024-07-23T14:42:50.817793",
     "exception": false,
     "start_time": "2024-07-23T14:42:50.784753",
     "status": "completed"
    },
    "tags": []
   },
   "source": [
    "# Understanding users\n",
    "\n",
    "## User Activity:\n",
    "\n",
    "* How many reviews has each user written (using userName)?\n",
    "* Are there any particularly active reviewers?\n"
   ]
  },
  {
   "cell_type": "code",
   "execution_count": 47,
   "id": "a343552d",
   "metadata": {
    "execution": {
     "iopub.execute_input": "2024-07-23T14:42:50.886545Z",
     "iopub.status.busy": "2024-07-23T14:42:50.885584Z",
     "iopub.status.idle": "2024-07-23T14:42:50.964477Z",
     "shell.execute_reply": "2024-07-23T14:42:50.963351Z"
    },
    "papermill": {
     "duration": 0.115518,
     "end_time": "2024-07-23T14:42:50.967195",
     "exception": false,
     "start_time": "2024-07-23T14:42:50.851677",
     "status": "completed"
    },
    "tags": []
   },
   "outputs": [
    {
     "data": {
      "text/plain": [
       "userName\n",
       "a             12786\n",
       "david           436\n",
       "john            398\n",
       "michael         397\n",
       "james           319\n",
       "              ...  \n",
       "itme              1\n",
       "itmareli          1\n",
       "itit              1\n",
       "itisdarren        1\n",
       "zzz               1\n",
       "Name: reviewId, Length: 24266, dtype: int64"
      ]
     },
     "execution_count": 47,
     "metadata": {},
     "output_type": "execute_result"
    }
   ],
   "source": [
    "grouped = df.groupby(by='userName')['reviewId'].count().sort_values(ascending=False)\n",
    "grouped"
   ]
  },
  {
   "cell_type": "code",
   "execution_count": 48,
   "id": "a97adfc6",
   "metadata": {
    "execution": {
     "iopub.execute_input": "2024-07-23T14:42:51.035183Z",
     "iopub.status.busy": "2024-07-23T14:42:51.034780Z",
     "iopub.status.idle": "2024-07-23T14:42:51.253806Z",
     "shell.execute_reply": "2024-07-23T14:42:51.252546Z"
    },
    "papermill": {
     "duration": 0.255893,
     "end_time": "2024-07-23T14:42:51.256400",
     "exception": false,
     "start_time": "2024-07-23T14:42:51.000507",
     "status": "completed"
    },
    "tags": []
   },
   "outputs": [
    {
     "data": {
      "image/png": "[encoded data removed]",
      "text/plain": [
       "<Figure size 1000x600 with 1 Axes>"
      ]
     },
     "metadata": {},
     "output_type": "display_data"
    }
   ],
   "source": [
    "plt.figure(figsize=(10,6))\n",
    "plt.boxplot(grouped)\n",
    "plt.show()"
   ]
  },
  {
   "cell_type": "code",
   "execution_count": 49,
   "id": "a0ced390",
   "metadata": {
    "execution": {
     "iopub.execute_input": "2024-07-23T14:42:51.326393Z",
     "iopub.status.busy": "2024-07-23T14:42:51.325556Z",
     "iopub.status.idle": "2024-07-23T14:42:51.333979Z",
     "shell.execute_reply": "2024-07-23T14:42:51.332900Z"
    },
    "papermill": {
     "duration": 0.046648,
     "end_time": "2024-07-23T14:42:51.336282",
     "exception": false,
     "start_time": "2024-07-23T14:42:51.289634",
     "status": "completed"
    },
    "tags": []
   },
   "outputs": [
    {
     "data": {
      "text/plain": [
       "4.0"
      ]
     },
     "execution_count": 49,
     "metadata": {},
     "output_type": "execute_result"
    }
   ],
   "source": [
    "grouped.quantile(0.90)\n"
   ]
  },
  {
   "cell_type": "code",
   "execution_count": 50,
   "id": "4888681b",
   "metadata": {
    "execution": {
     "iopub.execute_input": "2024-07-23T14:42:51.405454Z",
     "iopub.status.busy": "2024-07-23T14:42:51.405003Z",
     "iopub.status.idle": "2024-07-23T14:42:51.413361Z",
     "shell.execute_reply": "2024-07-23T14:42:51.411699Z"
    },
    "papermill": {
     "duration": 0.046224,
     "end_time": "2024-07-23T14:42:51.415898",
     "exception": false,
     "start_time": "2024-07-23T14:42:51.369674",
     "status": "completed"
    },
    "tags": []
   },
   "outputs": [
    {
     "name": "stdout",
     "output_type": "stream",
     "text": [
      "no of outliers  47113\n",
      "% of outliers  66.00400678070581\n"
     ]
    }
   ],
   "source": [
    "outliers_90tile = (grouped > 4).count()\n",
    "print ( 'no of outliers ',(71379-outliers_90tile))\n",
    "print ( '% of outliers ',((71379-outliers_90tile)*100)/71379)"
   ]
  },
  {
   "cell_type": "code",
   "execution_count": 51,
   "id": "ad25f31d",
   "metadata": {
    "execution": {
     "iopub.execute_input": "2024-07-23T14:42:51.484531Z",
     "iopub.status.busy": "2024-07-23T14:42:51.484107Z",
     "iopub.status.idle": "2024-07-23T14:42:52.070926Z",
     "shell.execute_reply": "2024-07-23T14:42:52.069766Z"
    },
    "papermill": {
     "duration": 0.624411,
     "end_time": "2024-07-23T14:42:52.073426",
     "exception": false,
     "start_time": "2024-07-23T14:42:51.449015",
     "status": "completed"
    },
    "tags": []
   },
   "outputs": [
    {
     "data": {
      "image/png": "[encoded data removed]",
      "text/plain": [
       "<Figure size 1000x600 with 1 Axes>"
      ]
     },
     "metadata": {},
     "output_type": "display_data"
    }
   ],
   "source": [
    "#using log scale due high no of outliers\n",
    "plt.figure(figsize=(10,6))\n",
    "plt.boxplot(grouped)\n",
    "plt.yscale('log')\n",
    "percentiles = np.percentile(grouped, [25,50,75,90,95])\n",
    "for percentile in percentiles:\n",
    "    plt.text(0, percentile, f'{percentile:.4f}', color='red')\n",
    "plt.show()\n",
    "\n"
   ]
  },
  {
   "cell_type": "markdown",
   "id": "46587df7",
   "metadata": {
    "papermill": {
     "duration": 0.033595,
     "end_time": "2024-07-23T14:42:52.141220",
     "exception": false,
     "start_time": "2024-07-23T14:42:52.107625",
     "status": "completed"
    },
    "tags": []
   },
   "source": [
    "#### since too many outliers we categorize based on percentile"
   ]
  },
  {
   "cell_type": "code",
   "execution_count": 52,
   "id": "d4ed696b",
   "metadata": {
    "execution": {
     "iopub.execute_input": "2024-07-23T14:42:52.212061Z",
     "iopub.status.busy": "2024-07-23T14:42:52.211150Z",
     "iopub.status.idle": "2024-07-23T14:42:52.224220Z",
     "shell.execute_reply": "2024-07-23T14:42:52.223106Z"
    },
    "papermill": {
     "duration": 0.051406,
     "end_time": "2024-07-23T14:42:52.226646",
     "exception": false,
     "start_time": "2024-07-23T14:42:52.175240",
     "status": "completed"
    },
    "tags": []
   },
   "outputs": [
    {
     "data": {
      "text/html": [
       "<div>\n",
       "<style scoped>\n",
       "    .dataframe tbody tr th:only-of-type {\n",
       "        vertical-align: middle;\n",
       "    }\n",
       "\n",
       "    .dataframe tbody tr th {\n",
       "        vertical-align: top;\n",
       "    }\n",
       "\n",
       "    .dataframe thead th {\n",
       "        text-align: right;\n",
       "    }\n",
       "</style>\n",
       "<table border=\"1\" class=\"dataframe\">\n",
       "  <thead>\n",
       "    <tr style=\"text-align: right;\">\n",
       "      <th></th>\n",
       "      <th>userName</th>\n",
       "      <th>reviewCount</th>\n",
       "    </tr>\n",
       "  </thead>\n",
       "  <tbody>\n",
       "    <tr>\n",
       "      <th>0</th>\n",
       "      <td>a</td>\n",
       "      <td>12786</td>\n",
       "    </tr>\n",
       "    <tr>\n",
       "      <th>1</th>\n",
       "      <td>david</td>\n",
       "      <td>436</td>\n",
       "    </tr>\n",
       "    <tr>\n",
       "      <th>2</th>\n",
       "      <td>john</td>\n",
       "      <td>398</td>\n",
       "    </tr>\n",
       "    <tr>\n",
       "      <th>3</th>\n",
       "      <td>michael</td>\n",
       "      <td>397</td>\n",
       "    </tr>\n",
       "    <tr>\n",
       "      <th>4</th>\n",
       "      <td>james</td>\n",
       "      <td>319</td>\n",
       "    </tr>\n",
       "  </tbody>\n",
       "</table>\n",
       "</div>"
      ],
      "text/plain": [
       "  userName  reviewCount\n",
       "0        a        12786\n",
       "1    david          436\n",
       "2     john          398\n",
       "3  michael          397\n",
       "4    james          319"
      ]
     },
     "execution_count": 52,
     "metadata": {},
     "output_type": "execute_result"
    }
   ],
   "source": [
    "grouped_df = grouped.reset_index()\n",
    "grouped_df.columns = ['userName','reviewCount']\n",
    "grouped_df.head()"
   ]
  },
  {
   "cell_type": "code",
   "execution_count": 53,
   "id": "0de19539",
   "metadata": {
    "execution": {
     "iopub.execute_input": "2024-07-23T14:42:52.296418Z",
     "iopub.status.busy": "2024-07-23T14:42:52.295991Z",
     "iopub.status.idle": "2024-07-23T14:42:52.596370Z",
     "shell.execute_reply": "2024-07-23T14:42:52.595268Z"
    },
    "papermill": {
     "duration": 0.33818,
     "end_time": "2024-07-23T14:42:52.598897",
     "exception": false,
     "start_time": "2024-07-23T14:42:52.260717",
     "status": "completed"
    },
    "tags": []
   },
   "outputs": [
    {
     "data": {
      "image/png": "[encoded data removed]",
      "text/plain": [
       "<Figure size 1000x600 with 1 Axes>"
      ]
     },
     "metadata": {},
     "output_type": "display_data"
    }
   ],
   "source": [
    "# Violin plot to show density of outliers too\n",
    "plt.figure(figsize=(10, 6))\n",
    "plt.hist(grouped,bins=10)\n",
    "plt.title(\"Histogram\")\n",
    "plt.show()\n",
    "\n"
   ]
  },
  {
   "cell_type": "markdown",
   "id": "72f29849",
   "metadata": {
    "papermill": {
     "duration": 0.034057,
     "end_time": "2024-07-23T14:42:52.667489",
     "exception": false,
     "start_time": "2024-07-23T14:42:52.633432",
     "status": "completed"
    },
    "tags": []
   },
   "source": [
    "#### since we have 66% outliers, removing them would heavily influence the analysis so we will scale the dataset. we will compare square root and log transformations as they perform better with positive skewed data. we wont use winsorization because capping at certain percentile will again heavily influence the accuracy of our analysis, not using box cox to avoid heavy computation\n",
    "\n",
    "#### log transformation generally used for data which spans over several magnitude\n",
    "#### square root transformation which is less extreme\n",
    "#### we will compare both transformed data"
   ]
  },
  {
   "cell_type": "code",
   "execution_count": 54,
   "id": "5c3205ee",
   "metadata": {
    "execution": {
     "iopub.execute_input": "2024-07-23T14:42:52.737822Z",
     "iopub.status.busy": "2024-07-23T14:42:52.737356Z",
     "iopub.status.idle": "2024-07-23T14:42:53.167192Z",
     "shell.execute_reply": "2024-07-23T14:42:53.165761Z"
    },
    "papermill": {
     "duration": 0.468161,
     "end_time": "2024-07-23T14:42:53.169825",
     "exception": false,
     "start_time": "2024-07-23T14:42:52.701664",
     "status": "completed"
    },
    "tags": []
   },
   "outputs": [
    {
     "data": {
      "image/png": "[encoded data removed]",
      "text/plain": [
       "<Figure size 1500x600 with 2 Axes>"
      ]
     },
     "metadata": {},
     "output_type": "display_data"
    }
   ],
   "source": [
    "grouped_sqrt = np.sqrt(grouped)\n",
    "grouped_log = np.log1p(grouped)\n",
    "\n",
    "# Visualize original and square root transformed data\n",
    "plt.figure(figsize=(15, 6))\n",
    "\n",
    "plt.subplot(1,2,1)\n",
    "# Bar plot of original grouped data\n",
    "plt.hist(grouped_log,bins=10)\n",
    "plt.xticks(rotation=90)\n",
    "plt.title('Log Transformed Grouped Data')\n",
    "\n",
    "plt.subplot(1,2,2)\n",
    "# Bar plot of original grouped data\n",
    "plt.hist(grouped_sqrt,bins=10)\n",
    "plt.xticks(rotation=90)\n",
    "plt.title('Sq Root Transformed Grouped Data')\n",
    "\n",
    "plt.show()"
   ]
  },
  {
   "cell_type": "markdown",
   "id": "1a0bc853",
   "metadata": {
    "papermill": {
     "duration": 0.036119,
     "end_time": "2024-07-23T14:42:53.241272",
     "exception": false,
     "start_time": "2024-07-23T14:42:53.205153",
     "status": "completed"
    },
    "tags": []
   },
   "source": [
    "#### data is still highly skewed so we removed data above 95%tile"
   ]
  },
  {
   "cell_type": "code",
   "execution_count": 55,
   "id": "67365ebb",
   "metadata": {
    "execution": {
     "iopub.execute_input": "2024-07-23T14:42:53.317224Z",
     "iopub.status.busy": "2024-07-23T14:42:53.316288Z",
     "iopub.status.idle": "2024-07-23T14:42:53.668888Z",
     "shell.execute_reply": "2024-07-23T14:42:53.667604Z"
    },
    "papermill": {
     "duration": 0.395526,
     "end_time": "2024-07-23T14:42:53.672259",
     "exception": false,
     "start_time": "2024-07-23T14:42:53.276733",
     "status": "completed"
    },
    "tags": []
   },
   "outputs": [
    {
     "data": {
      "image/png": "[encoded data removed]",
      "text/plain": [
       "<Figure size 1000x600 with 1 Axes>"
      ]
     },
     "metadata": {},
     "output_type": "display_data"
    },
    {
     "name": "stdout",
     "output_type": "stream",
     "text": [
      "Counts: [17995     0     0     0  3496   942   260   387   216]\n",
      "Bin Edges: [ 1.   1.2  1.4  2.   2.   3.6  5.2  6.8  8.4 10. ]\n"
     ]
    }
   ],
   "source": [
    "custom_bins = [1, 1.2,1.4, 2]\n",
    "# For uniform bins (totaling 10 bins)\n",
    "uniform_bins = np.linspace(2, 10, 6)  # 5 bins from 2 to 10\n",
    "\n",
    "# Concatenate custom and uniform bins\n",
    "bin_edges = np.concatenate((custom_bins, uniform_bins))\n",
    "\n",
    "# Compute histogram with custom bins\n",
    "counts, _ = np.histogram(grouped, bins=bin_edges)\n",
    "\n",
    "# Plotting\n",
    "plt.figure(figsize=(10, 6))\n",
    "plt.hist(grouped, bins=bin_edges, edgecolor='black')\n",
    "plt.xlabel('Review Count')\n",
    "plt.ylabel('Frequency')\n",
    "plt.title('Histogram with Non-Uniform Bins')\n",
    "plt.grid(True)\n",
    "plt.xticks(bin_edges)\n",
    "plt.show()\n",
    "\n",
    "# Print counts and bin edges for verification\n",
    "print(\"Counts:\", counts)\n",
    "print(\"Bin Edges:\", bin_edges)"
   ]
  },
  {
   "cell_type": "code",
   "execution_count": 56,
   "id": "91dd47bb",
   "metadata": {
    "execution": {
     "iopub.execute_input": "2024-07-23T14:42:53.748289Z",
     "iopub.status.busy": "2024-07-23T14:42:53.747188Z",
     "iopub.status.idle": "2024-07-23T14:42:54.678830Z",
     "shell.execute_reply": "2024-07-23T14:42:54.677481Z"
    },
    "papermill": {
     "duration": 0.973485,
     "end_time": "2024-07-23T14:42:54.682199",
     "exception": false,
     "start_time": "2024-07-23T14:42:53.708714",
     "status": "completed"
    },
    "tags": []
   },
   "outputs": [
    {
     "name": "stdout",
     "output_type": "stream",
     "text": [
      "retain count of data after removing outliers less than 10%tile: 17995\n",
      "\n",
      "retain percentage of data after removing outliers less than 10%tile: 74.16%\n",
      "\n",
      "retain count of data after removing outliers between 10%tile and 20%tile: 0\n",
      "\n",
      "retain percentage of data after removing outliers between 10%tile and 20%tile: 0.00%\n",
      "\n",
      "retain count of data after removing outliers between 20%tile and 30%tile: 0\n",
      "\n",
      "retain percentage of data after removing outliers between 20%tile and 30%tile: 0.00%\n",
      "\n"
     ]
    },
    {
     "data": {
      "image/png": "[encoded data removed]",
      "text/plain": [
       "<Figure size 1800x600 with 3 Axes>"
      ]
     },
     "metadata": {},
     "output_type": "display_data"
    }
   ],
   "source": [
    "threshold10 = np.percentile(grouped, 10)\n",
    "threshold20 = np.percentile(grouped, 20)\n",
    "threshold30 = np.percentile(grouped, 30)\n",
    "\n",
    "# Filter data based on percentiles\n",
    "grouped_filtered_10 = grouped[grouped <= threshold10]\n",
    "retain_percent_10 = (len(grouped_filtered_10) / len(grouped)) * 100\n",
    "\n",
    "grouped_filtered_20 = grouped[(grouped > threshold10) & (grouped <= threshold20)]\n",
    "retain_percent_20 = (len(grouped_filtered_20) / len(grouped)) * 100\n",
    "\n",
    "grouped_filtered_30 = grouped[(grouped > threshold20) & (grouped <= threshold30)]\n",
    "retain_percent_30 = (len(grouped_filtered_30) / len(grouped)) * 100\n",
    "\n",
    "# Print results\n",
    "print(f\"retain count of data after removing outliers less than 10%tile: {grouped_filtered_10.count()}\\n\")\n",
    "print(f\"retain percentage of data after removing outliers less than 10%tile: {retain_percent_10:.2f}%\\n\")\n",
    "\n",
    "print(f\"retain count of data after removing outliers between 10%tile and 20%tile: {grouped_filtered_20.count()}\\n\")\n",
    "print(f\"retain percentage of data after removing outliers between 10%tile and 20%tile: {retain_percent_20:.2f}%\\n\")\n",
    "\n",
    "print(f\"retain count of data after removing outliers between 20%tile and 30%tile: {grouped_filtered_30.count()}\\n\")\n",
    "print(f\"retain percentage of data after removing outliers between 20%tile and 30%tile: {retain_percent_30:.2f}%\\n\")\n",
    "\n",
    "# Plot all histograms in one row\n",
    "plt.figure(figsize=(18, 6))\n",
    "\n",
    "# Histogram for 10th percentile\n",
    "plt.subplot(1, 3, 1)\n",
    "plt.hist(grouped_filtered_10, bins=10, color='skyblue', edgecolor='black')\n",
    "plt.title('Filtered Data (10th Percentile)')\n",
    "plt.xlabel('Review Count')\n",
    "plt.ylabel('Frequency')\n",
    "plt.xticks(rotation=90)\n",
    "\n",
    "# Histogram for 20th percentile\n",
    "plt.subplot(1, 3, 2)\n",
    "plt.hist(grouped_filtered_20, bins=10, color='lightgreen', edgecolor='black')\n",
    "plt.title('Filtered Data (Between 10th and 20th Percentile)')\n",
    "plt.xlabel('Review Count')\n",
    "plt.ylabel('Frequency')\n",
    "plt.xticks(rotation=90)\n",
    "\n",
    "# Histogram for 30th percentile\n",
    "plt.subplot(1, 3, 3)\n",
    "plt.hist(grouped_filtered_30, bins=10, color='lightcoral', edgecolor='black')\n",
    "plt.title('Filtered Data (Between 20th and 30th Percentile)')\n",
    "plt.xlabel('Review Count')\n",
    "plt.ylabel('Frequency')\n",
    "plt.xticks(rotation=90)\n",
    "\n",
    "plt.tight_layout()\n",
    "plt.show()"
   ]
  },
  {
   "cell_type": "code",
   "execution_count": null,
   "id": "4c5cb984",
   "metadata": {
    "papermill": {
     "duration": 0.040282,
     "end_time": "2024-07-23T14:42:54.762459",
     "exception": false,
     "start_time": "2024-07-23T14:42:54.722177",
     "status": "completed"
    },
    "tags": []
   },
   "outputs": [],
   "source": []
  },
  {
   "cell_type": "code",
   "execution_count": null,
   "id": "9c4a8f07",
   "metadata": {
    "papermill": {
     "duration": 0.039426,
     "end_time": "2024-07-23T14:42:54.839301",
     "exception": false,
     "start_time": "2024-07-23T14:42:54.799875",
     "status": "completed"
    },
    "tags": []
   },
   "outputs": [],
   "source": []
  }
 ],
 "metadata": {
  "kaggle": {
   "accelerator": "none",
   "dataSources": [
    {
     "datasetId": 4981519,
     "sourceId": 8377684,
     "sourceType": "datasetVersion"
    }
   ],
   "dockerImageVersionId": 30732,
   "isGpuEnabled": false,
   "isInternetEnabled": false,
   "language": "python",
   "sourceType": "notebook"
  },
  "kernelspec": {
   "display_name": "Python 3",
   "language": "python",
   "name": "python3"
  },
  "language_info": {
   "codemirror_mode": {
    "name": "ipython",
    "version": 3
   },
   "file_extension": ".py",
   "mimetype": "text/x-python",
   "name": "python",
   "nbconvert_exporter": "python",
   "pygments_lexer": "ipython3",
   "version": "3.10.13"
  },
  "papermill": {
   "default_parameters": {},
   "duration": 25.048975,
   "end_time": "2024-07-23T14:42:56.001221",
   "environment_variables": {},
   "exception": null,
   "input_path": "__notebook__.ipynb",
   "output_path": "__notebook__.ipynb",
   "parameters": {},
   "start_time": "2024-07-23T14:42:30.952246",
   "version": "2.5.0"
  }
 },
 "nbformat": 4,
 "nbformat_minor": 5
}
