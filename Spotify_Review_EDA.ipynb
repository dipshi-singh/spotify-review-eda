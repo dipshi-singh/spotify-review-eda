{
 "cells": [
  {
   "cell_type": "code",
   "execution_count": 1,
   "id": "255c3782",
   "metadata": {
    "_cell_guid": "b1076dfc-b9ad-4769-8c92-a6c4dae69d19",
    "_uuid": "8f2839f25d086af736a60e9eeb907d3b93b6e0e5",
    "execution": {
     "iopub.execute_input": "2024-07-16T05:20:52.094631Z",
     "iopub.status.busy": "2024-07-16T05:20:52.094213Z",
     "iopub.status.idle": "2024-07-16T05:20:53.167617Z",
     "shell.execute_reply": "2024-07-16T05:20:53.166226Z"
    },
    "papermill": {
     "duration": 1.09954,
     "end_time": "2024-07-16T05:20:53.170676",
     "exception": false,
     "start_time": "2024-07-16T05:20:52.071136",
     "status": "completed"
    },
    "tags": []
   },
   "outputs": [
    {
     "name": "stdout",
     "output_type": "stream",
     "text": [
      "/kaggle/input/spotify-reviews-playstore-daily-update/spotify_reviews.csv\n"
     ]
    }
   ],
   "source": [
    "# This Python 3 environment comes with many helpful analytics libraries installed\n",
    "# It is defined by the kaggle/python Docker image: https://github.com/kaggle/docker-python\n",
    "# For example, here's several helpful packages to load\n",
    "\n",
    "import numpy as np # linear algebra\n",
    "import pandas as pd # data processing, CSV file I/O (e.g. pd.read_csv)\n",
    "\n",
    "# Input data files are available in the read-only \"../input/\" directory\n",
    "# For example, running this (by clicking run or pressing Shift+Enter) will list all files under the input directory\n",
    "\n",
    "import os\n",
    "for dirname, _, filenames in os.walk('/kaggle/input'):\n",
    "    for filename in filenames:\n",
    "        filepath = os.path.join(dirname, filename)\n",
    "        print(os.path.join(dirname, filename))\n",
    "\n",
    "# You can write up to 20GB to the current directory (/kaggle/working/) that gets preserved as output when you create a version using \"Save & Run All\" \n",
    "# You can also write temporary files to /kaggle/temp/, but they won't be saved outside of the current session"
   ]
  },
  {
   "cell_type": "code",
   "execution_count": 2,
   "id": "c2ab7062",
   "metadata": {
    "execution": {
     "iopub.execute_input": "2024-07-16T05:20:53.219195Z",
     "iopub.status.busy": "2024-07-16T05:20:53.218635Z",
     "iopub.status.idle": "2024-07-16T05:20:54.825364Z",
     "shell.execute_reply": "2024-07-16T05:20:54.824130Z"
    },
    "papermill": {
     "duration": 1.634187,
     "end_time": "2024-07-16T05:20:54.828840",
     "exception": false,
     "start_time": "2024-07-16T05:20:53.194653",
     "status": "completed"
    },
    "tags": []
   },
   "outputs": [],
   "source": [
    "import seaborn as sns\n",
    "import matplotlib.pyplot as plt\n",
    "import re"
   ]
  },
  {
   "cell_type": "code",
   "execution_count": 3,
   "id": "f75c2502",
   "metadata": {
    "execution": {
     "iopub.execute_input": "2024-07-16T05:20:54.872447Z",
     "iopub.status.busy": "2024-07-16T05:20:54.872027Z",
     "iopub.status.idle": "2024-07-16T05:20:56.061696Z",
     "shell.execute_reply": "2024-07-16T05:20:56.060305Z"
    },
    "papermill": {
     "duration": 1.213979,
     "end_time": "2024-07-16T05:20:56.064705",
     "exception": false,
     "start_time": "2024-07-16T05:20:54.850726",
     "status": "completed"
    },
    "tags": []
   },
   "outputs": [],
   "source": [
    "import nltk\n",
    "from nltk.corpus import stopwords"
   ]
  },
  {
   "cell_type": "code",
   "execution_count": 4,
   "id": "1be1e140",
   "metadata": {
    "execution": {
     "iopub.execute_input": "2024-07-16T05:20:56.110195Z",
     "iopub.status.busy": "2024-07-16T05:20:56.109713Z",
     "iopub.status.idle": "2024-07-16T05:20:57.612811Z",
     "shell.execute_reply": "2024-07-16T05:20:57.611550Z"
    },
    "papermill": {
     "duration": 1.528388,
     "end_time": "2024-07-16T05:20:57.615758",
     "exception": false,
     "start_time": "2024-07-16T05:20:56.087370",
     "status": "completed"
    },
    "tags": []
   },
   "outputs": [],
   "source": [
    "df = pd.read_csv(filepath)"
   ]
  },
  {
   "cell_type": "code",
   "execution_count": 5,
   "id": "3a6c0932",
   "metadata": {
    "execution": {
     "iopub.execute_input": "2024-07-16T05:20:57.659716Z",
     "iopub.status.busy": "2024-07-16T05:20:57.659124Z",
     "iopub.status.idle": "2024-07-16T05:20:57.698395Z",
     "shell.execute_reply": "2024-07-16T05:20:57.697034Z"
    },
    "papermill": {
     "duration": 0.064811,
     "end_time": "2024-07-16T05:20:57.701334",
     "exception": false,
     "start_time": "2024-07-16T05:20:57.636523",
     "status": "completed"
    },
    "tags": []
   },
   "outputs": [
    {
     "data": {
      "text/html": [
       "<div>\n",
       "<style scoped>\n",
       "    .dataframe tbody tr th:only-of-type {\n",
       "        vertical-align: middle;\n",
       "    }\n",
       "\n",
       "    .dataframe tbody tr th {\n",
       "        vertical-align: top;\n",
       "    }\n",
       "\n",
       "    .dataframe thead th {\n",
       "        text-align: right;\n",
       "    }\n",
       "</style>\n",
       "<table border=\"1\" class=\"dataframe\">\n",
       "  <thead>\n",
       "    <tr style=\"text-align: right;\">\n",
       "      <th></th>\n",
       "      <th>reviewId</th>\n",
       "      <th>userName</th>\n",
       "      <th>content</th>\n",
       "      <th>score</th>\n",
       "      <th>thumbsUpCount</th>\n",
       "      <th>reviewCreatedVersion</th>\n",
       "      <th>at</th>\n",
       "      <th>appVersion</th>\n",
       "    </tr>\n",
       "  </thead>\n",
       "  <tbody>\n",
       "    <tr>\n",
       "      <th>0</th>\n",
       "      <td>437314fe-1b1d-4352-abea-12fec30fce58</td>\n",
       "      <td>Rajib Das</td>\n",
       "      <td>It's good</td>\n",
       "      <td>4</td>\n",
       "      <td>0</td>\n",
       "      <td>NaN</td>\n",
       "      <td>2024-05-09 16:28:13</td>\n",
       "      <td>NaN</td>\n",
       "    </tr>\n",
       "    <tr>\n",
       "      <th>1</th>\n",
       "      <td>4933ad2c-c70a-4a84-957d-d405439b2e0f</td>\n",
       "      <td>Mihaela Claudia Neagu</td>\n",
       "      <td>I love this app so much, I've been using Spoti...</td>\n",
       "      <td>5</td>\n",
       "      <td>0</td>\n",
       "      <td>8.9.38.494</td>\n",
       "      <td>2024-05-09 16:27:18</td>\n",
       "      <td>8.9.38.494</td>\n",
       "    </tr>\n",
       "    <tr>\n",
       "      <th>2</th>\n",
       "      <td>1ab275fb-59bf-42c7-88ef-b85901f0445e</td>\n",
       "      <td>JONATHAN GRACIA</td>\n",
       "      <td>Perfect</td>\n",
       "      <td>5</td>\n",
       "      <td>0</td>\n",
       "      <td>8.9.36.616</td>\n",
       "      <td>2024-05-09 16:27:03</td>\n",
       "      <td>8.9.36.616</td>\n",
       "    </tr>\n",
       "    <tr>\n",
       "      <th>3</th>\n",
       "      <td>b38406eb-7b11-4ceb-a45c-d7f28fb5d382</td>\n",
       "      <td>Cam Rempel</td>\n",
       "      <td>Best all around music streaming app I have use...</td>\n",
       "      <td>5</td>\n",
       "      <td>0</td>\n",
       "      <td>8.9.38.494</td>\n",
       "      <td>2024-05-09 16:26:19</td>\n",
       "      <td>8.9.38.494</td>\n",
       "    </tr>\n",
       "    <tr>\n",
       "      <th>4</th>\n",
       "      <td>7be7999d-4cb6-47b9-8414-d7bdaa9df578</td>\n",
       "      <td>Your clowness (Her Clowness)</td>\n",
       "      <td>Are y'all fr gatekeeping the play button on so...</td>\n",
       "      <td>1</td>\n",
       "      <td>0</td>\n",
       "      <td>8.9.38.494</td>\n",
       "      <td>2024-05-09 16:26:14</td>\n",
       "      <td>8.9.38.494</td>\n",
       "    </tr>\n",
       "    <tr>\n",
       "      <th>...</th>\n",
       "      <td>...</td>\n",
       "      <td>...</td>\n",
       "      <td>...</td>\n",
       "      <td>...</td>\n",
       "      <td>...</td>\n",
       "      <td>...</td>\n",
       "      <td>...</td>\n",
       "      <td>...</td>\n",
       "    </tr>\n",
       "    <tr>\n",
       "      <th>84160</th>\n",
       "      <td>b41ccea7-2805-458a-bd70-547ff07ddb95</td>\n",
       "      <td>Marlena Scott</td>\n",
       "      <td>The most decent music streaming app around rig...</td>\n",
       "      <td>3</td>\n",
       "      <td>2</td>\n",
       "      <td>8.5.55.1105</td>\n",
       "      <td>2020-04-30 10:02:07</td>\n",
       "      <td>8.5.55.1105</td>\n",
       "    </tr>\n",
       "    <tr>\n",
       "      <th>84161</th>\n",
       "      <td>456cbd4f-d9b5-4d7b-8a7d-caab7593431e</td>\n",
       "      <td>A Google user</td>\n",
       "      <td>As a premium user for a few years, Spotify is ...</td>\n",
       "      <td>4</td>\n",
       "      <td>0</td>\n",
       "      <td>8.5.27.957</td>\n",
       "      <td>2019-10-11 16:28:13</td>\n",
       "      <td>8.5.27.957</td>\n",
       "    </tr>\n",
       "    <tr>\n",
       "      <th>84162</th>\n",
       "      <td>33317821-01e1-4207-964f-ae8109a0d6b3</td>\n",
       "      <td>Supriya Deepak</td>\n",
       "      <td>There is lot of ads all of a sudden, and it's ...</td>\n",
       "      <td>3</td>\n",
       "      <td>0</td>\n",
       "      <td>NaN</td>\n",
       "      <td>2020-11-27 14:14:34</td>\n",
       "      <td>NaN</td>\n",
       "    </tr>\n",
       "    <tr>\n",
       "      <th>84163</th>\n",
       "      <td>98acdcd9-a1e8-4d49-9fc8-1aee84d14383</td>\n",
       "      <td>A Google user</td>\n",
       "      <td>The UI could be better. I think there should b...</td>\n",
       "      <td>4</td>\n",
       "      <td>1</td>\n",
       "      <td>8.5.49.973</td>\n",
       "      <td>2020-03-28 03:50:24</td>\n",
       "      <td>8.5.49.973</td>\n",
       "    </tr>\n",
       "    <tr>\n",
       "      <th>84164</th>\n",
       "      <td>4263fcac-7aac-464c-b007-a7a25797b9df</td>\n",
       "      <td>lewis matley</td>\n",
       "      <td>It was good till I couldn't listen to the musi...</td>\n",
       "      <td>1</td>\n",
       "      <td>0</td>\n",
       "      <td>8.5.60.1013</td>\n",
       "      <td>2020-06-13 03:27:52</td>\n",
       "      <td>8.5.60.1013</td>\n",
       "    </tr>\n",
       "  </tbody>\n",
       "</table>\n",
       "<p>84165 rows × 8 columns</p>\n",
       "</div>"
      ],
      "text/plain": [
       "                                   reviewId                      userName  \\\n",
       "0      437314fe-1b1d-4352-abea-12fec30fce58                     Rajib Das   \n",
       "1      4933ad2c-c70a-4a84-957d-d405439b2e0f         Mihaela Claudia Neagu   \n",
       "2      1ab275fb-59bf-42c7-88ef-b85901f0445e               JONATHAN GRACIA   \n",
       "3      b38406eb-7b11-4ceb-a45c-d7f28fb5d382                    Cam Rempel   \n",
       "4      7be7999d-4cb6-47b9-8414-d7bdaa9df578  Your clowness (Her Clowness)   \n",
       "...                                     ...                           ...   \n",
       "84160  b41ccea7-2805-458a-bd70-547ff07ddb95                 Marlena Scott   \n",
       "84161  456cbd4f-d9b5-4d7b-8a7d-caab7593431e                 A Google user   \n",
       "84162  33317821-01e1-4207-964f-ae8109a0d6b3                Supriya Deepak   \n",
       "84163  98acdcd9-a1e8-4d49-9fc8-1aee84d14383                 A Google user   \n",
       "84164  4263fcac-7aac-464c-b007-a7a25797b9df                  lewis matley   \n",
       "\n",
       "                                                 content  score  \\\n",
       "0                                              It's good      4   \n",
       "1      I love this app so much, I've been using Spoti...      5   \n",
       "2                                                Perfect      5   \n",
       "3      Best all around music streaming app I have use...      5   \n",
       "4      Are y'all fr gatekeeping the play button on so...      1   \n",
       "...                                                  ...    ...   \n",
       "84160  The most decent music streaming app around rig...      3   \n",
       "84161  As a premium user for a few years, Spotify is ...      4   \n",
       "84162  There is lot of ads all of a sudden, and it's ...      3   \n",
       "84163  The UI could be better. I think there should b...      4   \n",
       "84164  It was good till I couldn't listen to the musi...      1   \n",
       "\n",
       "       thumbsUpCount reviewCreatedVersion                   at   appVersion  \n",
       "0                  0                  NaN  2024-05-09 16:28:13          NaN  \n",
       "1                  0           8.9.38.494  2024-05-09 16:27:18   8.9.38.494  \n",
       "2                  0           8.9.36.616  2024-05-09 16:27:03   8.9.36.616  \n",
       "3                  0           8.9.38.494  2024-05-09 16:26:19   8.9.38.494  \n",
       "4                  0           8.9.38.494  2024-05-09 16:26:14   8.9.38.494  \n",
       "...              ...                  ...                  ...          ...  \n",
       "84160              2          8.5.55.1105  2020-04-30 10:02:07  8.5.55.1105  \n",
       "84161              0           8.5.27.957  2019-10-11 16:28:13   8.5.27.957  \n",
       "84162              0                  NaN  2020-11-27 14:14:34          NaN  \n",
       "84163              1           8.5.49.973  2020-03-28 03:50:24   8.5.49.973  \n",
       "84164              0          8.5.60.1013  2020-06-13 03:27:52  8.5.60.1013  \n",
       "\n",
       "[84165 rows x 8 columns]"
      ]
     },
     "execution_count": 5,
     "metadata": {},
     "output_type": "execute_result"
    }
   ],
   "source": [
    "df"
   ]
  },
  {
   "cell_type": "code",
   "execution_count": 6,
   "id": "baca687f",
   "metadata": {
    "execution": {
     "iopub.execute_input": "2024-07-16T05:20:57.747069Z",
     "iopub.status.busy": "2024-07-16T05:20:57.746661Z",
     "iopub.status.idle": "2024-07-16T05:20:57.755049Z",
     "shell.execute_reply": "2024-07-16T05:20:57.753752Z"
    },
    "papermill": {
     "duration": 0.034915,
     "end_time": "2024-07-16T05:20:57.757692",
     "exception": false,
     "start_time": "2024-07-16T05:20:57.722777",
     "status": "completed"
    },
    "tags": []
   },
   "outputs": [
    {
     "data": {
      "text/plain": [
       "Index(['reviewId', 'userName', 'content', 'score', 'thumbsUpCount',\n",
       "       'reviewCreatedVersion', 'at', 'appVersion'],\n",
       "      dtype='object')"
      ]
     },
     "execution_count": 6,
     "metadata": {},
     "output_type": "execute_result"
    }
   ],
   "source": [
    "df.columns"
   ]
  },
  {
   "cell_type": "code",
   "execution_count": 7,
   "id": "0ac81a66",
   "metadata": {
    "execution": {
     "iopub.execute_input": "2024-07-16T05:20:57.802340Z",
     "iopub.status.busy": "2024-07-16T05:20:57.801221Z",
     "iopub.status.idle": "2024-07-16T05:20:57.886313Z",
     "shell.execute_reply": "2024-07-16T05:20:57.884837Z"
    },
    "papermill": {
     "duration": 0.110144,
     "end_time": "2024-07-16T05:20:57.889079",
     "exception": false,
     "start_time": "2024-07-16T05:20:57.778935",
     "status": "completed"
    },
    "tags": []
   },
   "outputs": [
    {
     "name": "stdout",
     "output_type": "stream",
     "text": [
      "<class 'pandas.core.frame.DataFrame'>\n",
      "RangeIndex: 84165 entries, 0 to 84164\n",
      "Data columns (total 8 columns):\n",
      " #   Column                Non-Null Count  Dtype \n",
      "---  ------                --------------  ----- \n",
      " 0   reviewId              84165 non-null  object\n",
      " 1   userName              84161 non-null  object\n",
      " 2   content               84165 non-null  object\n",
      " 3   score                 84165 non-null  int64 \n",
      " 4   thumbsUpCount         84165 non-null  int64 \n",
      " 5   reviewCreatedVersion  78397 non-null  object\n",
      " 6   at                    84165 non-null  object\n",
      " 7   appVersion            78397 non-null  object\n",
      "dtypes: int64(2), object(6)\n",
      "memory usage: 5.1+ MB\n"
     ]
    }
   ],
   "source": [
    "df.info()"
   ]
  },
  {
   "cell_type": "code",
   "execution_count": 8,
   "id": "ed2e0535",
   "metadata": {
    "execution": {
     "iopub.execute_input": "2024-07-16T05:20:57.935749Z",
     "iopub.status.busy": "2024-07-16T05:20:57.935343Z",
     "iopub.status.idle": "2024-07-16T05:20:57.954740Z",
     "shell.execute_reply": "2024-07-16T05:20:57.953115Z"
    },
    "papermill": {
     "duration": 0.047371,
     "end_time": "2024-07-16T05:20:57.957603",
     "exception": false,
     "start_time": "2024-07-16T05:20:57.910232",
     "status": "completed"
    },
    "tags": []
   },
   "outputs": [
    {
     "data": {
      "text/html": [
       "<div>\n",
       "<style scoped>\n",
       "    .dataframe tbody tr th:only-of-type {\n",
       "        vertical-align: middle;\n",
       "    }\n",
       "\n",
       "    .dataframe tbody tr th {\n",
       "        vertical-align: top;\n",
       "    }\n",
       "\n",
       "    .dataframe thead th {\n",
       "        text-align: right;\n",
       "    }\n",
       "</style>\n",
       "<table border=\"1\" class=\"dataframe\">\n",
       "  <thead>\n",
       "    <tr style=\"text-align: right;\">\n",
       "      <th></th>\n",
       "      <th>reviewId</th>\n",
       "      <th>userName</th>\n",
       "      <th>content</th>\n",
       "      <th>score</th>\n",
       "      <th>thumbsUpCount</th>\n",
       "      <th>reviewCreatedVersion</th>\n",
       "      <th>at</th>\n",
       "      <th>appVersion</th>\n",
       "    </tr>\n",
       "  </thead>\n",
       "  <tbody>\n",
       "    <tr>\n",
       "      <th>0</th>\n",
       "      <td>437314fe-1b1d-4352-abea-12fec30fce58</td>\n",
       "      <td>Rajib Das</td>\n",
       "      <td>It's good</td>\n",
       "      <td>4</td>\n",
       "      <td>0</td>\n",
       "      <td>NaN</td>\n",
       "      <td>2024-05-09 16:28:13</td>\n",
       "      <td>NaN</td>\n",
       "    </tr>\n",
       "    <tr>\n",
       "      <th>1</th>\n",
       "      <td>4933ad2c-c70a-4a84-957d-d405439b2e0f</td>\n",
       "      <td>Mihaela Claudia Neagu</td>\n",
       "      <td>I love this app so much, I've been using Spoti...</td>\n",
       "      <td>5</td>\n",
       "      <td>0</td>\n",
       "      <td>8.9.38.494</td>\n",
       "      <td>2024-05-09 16:27:18</td>\n",
       "      <td>8.9.38.494</td>\n",
       "    </tr>\n",
       "    <tr>\n",
       "      <th>2</th>\n",
       "      <td>1ab275fb-59bf-42c7-88ef-b85901f0445e</td>\n",
       "      <td>JONATHAN GRACIA</td>\n",
       "      <td>Perfect</td>\n",
       "      <td>5</td>\n",
       "      <td>0</td>\n",
       "      <td>8.9.36.616</td>\n",
       "      <td>2024-05-09 16:27:03</td>\n",
       "      <td>8.9.36.616</td>\n",
       "    </tr>\n",
       "    <tr>\n",
       "      <th>3</th>\n",
       "      <td>b38406eb-7b11-4ceb-a45c-d7f28fb5d382</td>\n",
       "      <td>Cam Rempel</td>\n",
       "      <td>Best all around music streaming app I have use...</td>\n",
       "      <td>5</td>\n",
       "      <td>0</td>\n",
       "      <td>8.9.38.494</td>\n",
       "      <td>2024-05-09 16:26:19</td>\n",
       "      <td>8.9.38.494</td>\n",
       "    </tr>\n",
       "    <tr>\n",
       "      <th>4</th>\n",
       "      <td>7be7999d-4cb6-47b9-8414-d7bdaa9df578</td>\n",
       "      <td>Your clowness (Her Clowness)</td>\n",
       "      <td>Are y'all fr gatekeeping the play button on so...</td>\n",
       "      <td>1</td>\n",
       "      <td>0</td>\n",
       "      <td>8.9.38.494</td>\n",
       "      <td>2024-05-09 16:26:14</td>\n",
       "      <td>8.9.38.494</td>\n",
       "    </tr>\n",
       "  </tbody>\n",
       "</table>\n",
       "</div>"
      ],
      "text/plain": [
       "                               reviewId                      userName  \\\n",
       "0  437314fe-1b1d-4352-abea-12fec30fce58                     Rajib Das   \n",
       "1  4933ad2c-c70a-4a84-957d-d405439b2e0f         Mihaela Claudia Neagu   \n",
       "2  1ab275fb-59bf-42c7-88ef-b85901f0445e               JONATHAN GRACIA   \n",
       "3  b38406eb-7b11-4ceb-a45c-d7f28fb5d382                    Cam Rempel   \n",
       "4  7be7999d-4cb6-47b9-8414-d7bdaa9df578  Your clowness (Her Clowness)   \n",
       "\n",
       "                                             content  score  thumbsUpCount  \\\n",
       "0                                          It's good      4              0   \n",
       "1  I love this app so much, I've been using Spoti...      5              0   \n",
       "2                                            Perfect      5              0   \n",
       "3  Best all around music streaming app I have use...      5              0   \n",
       "4  Are y'all fr gatekeeping the play button on so...      1              0   \n",
       "\n",
       "  reviewCreatedVersion                   at  appVersion  \n",
       "0                  NaN  2024-05-09 16:28:13         NaN  \n",
       "1           8.9.38.494  2024-05-09 16:27:18  8.9.38.494  \n",
       "2           8.9.36.616  2024-05-09 16:27:03  8.9.36.616  \n",
       "3           8.9.38.494  2024-05-09 16:26:19  8.9.38.494  \n",
       "4           8.9.38.494  2024-05-09 16:26:14  8.9.38.494  "
      ]
     },
     "execution_count": 8,
     "metadata": {},
     "output_type": "execute_result"
    }
   ],
   "source": [
    "df.head()"
   ]
  },
  {
   "cell_type": "code",
   "execution_count": 9,
   "id": "6372f86d",
   "metadata": {
    "execution": {
     "iopub.execute_input": "2024-07-16T05:20:58.002640Z",
     "iopub.status.busy": "2024-07-16T05:20:58.002208Z",
     "iopub.status.idle": "2024-07-16T05:20:58.008662Z",
     "shell.execute_reply": "2024-07-16T05:20:58.007130Z"
    },
    "papermill": {
     "duration": 0.032253,
     "end_time": "2024-07-16T05:20:58.011647",
     "exception": false,
     "start_time": "2024-07-16T05:20:57.979394",
     "status": "completed"
    },
    "tags": []
   },
   "outputs": [],
   "source": [
    "df.rename(columns={'thumbsUpCount':'likesOnReview',\n",
    "        'at':'reviewDate'},inplace=True)"
   ]
  },
  {
   "cell_type": "code",
   "execution_count": 10,
   "id": "30120f7d",
   "metadata": {
    "execution": {
     "iopub.execute_input": "2024-07-16T05:20:58.057665Z",
     "iopub.status.busy": "2024-07-16T05:20:58.057251Z",
     "iopub.status.idle": "2024-07-16T05:20:58.071863Z",
     "shell.execute_reply": "2024-07-16T05:20:58.070525Z"
    },
    "papermill": {
     "duration": 0.040386,
     "end_time": "2024-07-16T05:20:58.074885",
     "exception": false,
     "start_time": "2024-07-16T05:20:58.034499",
     "status": "completed"
    },
    "tags": []
   },
   "outputs": [],
   "source": [
    "df = df.drop('reviewCreatedVersion',axis=1)"
   ]
  },
  {
   "cell_type": "code",
   "execution_count": 11,
   "id": "3d614f04",
   "metadata": {
    "execution": {
     "iopub.execute_input": "2024-07-16T05:20:58.119787Z",
     "iopub.status.busy": "2024-07-16T05:20:58.119354Z",
     "iopub.status.idle": "2024-07-16T05:20:58.135064Z",
     "shell.execute_reply": "2024-07-16T05:20:58.133404Z"
    },
    "papermill": {
     "duration": 0.041586,
     "end_time": "2024-07-16T05:20:58.137782",
     "exception": false,
     "start_time": "2024-07-16T05:20:58.096196",
     "status": "completed"
    },
    "tags": []
   },
   "outputs": [
    {
     "data": {
      "text/html": [
       "<div>\n",
       "<style scoped>\n",
       "    .dataframe tbody tr th:only-of-type {\n",
       "        vertical-align: middle;\n",
       "    }\n",
       "\n",
       "    .dataframe tbody tr th {\n",
       "        vertical-align: top;\n",
       "    }\n",
       "\n",
       "    .dataframe thead th {\n",
       "        text-align: right;\n",
       "    }\n",
       "</style>\n",
       "<table border=\"1\" class=\"dataframe\">\n",
       "  <thead>\n",
       "    <tr style=\"text-align: right;\">\n",
       "      <th></th>\n",
       "      <th>reviewId</th>\n",
       "      <th>userName</th>\n",
       "      <th>content</th>\n",
       "      <th>score</th>\n",
       "      <th>likesOnReview</th>\n",
       "      <th>reviewDate</th>\n",
       "      <th>appVersion</th>\n",
       "    </tr>\n",
       "  </thead>\n",
       "  <tbody>\n",
       "    <tr>\n",
       "      <th>0</th>\n",
       "      <td>437314fe-1b1d-4352-abea-12fec30fce58</td>\n",
       "      <td>Rajib Das</td>\n",
       "      <td>It's good</td>\n",
       "      <td>4</td>\n",
       "      <td>0</td>\n",
       "      <td>2024-05-09 16:28:13</td>\n",
       "      <td>NaN</td>\n",
       "    </tr>\n",
       "    <tr>\n",
       "      <th>1</th>\n",
       "      <td>4933ad2c-c70a-4a84-957d-d405439b2e0f</td>\n",
       "      <td>Mihaela Claudia Neagu</td>\n",
       "      <td>I love this app so much, I've been using Spoti...</td>\n",
       "      <td>5</td>\n",
       "      <td>0</td>\n",
       "      <td>2024-05-09 16:27:18</td>\n",
       "      <td>8.9.38.494</td>\n",
       "    </tr>\n",
       "    <tr>\n",
       "      <th>2</th>\n",
       "      <td>1ab275fb-59bf-42c7-88ef-b85901f0445e</td>\n",
       "      <td>JONATHAN GRACIA</td>\n",
       "      <td>Perfect</td>\n",
       "      <td>5</td>\n",
       "      <td>0</td>\n",
       "      <td>2024-05-09 16:27:03</td>\n",
       "      <td>8.9.36.616</td>\n",
       "    </tr>\n",
       "    <tr>\n",
       "      <th>3</th>\n",
       "      <td>b38406eb-7b11-4ceb-a45c-d7f28fb5d382</td>\n",
       "      <td>Cam Rempel</td>\n",
       "      <td>Best all around music streaming app I have use...</td>\n",
       "      <td>5</td>\n",
       "      <td>0</td>\n",
       "      <td>2024-05-09 16:26:19</td>\n",
       "      <td>8.9.38.494</td>\n",
       "    </tr>\n",
       "    <tr>\n",
       "      <th>4</th>\n",
       "      <td>7be7999d-4cb6-47b9-8414-d7bdaa9df578</td>\n",
       "      <td>Your clowness (Her Clowness)</td>\n",
       "      <td>Are y'all fr gatekeeping the play button on so...</td>\n",
       "      <td>1</td>\n",
       "      <td>0</td>\n",
       "      <td>2024-05-09 16:26:14</td>\n",
       "      <td>8.9.38.494</td>\n",
       "    </tr>\n",
       "  </tbody>\n",
       "</table>\n",
       "</div>"
      ],
      "text/plain": [
       "                               reviewId                      userName  \\\n",
       "0  437314fe-1b1d-4352-abea-12fec30fce58                     Rajib Das   \n",
       "1  4933ad2c-c70a-4a84-957d-d405439b2e0f         Mihaela Claudia Neagu   \n",
       "2  1ab275fb-59bf-42c7-88ef-b85901f0445e               JONATHAN GRACIA   \n",
       "3  b38406eb-7b11-4ceb-a45c-d7f28fb5d382                    Cam Rempel   \n",
       "4  7be7999d-4cb6-47b9-8414-d7bdaa9df578  Your clowness (Her Clowness)   \n",
       "\n",
       "                                             content  score  likesOnReview  \\\n",
       "0                                          It's good      4              0   \n",
       "1  I love this app so much, I've been using Spoti...      5              0   \n",
       "2                                            Perfect      5              0   \n",
       "3  Best all around music streaming app I have use...      5              0   \n",
       "4  Are y'all fr gatekeeping the play button on so...      1              0   \n",
       "\n",
       "            reviewDate  appVersion  \n",
       "0  2024-05-09 16:28:13         NaN  \n",
       "1  2024-05-09 16:27:18  8.9.38.494  \n",
       "2  2024-05-09 16:27:03  8.9.36.616  \n",
       "3  2024-05-09 16:26:19  8.9.38.494  \n",
       "4  2024-05-09 16:26:14  8.9.38.494  "
      ]
     },
     "execution_count": 11,
     "metadata": {},
     "output_type": "execute_result"
    }
   ],
   "source": [
    "df.head()"
   ]
  },
  {
   "cell_type": "code",
   "execution_count": 12,
   "id": "b18eb306",
   "metadata": {
    "execution": {
     "iopub.execute_input": "2024-07-16T05:20:58.183165Z",
     "iopub.status.busy": "2024-07-16T05:20:58.182702Z",
     "iopub.status.idle": "2024-07-16T05:20:58.213729Z",
     "shell.execute_reply": "2024-07-16T05:20:58.212275Z"
    },
    "papermill": {
     "duration": 0.057957,
     "end_time": "2024-07-16T05:20:58.217299",
     "exception": false,
     "start_time": "2024-07-16T05:20:58.159342",
     "status": "completed"
    },
    "tags": []
   },
   "outputs": [
    {
     "data": {
      "text/html": [
       "<div>\n",
       "<style scoped>\n",
       "    .dataframe tbody tr th:only-of-type {\n",
       "        vertical-align: middle;\n",
       "    }\n",
       "\n",
       "    .dataframe tbody tr th {\n",
       "        vertical-align: top;\n",
       "    }\n",
       "\n",
       "    .dataframe thead th {\n",
       "        text-align: right;\n",
       "    }\n",
       "</style>\n",
       "<table border=\"1\" class=\"dataframe\">\n",
       "  <thead>\n",
       "    <tr style=\"text-align: right;\">\n",
       "      <th></th>\n",
       "      <th>score</th>\n",
       "      <th>likesOnReview</th>\n",
       "    </tr>\n",
       "  </thead>\n",
       "  <tbody>\n",
       "    <tr>\n",
       "      <th>count</th>\n",
       "      <td>84165.000000</td>\n",
       "      <td>84165.000000</td>\n",
       "    </tr>\n",
       "    <tr>\n",
       "      <th>mean</th>\n",
       "      <td>2.439696</td>\n",
       "      <td>15.690097</td>\n",
       "    </tr>\n",
       "    <tr>\n",
       "      <th>std</th>\n",
       "      <td>1.508838</td>\n",
       "      <td>102.131869</td>\n",
       "    </tr>\n",
       "    <tr>\n",
       "      <th>min</th>\n",
       "      <td>1.000000</td>\n",
       "      <td>0.000000</td>\n",
       "    </tr>\n",
       "    <tr>\n",
       "      <th>25%</th>\n",
       "      <td>1.000000</td>\n",
       "      <td>0.000000</td>\n",
       "    </tr>\n",
       "    <tr>\n",
       "      <th>50%</th>\n",
       "      <td>2.000000</td>\n",
       "      <td>0.000000</td>\n",
       "    </tr>\n",
       "    <tr>\n",
       "      <th>75%</th>\n",
       "      <td>4.000000</td>\n",
       "      <td>4.000000</td>\n",
       "    </tr>\n",
       "    <tr>\n",
       "      <th>max</th>\n",
       "      <td>5.000000</td>\n",
       "      <td>9781.000000</td>\n",
       "    </tr>\n",
       "  </tbody>\n",
       "</table>\n",
       "</div>"
      ],
      "text/plain": [
       "              score  likesOnReview\n",
       "count  84165.000000   84165.000000\n",
       "mean       2.439696      15.690097\n",
       "std        1.508838     102.131869\n",
       "min        1.000000       0.000000\n",
       "25%        1.000000       0.000000\n",
       "50%        2.000000       0.000000\n",
       "75%        4.000000       4.000000\n",
       "max        5.000000    9781.000000"
      ]
     },
     "execution_count": 12,
     "metadata": {},
     "output_type": "execute_result"
    }
   ],
   "source": [
    "df.describe()"
   ]
  },
  {
   "cell_type": "markdown",
   "id": "f49d533d",
   "metadata": {
    "papermill": {
     "duration": 0.024105,
     "end_time": "2024-07-16T05:20:58.266029",
     "exception": false,
     "start_time": "2024-07-16T05:20:58.241924",
     "status": "completed"
    },
    "tags": []
   },
   "source": [
    "## fixing username\n",
    "* removing non alphabetic characters\n",
    "* lower case"
   ]
  },
  {
   "cell_type": "code",
   "execution_count": 13,
   "id": "09844e1c",
   "metadata": {
    "execution": {
     "iopub.execute_input": "2024-07-16T05:20:58.314405Z",
     "iopub.status.busy": "2024-07-16T05:20:58.313974Z",
     "iopub.status.idle": "2024-07-16T05:20:58.628022Z",
     "shell.execute_reply": "2024-07-16T05:20:58.626795Z"
    },
    "papermill": {
     "duration": 0.341683,
     "end_time": "2024-07-16T05:20:58.630929",
     "exception": false,
     "start_time": "2024-07-16T05:20:58.289246",
     "status": "completed"
    },
    "tags": []
   },
   "outputs": [],
   "source": [
    "pattern = r'([a-zA-Z]+)'\n",
    "df['userName'] = df['userName'].str.extract(pattern)"
   ]
  },
  {
   "cell_type": "code",
   "execution_count": 14,
   "id": "4099d44a",
   "metadata": {
    "execution": {
     "iopub.execute_input": "2024-07-16T05:20:58.679842Z",
     "iopub.status.busy": "2024-07-16T05:20:58.679419Z",
     "iopub.status.idle": "2024-07-16T05:20:58.720608Z",
     "shell.execute_reply": "2024-07-16T05:20:58.719303Z"
    },
    "papermill": {
     "duration": 0.069861,
     "end_time": "2024-07-16T05:20:58.723743",
     "exception": false,
     "start_time": "2024-07-16T05:20:58.653882",
     "status": "completed"
    },
    "tags": []
   },
   "outputs": [
    {
     "data": {
      "text/html": [
       "<div>\n",
       "<style scoped>\n",
       "    .dataframe tbody tr th:only-of-type {\n",
       "        vertical-align: middle;\n",
       "    }\n",
       "\n",
       "    .dataframe tbody tr th {\n",
       "        vertical-align: top;\n",
       "    }\n",
       "\n",
       "    .dataframe thead th {\n",
       "        text-align: right;\n",
       "    }\n",
       "</style>\n",
       "<table border=\"1\" class=\"dataframe\">\n",
       "  <thead>\n",
       "    <tr style=\"text-align: right;\">\n",
       "      <th></th>\n",
       "      <th>reviewId</th>\n",
       "      <th>userName</th>\n",
       "      <th>content</th>\n",
       "      <th>score</th>\n",
       "      <th>likesOnReview</th>\n",
       "      <th>reviewDate</th>\n",
       "      <th>appVersion</th>\n",
       "    </tr>\n",
       "  </thead>\n",
       "  <tbody>\n",
       "    <tr>\n",
       "      <th>0</th>\n",
       "      <td>437314fe-1b1d-4352-abea-12fec30fce58</td>\n",
       "      <td>rajib</td>\n",
       "      <td>It's good</td>\n",
       "      <td>4</td>\n",
       "      <td>0</td>\n",
       "      <td>2024-05-09 16:28:13</td>\n",
       "      <td>NaN</td>\n",
       "    </tr>\n",
       "    <tr>\n",
       "      <th>1</th>\n",
       "      <td>4933ad2c-c70a-4a84-957d-d405439b2e0f</td>\n",
       "      <td>mihaela</td>\n",
       "      <td>I love this app so much, I've been using Spoti...</td>\n",
       "      <td>5</td>\n",
       "      <td>0</td>\n",
       "      <td>2024-05-09 16:27:18</td>\n",
       "      <td>8.9.38.494</td>\n",
       "    </tr>\n",
       "    <tr>\n",
       "      <th>2</th>\n",
       "      <td>1ab275fb-59bf-42c7-88ef-b85901f0445e</td>\n",
       "      <td>jonathan</td>\n",
       "      <td>Perfect</td>\n",
       "      <td>5</td>\n",
       "      <td>0</td>\n",
       "      <td>2024-05-09 16:27:03</td>\n",
       "      <td>8.9.36.616</td>\n",
       "    </tr>\n",
       "    <tr>\n",
       "      <th>3</th>\n",
       "      <td>b38406eb-7b11-4ceb-a45c-d7f28fb5d382</td>\n",
       "      <td>cam</td>\n",
       "      <td>Best all around music streaming app I have use...</td>\n",
       "      <td>5</td>\n",
       "      <td>0</td>\n",
       "      <td>2024-05-09 16:26:19</td>\n",
       "      <td>8.9.38.494</td>\n",
       "    </tr>\n",
       "    <tr>\n",
       "      <th>4</th>\n",
       "      <td>7be7999d-4cb6-47b9-8414-d7bdaa9df578</td>\n",
       "      <td>your</td>\n",
       "      <td>Are y'all fr gatekeeping the play button on so...</td>\n",
       "      <td>1</td>\n",
       "      <td>0</td>\n",
       "      <td>2024-05-09 16:26:14</td>\n",
       "      <td>8.9.38.494</td>\n",
       "    </tr>\n",
       "  </tbody>\n",
       "</table>\n",
       "</div>"
      ],
      "text/plain": [
       "                               reviewId  userName  \\\n",
       "0  437314fe-1b1d-4352-abea-12fec30fce58     rajib   \n",
       "1  4933ad2c-c70a-4a84-957d-d405439b2e0f   mihaela   \n",
       "2  1ab275fb-59bf-42c7-88ef-b85901f0445e  jonathan   \n",
       "3  b38406eb-7b11-4ceb-a45c-d7f28fb5d382       cam   \n",
       "4  7be7999d-4cb6-47b9-8414-d7bdaa9df578      your   \n",
       "\n",
       "                                             content  score  likesOnReview  \\\n",
       "0                                          It's good      4              0   \n",
       "1  I love this app so much, I've been using Spoti...      5              0   \n",
       "2                                            Perfect      5              0   \n",
       "3  Best all around music streaming app I have use...      5              0   \n",
       "4  Are y'all fr gatekeeping the play button on so...      1              0   \n",
       "\n",
       "            reviewDate  appVersion  \n",
       "0  2024-05-09 16:28:13         NaN  \n",
       "1  2024-05-09 16:27:18  8.9.38.494  \n",
       "2  2024-05-09 16:27:03  8.9.36.616  \n",
       "3  2024-05-09 16:26:19  8.9.38.494  \n",
       "4  2024-05-09 16:26:14  8.9.38.494  "
      ]
     },
     "execution_count": 14,
     "metadata": {},
     "output_type": "execute_result"
    }
   ],
   "source": [
    "df['userName'] = df['userName'].str.lower()\n",
    "df.head()"
   ]
  },
  {
   "cell_type": "markdown",
   "id": "27060dc8",
   "metadata": {
    "papermill": {
     "duration": 0.022436,
     "end_time": "2024-07-16T05:20:58.769955",
     "exception": false,
     "start_time": "2024-07-16T05:20:58.747519",
     "status": "completed"
    },
    "tags": []
   },
   "source": [
    "### fixing index\n",
    "* removed original review id column\n",
    "* added new review id col"
   ]
  },
  {
   "cell_type": "code",
   "execution_count": 15,
   "id": "44bbcc43",
   "metadata": {
    "execution": {
     "iopub.execute_input": "2024-07-16T05:20:58.818860Z",
     "iopub.status.busy": "2024-07-16T05:20:58.818409Z",
     "iopub.status.idle": "2024-07-16T05:20:58.834362Z",
     "shell.execute_reply": "2024-07-16T05:20:58.832866Z"
    },
    "papermill": {
     "duration": 0.044618,
     "end_time": "2024-07-16T05:20:58.837268",
     "exception": false,
     "start_time": "2024-07-16T05:20:58.792650",
     "status": "completed"
    },
    "tags": []
   },
   "outputs": [
    {
     "data": {
      "text/html": [
       "<div>\n",
       "<style scoped>\n",
       "    .dataframe tbody tr th:only-of-type {\n",
       "        vertical-align: middle;\n",
       "    }\n",
       "\n",
       "    .dataframe tbody tr th {\n",
       "        vertical-align: top;\n",
       "    }\n",
       "\n",
       "    .dataframe thead th {\n",
       "        text-align: right;\n",
       "    }\n",
       "</style>\n",
       "<table border=\"1\" class=\"dataframe\">\n",
       "  <thead>\n",
       "    <tr style=\"text-align: right;\">\n",
       "      <th></th>\n",
       "      <th>reviewId</th>\n",
       "      <th>userName</th>\n",
       "      <th>content</th>\n",
       "      <th>score</th>\n",
       "      <th>likesOnReview</th>\n",
       "      <th>reviewDate</th>\n",
       "      <th>appVersion</th>\n",
       "    </tr>\n",
       "  </thead>\n",
       "  <tbody>\n",
       "    <tr>\n",
       "      <th>0</th>\n",
       "      <td>0</td>\n",
       "      <td>rajib</td>\n",
       "      <td>It's good</td>\n",
       "      <td>4</td>\n",
       "      <td>0</td>\n",
       "      <td>2024-05-09 16:28:13</td>\n",
       "      <td>NaN</td>\n",
       "    </tr>\n",
       "    <tr>\n",
       "      <th>1</th>\n",
       "      <td>1</td>\n",
       "      <td>mihaela</td>\n",
       "      <td>I love this app so much, I've been using Spoti...</td>\n",
       "      <td>5</td>\n",
       "      <td>0</td>\n",
       "      <td>2024-05-09 16:27:18</td>\n",
       "      <td>8.9.38.494</td>\n",
       "    </tr>\n",
       "    <tr>\n",
       "      <th>2</th>\n",
       "      <td>2</td>\n",
       "      <td>jonathan</td>\n",
       "      <td>Perfect</td>\n",
       "      <td>5</td>\n",
       "      <td>0</td>\n",
       "      <td>2024-05-09 16:27:03</td>\n",
       "      <td>8.9.36.616</td>\n",
       "    </tr>\n",
       "    <tr>\n",
       "      <th>3</th>\n",
       "      <td>3</td>\n",
       "      <td>cam</td>\n",
       "      <td>Best all around music streaming app I have use...</td>\n",
       "      <td>5</td>\n",
       "      <td>0</td>\n",
       "      <td>2024-05-09 16:26:19</td>\n",
       "      <td>8.9.38.494</td>\n",
       "    </tr>\n",
       "    <tr>\n",
       "      <th>4</th>\n",
       "      <td>4</td>\n",
       "      <td>your</td>\n",
       "      <td>Are y'all fr gatekeeping the play button on so...</td>\n",
       "      <td>1</td>\n",
       "      <td>0</td>\n",
       "      <td>2024-05-09 16:26:14</td>\n",
       "      <td>8.9.38.494</td>\n",
       "    </tr>\n",
       "  </tbody>\n",
       "</table>\n",
       "</div>"
      ],
      "text/plain": [
       "   reviewId  userName                                            content  \\\n",
       "0         0     rajib                                          It's good   \n",
       "1         1   mihaela  I love this app so much, I've been using Spoti...   \n",
       "2         2  jonathan                                            Perfect   \n",
       "3         3       cam  Best all around music streaming app I have use...   \n",
       "4         4      your  Are y'all fr gatekeeping the play button on so...   \n",
       "\n",
       "   score  likesOnReview           reviewDate  appVersion  \n",
       "0      4              0  2024-05-09 16:28:13         NaN  \n",
       "1      5              0  2024-05-09 16:27:18  8.9.38.494  \n",
       "2      5              0  2024-05-09 16:27:03  8.9.36.616  \n",
       "3      5              0  2024-05-09 16:26:19  8.9.38.494  \n",
       "4      1              0  2024-05-09 16:26:14  8.9.38.494  "
      ]
     },
     "execution_count": 15,
     "metadata": {},
     "output_type": "execute_result"
    }
   ],
   "source": [
    "df['reviewId'] =  range(len(df))\n",
    "df.head()"
   ]
  },
  {
   "cell_type": "markdown",
   "id": "cbd22d7d",
   "metadata": {
    "papermill": {
     "duration": 0.022961,
     "end_time": "2024-07-16T05:20:58.884539",
     "exception": false,
     "start_time": "2024-07-16T05:20:58.861578",
     "status": "completed"
    },
    "tags": []
   },
   "source": [
    "### checking out score column"
   ]
  },
  {
   "cell_type": "code",
   "execution_count": 16,
   "id": "51662c7f",
   "metadata": {
    "execution": {
     "iopub.execute_input": "2024-07-16T05:20:58.934159Z",
     "iopub.status.busy": "2024-07-16T05:20:58.933620Z",
     "iopub.status.idle": "2024-07-16T05:20:58.949222Z",
     "shell.execute_reply": "2024-07-16T05:20:58.947562Z"
    },
    "papermill": {
     "duration": 0.044198,
     "end_time": "2024-07-16T05:20:58.952277",
     "exception": false,
     "start_time": "2024-07-16T05:20:58.908079",
     "status": "completed"
    },
    "tags": []
   },
   "outputs": [
    {
     "data": {
      "text/plain": [
       "count    84165.000000\n",
       "mean         2.439696\n",
       "std          1.508838\n",
       "min          1.000000\n",
       "25%          1.000000\n",
       "50%          2.000000\n",
       "75%          4.000000\n",
       "max          5.000000\n",
       "Name: score, dtype: float64"
      ]
     },
     "execution_count": 16,
     "metadata": {},
     "output_type": "execute_result"
    }
   ],
   "source": [
    "df['score'].describe()"
   ]
  },
  {
   "cell_type": "code",
   "execution_count": 17,
   "id": "57344b2a",
   "metadata": {
    "execution": {
     "iopub.execute_input": "2024-07-16T05:20:58.999742Z",
     "iopub.status.busy": "2024-07-16T05:20:58.999319Z",
     "iopub.status.idle": "2024-07-16T05:20:59.011206Z",
     "shell.execute_reply": "2024-07-16T05:20:59.009968Z"
    },
    "papermill": {
     "duration": 0.038738,
     "end_time": "2024-07-16T05:20:59.013865",
     "exception": false,
     "start_time": "2024-07-16T05:20:58.975127",
     "status": "completed"
    },
    "tags": []
   },
   "outputs": [
    {
     "name": "stdout",
     "output_type": "stream",
     "text": [
      "<class 'pandas.core.series.Series'>\n",
      "RangeIndex: 84165 entries, 0 to 84164\n",
      "Series name: score\n",
      "Non-Null Count  Dtype\n",
      "--------------  -----\n",
      "84165 non-null  int64\n",
      "dtypes: int64(1)\n",
      "memory usage: 657.7 KB\n"
     ]
    }
   ],
   "source": [
    "df['score'].info()"
   ]
  },
  {
   "cell_type": "markdown",
   "id": "cc19af15",
   "metadata": {
    "papermill": {
     "duration": 0.022704,
     "end_time": "2024-07-16T05:20:59.060344",
     "exception": false,
     "start_time": "2024-07-16T05:20:59.037640",
     "status": "completed"
    },
    "tags": []
   },
   "source": [
    "### fixing review date\n",
    "* converting date to pandas datetime type"
   ]
  },
  {
   "cell_type": "code",
   "execution_count": 18,
   "id": "5a5898b9",
   "metadata": {
    "execution": {
     "iopub.execute_input": "2024-07-16T05:20:59.109278Z",
     "iopub.status.busy": "2024-07-16T05:20:59.108872Z",
     "iopub.status.idle": "2024-07-16T05:20:59.131636Z",
     "shell.execute_reply": "2024-07-16T05:20:59.130462Z"
    },
    "papermill": {
     "duration": 0.050851,
     "end_time": "2024-07-16T05:20:59.134448",
     "exception": false,
     "start_time": "2024-07-16T05:20:59.083597",
     "status": "completed"
    },
    "tags": []
   },
   "outputs": [
    {
     "name": "stdout",
     "output_type": "stream",
     "text": [
      "<class 'pandas.core.series.Series'>\n",
      "RangeIndex: 84165 entries, 0 to 84164\n",
      "Series name: reviewDate\n",
      "Non-Null Count  Dtype \n",
      "--------------  ----- \n",
      "84165 non-null  object\n",
      "dtypes: object(1)\n",
      "memory usage: 657.7+ KB\n"
     ]
    }
   ],
   "source": [
    "df['reviewDate'].info()"
   ]
  },
  {
   "cell_type": "code",
   "execution_count": 19,
   "id": "25284e25",
   "metadata": {
    "execution": {
     "iopub.execute_input": "2024-07-16T05:20:59.254637Z",
     "iopub.status.busy": "2024-07-16T05:20:59.254212Z",
     "iopub.status.idle": "2024-07-16T05:20:59.364464Z",
     "shell.execute_reply": "2024-07-16T05:20:59.362781Z"
    },
    "papermill": {
     "duration": 0.139469,
     "end_time": "2024-07-16T05:20:59.367076",
     "exception": false,
     "start_time": "2024-07-16T05:20:59.227607",
     "status": "completed"
    },
    "tags": []
   },
   "outputs": [
    {
     "data": {
      "text/plain": [
       "count                   84165\n",
       "unique                  84083\n",
       "top       2024-03-13 16:09:44\n",
       "freq                        2\n",
       "Name: reviewDate, dtype: object"
      ]
     },
     "execution_count": 19,
     "metadata": {},
     "output_type": "execute_result"
    }
   ],
   "source": [
    "df['reviewDate'].describe()"
   ]
  },
  {
   "cell_type": "code",
   "execution_count": 20,
   "id": "d4cc559f",
   "metadata": {
    "execution": {
     "iopub.execute_input": "2024-07-16T05:20:59.416025Z",
     "iopub.status.busy": "2024-07-16T05:20:59.415645Z",
     "iopub.status.idle": "2024-07-16T05:20:59.425689Z",
     "shell.execute_reply": "2024-07-16T05:20:59.424504Z"
    },
    "papermill": {
     "duration": 0.037532,
     "end_time": "2024-07-16T05:20:59.428512",
     "exception": false,
     "start_time": "2024-07-16T05:20:59.390980",
     "status": "completed"
    },
    "tags": []
   },
   "outputs": [],
   "source": [
    "df['reviewDate'] = df['reviewDate'].astype(str)\n",
    "#df['reviewDate'] = pd.to_datetime(df['reviewDate'])"
   ]
  },
  {
   "cell_type": "markdown",
   "id": "36632e7b",
   "metadata": {
    "papermill": {
     "duration": 0.023353,
     "end_time": "2024-07-16T05:20:59.475528",
     "exception": false,
     "start_time": "2024-07-16T05:20:59.452175",
     "status": "completed"
    },
    "tags": []
   },
   "source": [
    "#### splitting date and time into 2 separate columns\n"
   ]
  },
  {
   "cell_type": "code",
   "execution_count": 21,
   "id": "1ca89615",
   "metadata": {
    "execution": {
     "iopub.execute_input": "2024-07-16T05:20:59.522774Z",
     "iopub.status.busy": "2024-07-16T05:20:59.522380Z",
     "iopub.status.idle": "2024-07-16T05:21:00.040354Z",
     "shell.execute_reply": "2024-07-16T05:21:00.039095Z"
    },
    "papermill": {
     "duration": 0.545189,
     "end_time": "2024-07-16T05:21:00.043491",
     "exception": false,
     "start_time": "2024-07-16T05:20:59.498302",
     "status": "completed"
    },
    "tags": []
   },
   "outputs": [],
   "source": [
    "df['reviewTime'] = df['reviewDate'].str.split(' ').str[1]\n",
    "df['reviewDate'] = df['reviewDate'].str.split(' ').str[0]"
   ]
  },
  {
   "cell_type": "code",
   "execution_count": 22,
   "id": "6aca0565",
   "metadata": {
    "execution": {
     "iopub.execute_input": "2024-07-16T05:21:00.094305Z",
     "iopub.status.busy": "2024-07-16T05:21:00.093857Z",
     "iopub.status.idle": "2024-07-16T05:21:00.116392Z",
     "shell.execute_reply": "2024-07-16T05:21:00.115278Z"
    },
    "papermill": {
     "duration": 0.052025,
     "end_time": "2024-07-16T05:21:00.118866",
     "exception": false,
     "start_time": "2024-07-16T05:21:00.066841",
     "status": "completed"
    },
    "tags": []
   },
   "outputs": [
    {
     "data": {
      "text/html": [
       "<div>\n",
       "<style scoped>\n",
       "    .dataframe tbody tr th:only-of-type {\n",
       "        vertical-align: middle;\n",
       "    }\n",
       "\n",
       "    .dataframe tbody tr th {\n",
       "        vertical-align: top;\n",
       "    }\n",
       "\n",
       "    .dataframe thead th {\n",
       "        text-align: right;\n",
       "    }\n",
       "</style>\n",
       "<table border=\"1\" class=\"dataframe\">\n",
       "  <thead>\n",
       "    <tr style=\"text-align: right;\">\n",
       "      <th></th>\n",
       "      <th>reviewId</th>\n",
       "      <th>userName</th>\n",
       "      <th>content</th>\n",
       "      <th>score</th>\n",
       "      <th>likesOnReview</th>\n",
       "      <th>reviewDate</th>\n",
       "      <th>appVersion</th>\n",
       "      <th>reviewTime</th>\n",
       "    </tr>\n",
       "  </thead>\n",
       "  <tbody>\n",
       "    <tr>\n",
       "      <th>0</th>\n",
       "      <td>0</td>\n",
       "      <td>rajib</td>\n",
       "      <td>It's good</td>\n",
       "      <td>4</td>\n",
       "      <td>0</td>\n",
       "      <td>2024-05-09</td>\n",
       "      <td>NaN</td>\n",
       "      <td>16:28:13</td>\n",
       "    </tr>\n",
       "    <tr>\n",
       "      <th>1</th>\n",
       "      <td>1</td>\n",
       "      <td>mihaela</td>\n",
       "      <td>I love this app so much, I've been using Spoti...</td>\n",
       "      <td>5</td>\n",
       "      <td>0</td>\n",
       "      <td>2024-05-09</td>\n",
       "      <td>8.9.38.494</td>\n",
       "      <td>16:27:18</td>\n",
       "    </tr>\n",
       "    <tr>\n",
       "      <th>2</th>\n",
       "      <td>2</td>\n",
       "      <td>jonathan</td>\n",
       "      <td>Perfect</td>\n",
       "      <td>5</td>\n",
       "      <td>0</td>\n",
       "      <td>2024-05-09</td>\n",
       "      <td>8.9.36.616</td>\n",
       "      <td>16:27:03</td>\n",
       "    </tr>\n",
       "    <tr>\n",
       "      <th>3</th>\n",
       "      <td>3</td>\n",
       "      <td>cam</td>\n",
       "      <td>Best all around music streaming app I have use...</td>\n",
       "      <td>5</td>\n",
       "      <td>0</td>\n",
       "      <td>2024-05-09</td>\n",
       "      <td>8.9.38.494</td>\n",
       "      <td>16:26:19</td>\n",
       "    </tr>\n",
       "    <tr>\n",
       "      <th>4</th>\n",
       "      <td>4</td>\n",
       "      <td>your</td>\n",
       "      <td>Are y'all fr gatekeeping the play button on so...</td>\n",
       "      <td>1</td>\n",
       "      <td>0</td>\n",
       "      <td>2024-05-09</td>\n",
       "      <td>8.9.38.494</td>\n",
       "      <td>16:26:14</td>\n",
       "    </tr>\n",
       "  </tbody>\n",
       "</table>\n",
       "</div>"
      ],
      "text/plain": [
       "   reviewId  userName                                            content  \\\n",
       "0         0     rajib                                          It's good   \n",
       "1         1   mihaela  I love this app so much, I've been using Spoti...   \n",
       "2         2  jonathan                                            Perfect   \n",
       "3         3       cam  Best all around music streaming app I have use...   \n",
       "4         4      your  Are y'all fr gatekeeping the play button on so...   \n",
       "\n",
       "   score  likesOnReview  reviewDate  appVersion reviewTime  \n",
       "0      4              0  2024-05-09         NaN   16:28:13  \n",
       "1      5              0  2024-05-09  8.9.38.494   16:27:18  \n",
       "2      5              0  2024-05-09  8.9.36.616   16:27:03  \n",
       "3      5              0  2024-05-09  8.9.38.494   16:26:19  \n",
       "4      1              0  2024-05-09  8.9.38.494   16:26:14  "
      ]
     },
     "execution_count": 22,
     "metadata": {},
     "output_type": "execute_result"
    }
   ],
   "source": [
    "df.head()"
   ]
  },
  {
   "cell_type": "markdown",
   "id": "e6e197f3",
   "metadata": {
    "papermill": {
     "duration": 0.025135,
     "end_time": "2024-07-16T05:21:00.167652",
     "exception": false,
     "start_time": "2024-07-16T05:21:00.142517",
     "status": "completed"
    },
    "tags": []
   },
   "source": [
    "### fixing app version"
   ]
  },
  {
   "cell_type": "code",
   "execution_count": 23,
   "id": "8f73816f",
   "metadata": {
    "execution": {
     "iopub.execute_input": "2024-07-16T05:21:00.215992Z",
     "iopub.status.busy": "2024-07-16T05:21:00.215580Z",
     "iopub.status.idle": "2024-07-16T05:21:00.246670Z",
     "shell.execute_reply": "2024-07-16T05:21:00.245221Z"
    },
    "papermill": {
     "duration": 0.058753,
     "end_time": "2024-07-16T05:21:00.249676",
     "exception": false,
     "start_time": "2024-07-16T05:21:00.190923",
     "status": "completed"
    },
    "tags": []
   },
   "outputs": [],
   "source": [
    "df['appVersion'] = df['appVersion'].fillna(df['appVersion'].mode()[0])"
   ]
  },
  {
   "cell_type": "code",
   "execution_count": 24,
   "id": "cdefe2e9",
   "metadata": {
    "execution": {
     "iopub.execute_input": "2024-07-16T05:21:00.299067Z",
     "iopub.status.busy": "2024-07-16T05:21:00.298635Z",
     "iopub.status.idle": "2024-07-16T05:21:00.313675Z",
     "shell.execute_reply": "2024-07-16T05:21:00.312462Z"
    },
    "papermill": {
     "duration": 0.04342,
     "end_time": "2024-07-16T05:21:00.316322",
     "exception": false,
     "start_time": "2024-07-16T05:21:00.272902",
     "status": "completed"
    },
    "tags": []
   },
   "outputs": [
    {
     "data": {
      "text/html": [
       "<div>\n",
       "<style scoped>\n",
       "    .dataframe tbody tr th:only-of-type {\n",
       "        vertical-align: middle;\n",
       "    }\n",
       "\n",
       "    .dataframe tbody tr th {\n",
       "        vertical-align: top;\n",
       "    }\n",
       "\n",
       "    .dataframe thead th {\n",
       "        text-align: right;\n",
       "    }\n",
       "</style>\n",
       "<table border=\"1\" class=\"dataframe\">\n",
       "  <thead>\n",
       "    <tr style=\"text-align: right;\">\n",
       "      <th></th>\n",
       "      <th>reviewId</th>\n",
       "      <th>userName</th>\n",
       "      <th>content</th>\n",
       "      <th>score</th>\n",
       "      <th>likesOnReview</th>\n",
       "      <th>reviewDate</th>\n",
       "      <th>appVersion</th>\n",
       "      <th>reviewTime</th>\n",
       "    </tr>\n",
       "  </thead>\n",
       "  <tbody>\n",
       "    <tr>\n",
       "      <th>0</th>\n",
       "      <td>0</td>\n",
       "      <td>rajib</td>\n",
       "      <td>It's good</td>\n",
       "      <td>4</td>\n",
       "      <td>0</td>\n",
       "      <td>2024-05-09</td>\n",
       "      <td>8.8.96.364</td>\n",
       "      <td>16:28:13</td>\n",
       "    </tr>\n",
       "    <tr>\n",
       "      <th>1</th>\n",
       "      <td>1</td>\n",
       "      <td>mihaela</td>\n",
       "      <td>I love this app so much, I've been using Spoti...</td>\n",
       "      <td>5</td>\n",
       "      <td>0</td>\n",
       "      <td>2024-05-09</td>\n",
       "      <td>8.9.38.494</td>\n",
       "      <td>16:27:18</td>\n",
       "    </tr>\n",
       "    <tr>\n",
       "      <th>2</th>\n",
       "      <td>2</td>\n",
       "      <td>jonathan</td>\n",
       "      <td>Perfect</td>\n",
       "      <td>5</td>\n",
       "      <td>0</td>\n",
       "      <td>2024-05-09</td>\n",
       "      <td>8.9.36.616</td>\n",
       "      <td>16:27:03</td>\n",
       "    </tr>\n",
       "    <tr>\n",
       "      <th>3</th>\n",
       "      <td>3</td>\n",
       "      <td>cam</td>\n",
       "      <td>Best all around music streaming app I have use...</td>\n",
       "      <td>5</td>\n",
       "      <td>0</td>\n",
       "      <td>2024-05-09</td>\n",
       "      <td>8.9.38.494</td>\n",
       "      <td>16:26:19</td>\n",
       "    </tr>\n",
       "    <tr>\n",
       "      <th>4</th>\n",
       "      <td>4</td>\n",
       "      <td>your</td>\n",
       "      <td>Are y'all fr gatekeeping the play button on so...</td>\n",
       "      <td>1</td>\n",
       "      <td>0</td>\n",
       "      <td>2024-05-09</td>\n",
       "      <td>8.9.38.494</td>\n",
       "      <td>16:26:14</td>\n",
       "    </tr>\n",
       "  </tbody>\n",
       "</table>\n",
       "</div>"
      ],
      "text/plain": [
       "   reviewId  userName                                            content  \\\n",
       "0         0     rajib                                          It's good   \n",
       "1         1   mihaela  I love this app so much, I've been using Spoti...   \n",
       "2         2  jonathan                                            Perfect   \n",
       "3         3       cam  Best all around music streaming app I have use...   \n",
       "4         4      your  Are y'all fr gatekeeping the play button on so...   \n",
       "\n",
       "   score  likesOnReview  reviewDate  appVersion reviewTime  \n",
       "0      4              0  2024-05-09  8.8.96.364   16:28:13  \n",
       "1      5              0  2024-05-09  8.9.38.494   16:27:18  \n",
       "2      5              0  2024-05-09  8.9.36.616   16:27:03  \n",
       "3      5              0  2024-05-09  8.9.38.494   16:26:19  \n",
       "4      1              0  2024-05-09  8.9.38.494   16:26:14  "
      ]
     },
     "execution_count": 24,
     "metadata": {},
     "output_type": "execute_result"
    }
   ],
   "source": [
    "df.head()"
   ]
  },
  {
   "cell_type": "markdown",
   "id": "5679b029",
   "metadata": {
    "papermill": {
     "duration": 0.026741,
     "end_time": "2024-07-16T05:21:00.367204",
     "exception": false,
     "start_time": "2024-07-16T05:21:00.340463",
     "status": "completed"
    },
    "tags": []
   },
   "source": [
    "## dealing with outliers\n",
    "    "
   ]
  },
  {
   "cell_type": "code",
   "execution_count": 25,
   "id": "f0e75e3e",
   "metadata": {
    "execution": {
     "iopub.execute_input": "2024-07-16T05:21:00.416987Z",
     "iopub.status.busy": "2024-07-16T05:21:00.416564Z",
     "iopub.status.idle": "2024-07-16T05:21:00.504596Z",
     "shell.execute_reply": "2024-07-16T05:21:00.503079Z"
    },
    "papermill": {
     "duration": 0.115866,
     "end_time": "2024-07-16T05:21:00.507431",
     "exception": false,
     "start_time": "2024-07-16T05:21:00.391565",
     "status": "completed"
    },
    "tags": []
   },
   "outputs": [
    {
     "data": {
      "text/plain": [
       "userName\n",
       "a             12786\n",
       "david           436\n",
       "john            398\n",
       "michael         397\n",
       "james           319\n",
       "              ...  \n",
       "itme              1\n",
       "itmareli          1\n",
       "itit              1\n",
       "itisdarren        1\n",
       "zzz               1\n",
       "Name: reviewId, Length: 24266, dtype: int64"
      ]
     },
     "execution_count": 25,
     "metadata": {},
     "output_type": "execute_result"
    }
   ],
   "source": [
    "grouped = df.groupby(by='userName')['reviewId'].count().sort_values(ascending=False)\n",
    "grouped"
   ]
  },
  {
   "cell_type": "markdown",
   "id": "484bf538",
   "metadata": {
    "papermill": {
     "duration": 0.024418,
     "end_time": "2024-07-16T05:21:00.558066",
     "exception": false,
     "start_time": "2024-07-16T05:21:00.533648",
     "status": "completed"
    },
    "tags": []
   },
   "source": [
    "#### removing partial outlier while retaining review of the outlier in a sep var"
   ]
  },
  {
   "cell_type": "code",
   "execution_count": 26,
   "id": "6de71f5e",
   "metadata": {
    "execution": {
     "iopub.execute_input": "2024-07-16T05:21:00.608498Z",
     "iopub.status.busy": "2024-07-16T05:21:00.608080Z",
     "iopub.status.idle": "2024-07-16T05:21:00.624208Z",
     "shell.execute_reply": "2024-07-16T05:21:00.622551Z"
    },
    "papermill": {
     "duration": 0.044638,
     "end_time": "2024-07-16T05:21:00.626924",
     "exception": false,
     "start_time": "2024-07-16T05:21:00.582286",
     "status": "completed"
    },
    "tags": []
   },
   "outputs": [
    {
     "name": "stdout",
     "output_type": "stream",
     "text": [
      "reviewId\n",
      "0-1        17995\n",
      "1-2         2493\n",
      "2-3         1003\n",
      "3-4          573\n",
      "4-5          369\n",
      "5-10         863\n",
      "10-20        486\n",
      "20-30        203\n",
      "30-40         68\n",
      "40-50         49\n",
      "50-100        98\n",
      "100-200       53\n",
      "200-300        7\n",
      "300-400        4\n",
      "400-500        1\n",
      "Name: count, dtype: int64\n"
     ]
    }
   ],
   "source": [
    "bins = [0, 1, 2, 3, 4, 5, 10, 20, 30, 40, 50, 100, 200, 300, 400, 500]\n",
    "labels = [f'{bins[i]}-{bins[i+1]}' for i in range(len(bins)-1)]\n",
    "categories = pd.cut(grouped, bins = bins, labels =labels)\n",
    "bin_counts = categories.value_counts(sort = False)\n",
    "print(bin_counts)"
   ]
  },
  {
   "cell_type": "code",
   "execution_count": 27,
   "id": "21525627",
   "metadata": {
    "execution": {
     "iopub.execute_input": "2024-07-16T05:21:00.679159Z",
     "iopub.status.busy": "2024-07-16T05:21:00.678730Z",
     "iopub.status.idle": "2024-07-16T05:21:00.685491Z",
     "shell.execute_reply": "2024-07-16T05:21:00.684216Z"
    },
    "papermill": {
     "duration": 0.037189,
     "end_time": "2024-07-16T05:21:00.688886",
     "exception": false,
     "start_time": "2024-07-16T05:21:00.651697",
     "status": "completed"
    },
    "tags": []
   },
   "outputs": [],
   "source": [
    "userReviews = df['content']"
   ]
  },
  {
   "cell_type": "markdown",
   "id": "133738fc",
   "metadata": {
    "papermill": {
     "duration": 0.024794,
     "end_time": "2024-07-16T05:21:00.738519",
     "exception": false,
     "start_time": "2024-07-16T05:21:00.713725",
     "status": "completed"
    },
    "tags": []
   },
   "source": [
    "### the outliers are too high in number so before proceeding to remove/deal with them we will attempt to understand the review content of the users who post high number of reviews"
   ]
  },
  {
   "cell_type": "markdown",
   "id": "2d509402",
   "metadata": {
    "papermill": {
     "duration": 0.026179,
     "end_time": "2024-07-16T05:21:00.790299",
     "exception": false,
     "start_time": "2024-07-16T05:21:00.764120",
     "status": "completed"
    },
    "tags": []
   },
   "source": [
    "## Understanding Reviews"
   ]
  },
  {
   "cell_type": "code",
   "execution_count": 28,
   "id": "81287a5a",
   "metadata": {
    "execution": {
     "iopub.execute_input": "2024-07-16T05:21:00.844537Z",
     "iopub.status.busy": "2024-07-16T05:21:00.844145Z",
     "iopub.status.idle": "2024-07-16T05:21:00.862472Z",
     "shell.execute_reply": "2024-07-16T05:21:00.860851Z"
    },
    "papermill": {
     "duration": 0.0497,
     "end_time": "2024-07-16T05:21:00.867330",
     "exception": false,
     "start_time": "2024-07-16T05:21:00.817630",
     "status": "completed"
    },
    "tags": []
   },
   "outputs": [
    {
     "data": {
      "text/html": [
       "<div>\n",
       "<style scoped>\n",
       "    .dataframe tbody tr th:only-of-type {\n",
       "        vertical-align: middle;\n",
       "    }\n",
       "\n",
       "    .dataframe tbody tr th {\n",
       "        vertical-align: top;\n",
       "    }\n",
       "\n",
       "    .dataframe thead th {\n",
       "        text-align: right;\n",
       "    }\n",
       "</style>\n",
       "<table border=\"1\" class=\"dataframe\">\n",
       "  <thead>\n",
       "    <tr style=\"text-align: right;\">\n",
       "      <th></th>\n",
       "      <th>reviewId</th>\n",
       "      <th>userName</th>\n",
       "      <th>content</th>\n",
       "      <th>score</th>\n",
       "      <th>likesOnReview</th>\n",
       "      <th>reviewDate</th>\n",
       "      <th>appVersion</th>\n",
       "      <th>reviewTime</th>\n",
       "    </tr>\n",
       "  </thead>\n",
       "  <tbody>\n",
       "    <tr>\n",
       "      <th>0</th>\n",
       "      <td>0</td>\n",
       "      <td>rajib</td>\n",
       "      <td>It's good</td>\n",
       "      <td>4</td>\n",
       "      <td>0</td>\n",
       "      <td>2024-05-09</td>\n",
       "      <td>8.8.96.364</td>\n",
       "      <td>16:28:13</td>\n",
       "    </tr>\n",
       "    <tr>\n",
       "      <th>1</th>\n",
       "      <td>1</td>\n",
       "      <td>mihaela</td>\n",
       "      <td>I love this app so much, I've been using Spoti...</td>\n",
       "      <td>5</td>\n",
       "      <td>0</td>\n",
       "      <td>2024-05-09</td>\n",
       "      <td>8.9.38.494</td>\n",
       "      <td>16:27:18</td>\n",
       "    </tr>\n",
       "    <tr>\n",
       "      <th>2</th>\n",
       "      <td>2</td>\n",
       "      <td>jonathan</td>\n",
       "      <td>Perfect</td>\n",
       "      <td>5</td>\n",
       "      <td>0</td>\n",
       "      <td>2024-05-09</td>\n",
       "      <td>8.9.36.616</td>\n",
       "      <td>16:27:03</td>\n",
       "    </tr>\n",
       "    <tr>\n",
       "      <th>3</th>\n",
       "      <td>3</td>\n",
       "      <td>cam</td>\n",
       "      <td>Best all around music streaming app I have use...</td>\n",
       "      <td>5</td>\n",
       "      <td>0</td>\n",
       "      <td>2024-05-09</td>\n",
       "      <td>8.9.38.494</td>\n",
       "      <td>16:26:19</td>\n",
       "    </tr>\n",
       "    <tr>\n",
       "      <th>4</th>\n",
       "      <td>4</td>\n",
       "      <td>your</td>\n",
       "      <td>Are y'all fr gatekeeping the play button on so...</td>\n",
       "      <td>1</td>\n",
       "      <td>0</td>\n",
       "      <td>2024-05-09</td>\n",
       "      <td>8.9.38.494</td>\n",
       "      <td>16:26:14</td>\n",
       "    </tr>\n",
       "  </tbody>\n",
       "</table>\n",
       "</div>"
      ],
      "text/plain": [
       "   reviewId  userName                                            content  \\\n",
       "0         0     rajib                                          It's good   \n",
       "1         1   mihaela  I love this app so much, I've been using Spoti...   \n",
       "2         2  jonathan                                            Perfect   \n",
       "3         3       cam  Best all around music streaming app I have use...   \n",
       "4         4      your  Are y'all fr gatekeeping the play button on so...   \n",
       "\n",
       "   score  likesOnReview  reviewDate  appVersion reviewTime  \n",
       "0      4              0  2024-05-09  8.8.96.364   16:28:13  \n",
       "1      5              0  2024-05-09  8.9.38.494   16:27:18  \n",
       "2      5              0  2024-05-09  8.9.36.616   16:27:03  \n",
       "3      5              0  2024-05-09  8.9.38.494   16:26:19  \n",
       "4      1              0  2024-05-09  8.9.38.494   16:26:14  "
      ]
     },
     "execution_count": 28,
     "metadata": {},
     "output_type": "execute_result"
    }
   ],
   "source": [
    "df.head()"
   ]
  },
  {
   "cell_type": "code",
   "execution_count": 29,
   "id": "799b9a3e",
   "metadata": {
    "execution": {
     "iopub.execute_input": "2024-07-16T05:21:00.923148Z",
     "iopub.status.busy": "2024-07-16T05:21:00.922723Z",
     "iopub.status.idle": "2024-07-16T05:21:00.929495Z",
     "shell.execute_reply": "2024-07-16T05:21:00.927836Z"
    },
    "papermill": {
     "duration": 0.036881,
     "end_time": "2024-07-16T05:21:00.932418",
     "exception": false,
     "start_time": "2024-07-16T05:21:00.895537",
     "status": "completed"
    },
    "tags": []
   },
   "outputs": [],
   "source": [
    "reviews = df['content']"
   ]
  },
  {
   "cell_type": "code",
   "execution_count": 30,
   "id": "6cae3bdc",
   "metadata": {
    "execution": {
     "iopub.execute_input": "2024-07-16T05:21:00.991402Z",
     "iopub.status.busy": "2024-07-16T05:21:00.990802Z",
     "iopub.status.idle": "2024-07-16T05:21:02.090500Z",
     "shell.execute_reply": "2024-07-16T05:21:02.089143Z"
    },
    "papermill": {
     "duration": 1.132813,
     "end_time": "2024-07-16T05:21:02.093510",
     "exception": false,
     "start_time": "2024-07-16T05:21:00.960697",
     "status": "completed"
    },
    "tags": []
   },
   "outputs": [
    {
     "name": "stdout",
     "output_type": "stream",
     "text": [
      "Average length of reviews is  58.95274757915998\n",
      "Median length of reviews is  60\n",
      "Mode of reviews is  58\n",
      "Max length of reviews is  474\n",
      "Min length of reviews is  1\n"
     ]
    }
   ],
   "source": [
    "import statistics\n",
    "\n",
    "reviewsByWord = [i.split(\" \") for i in reviews]\n",
    "reviewLengthByWord = [len(i) for i in reviewsByWord]\n",
    "averageLength = sum(reviewLengthByWord) / len(reviewLengthByWord)\n",
    "medianLength = statistics.median(reviewLengthByWord)\n",
    "modeLength = statistics.mode(reviewLengthByWord)\n",
    "maxLength = max(reviewLengthByWord)\n",
    "minLength = min(reviewLengthByWord)\n",
    "\n",
    "print('Average length of reviews is ',averageLength)\n",
    "print('Median length of reviews is ',medianLength)\n",
    "print('Mode of reviews is ',modeLength)\n",
    "print('Max length of reviews is ',maxLength)\n",
    "print('Min length of reviews is ',minLength)"
   ]
  },
  {
   "cell_type": "code",
   "execution_count": 31,
   "id": "df27a3f2",
   "metadata": {
    "execution": {
     "iopub.execute_input": "2024-07-16T05:21:02.145679Z",
     "iopub.status.busy": "2024-07-16T05:21:02.145275Z",
     "iopub.status.idle": "2024-07-16T05:21:02.929660Z",
     "shell.execute_reply": "2024-07-16T05:21:02.928156Z"
    },
    "papermill": {
     "duration": 0.813846,
     "end_time": "2024-07-16T05:21:02.932339",
     "exception": false,
     "start_time": "2024-07-16T05:21:02.118493",
     "status": "completed"
    },
    "tags": []
   },
   "outputs": [
    {
     "data": {
      "image/png": "[encoded data removed]",
      "text/plain": [
       "<Figure size 1000x600 with 1 Axes>"
      ]
     },
     "metadata": {},
     "output_type": "display_data"
    }
   ],
   "source": [
    "plt.figure(figsize=(10, 6))\n",
    "bins = [50,100,150,200,250,300,350,400,450,500]\n",
    "plt.hist(reviewLengthByWord, bins=bins, edgecolor='blue', alpha=0.7)\n",
    "plt.xlabel('Number of Words')\n",
    "plt.ylabel('Frequency')\n",
    "plt.title('Histogram of Review Lengths by Word Count')\n",
    "plt.xticks(bins)\n",
    "plt.grid(axis='y', linestyle='-', alpha=0.5)\n",
    "plt.show()"
   ]
  },
  {
   "cell_type": "markdown",
   "id": "ccc82dc5",
   "metadata": {
    "papermill": {
     "duration": 0.027031,
     "end_time": "2024-07-16T05:21:02.988031",
     "exception": false,
     "start_time": "2024-07-16T05:21:02.961000",
     "status": "completed"
    },
    "tags": []
   },
   "source": [
    "#### above graph is not an accurate representation of content as we havent taken into account the usage of stopwords, we will use NLTK library to stopwords and filler words"
   ]
  },
  {
   "cell_type": "code",
   "execution_count": 32,
   "id": "76cdf82b",
   "metadata": {
    "execution": {
     "iopub.execute_input": "2024-07-16T05:21:03.043748Z",
     "iopub.status.busy": "2024-07-16T05:21:03.043284Z",
     "iopub.status.idle": "2024-07-16T05:21:04.627242Z",
     "shell.execute_reply": "2024-07-16T05:21:04.626073Z"
    },
    "papermill": {
     "duration": 1.614857,
     "end_time": "2024-07-16T05:21:04.630072",
     "exception": false,
     "start_time": "2024-07-16T05:21:03.015215",
     "status": "completed"
    },
    "tags": []
   },
   "outputs": [],
   "source": [
    "stopWords = set(stopwords.words('english'))\n",
    "\n",
    "def remove_stopwords(review):\n",
    "    filtered_words = [word for word in review if word.lower() not in stopWords]\n",
    "    return filtered_words\n",
    "\n",
    "# Remove stopwords from each review\n",
    "reviews_without_stopwords = [remove_stopwords(review) for review in reviewsByWord]\n",
    "df['ContentWithoutStopwords'] = reviews_without_stopwords\n",
    "\n",
    "#bagOfWords = ' '.join(reviews_without_stopwords)\n",
    "#print(len(bagOfWords))"
   ]
  },
  {
   "cell_type": "code",
   "execution_count": 33,
   "id": "8116f7fa",
   "metadata": {
    "execution": {
     "iopub.execute_input": "2024-07-16T05:21:04.681968Z",
     "iopub.status.busy": "2024-07-16T05:21:04.681533Z",
     "iopub.status.idle": "2024-07-16T05:21:04.695597Z",
     "shell.execute_reply": "2024-07-16T05:21:04.694057Z"
    },
    "papermill": {
     "duration": 0.043885,
     "end_time": "2024-07-16T05:21:04.698630",
     "exception": false,
     "start_time": "2024-07-16T05:21:04.654745",
     "status": "completed"
    },
    "tags": []
   },
   "outputs": [],
   "source": [
    "review_lengths = [len(review) for review in reviews_without_stopwords]\n"
   ]
  },
  {
   "cell_type": "code",
   "execution_count": 34,
   "id": "74ac544e",
   "metadata": {
    "execution": {
     "iopub.execute_input": "2024-07-16T05:21:04.750894Z",
     "iopub.status.busy": "2024-07-16T05:21:04.750485Z",
     "iopub.status.idle": "2024-07-16T05:21:05.561602Z",
     "shell.execute_reply": "2024-07-16T05:21:05.560463Z"
    },
    "papermill": {
     "duration": 0.8424,
     "end_time": "2024-07-16T05:21:05.565993",
     "exception": false,
     "start_time": "2024-07-16T05:21:04.723593",
     "status": "completed"
    },
    "tags": []
   },
   "outputs": [
    {
     "data": {
      "image/png": "[encoded data removed]",
      "text/plain": [
       "<Figure size 1000x600 with 1 Axes>"
      ]
     },
     "metadata": {},
     "output_type": "display_data"
    }
   ],
   "source": [
    "max_length = max(review_lengths)\n",
    "bins = range(0, max_length+2,20)  # Adjust bin width as needed\n",
    "\n",
    "plt.figure(figsize=(10, 6))\n",
    "#bins = [50,100,150,200,250,300,350,400,450,500]\n",
    "plt.hist(review_lengths, bins=bins, edgecolor='blue', alpha=0.7)\n",
    "plt.xlabel('Number of Words')\n",
    "plt.ylabel('Frequency')\n",
    "plt.title('Histogram of Review Lengths by Word Count')\n",
    "plt.xticks(bins)\n",
    "plt.grid(axis='y', linestyle='-', alpha=0.5)\n",
    "plt.show()"
   ]
  },
  {
   "cell_type": "markdown",
   "id": "43f8a371",
   "metadata": {
    "papermill": {
     "duration": 0.026028,
     "end_time": "2024-07-16T05:21:05.621607",
     "exception": false,
     "start_time": "2024-07-16T05:21:05.595579",
     "status": "completed"
    },
    "tags": []
   },
   "source": [
    "### Finding correlation between review length and review score"
   ]
  },
  {
   "cell_type": "code",
   "execution_count": 35,
   "id": "58fa48a4",
   "metadata": {
    "execution": {
     "iopub.execute_input": "2024-07-16T05:21:05.676932Z",
     "iopub.status.busy": "2024-07-16T05:21:05.676502Z",
     "iopub.status.idle": "2024-07-16T05:21:05.695626Z",
     "shell.execute_reply": "2024-07-16T05:21:05.694236Z"
    },
    "papermill": {
     "duration": 0.049336,
     "end_time": "2024-07-16T05:21:05.698465",
     "exception": false,
     "start_time": "2024-07-16T05:21:05.649129",
     "status": "completed"
    },
    "tags": []
   },
   "outputs": [
    {
     "data": {
      "text/html": [
       "<div>\n",
       "<style scoped>\n",
       "    .dataframe tbody tr th:only-of-type {\n",
       "        vertical-align: middle;\n",
       "    }\n",
       "\n",
       "    .dataframe tbody tr th {\n",
       "        vertical-align: top;\n",
       "    }\n",
       "\n",
       "    .dataframe thead th {\n",
       "        text-align: right;\n",
       "    }\n",
       "</style>\n",
       "<table border=\"1\" class=\"dataframe\">\n",
       "  <thead>\n",
       "    <tr style=\"text-align: right;\">\n",
       "      <th></th>\n",
       "      <th>reviewId</th>\n",
       "      <th>userName</th>\n",
       "      <th>content</th>\n",
       "      <th>score</th>\n",
       "      <th>likesOnReview</th>\n",
       "      <th>reviewDate</th>\n",
       "      <th>appVersion</th>\n",
       "      <th>reviewTime</th>\n",
       "      <th>ContentWithoutStopwords</th>\n",
       "    </tr>\n",
       "  </thead>\n",
       "  <tbody>\n",
       "    <tr>\n",
       "      <th>0</th>\n",
       "      <td>0</td>\n",
       "      <td>rajib</td>\n",
       "      <td>It's good</td>\n",
       "      <td>4</td>\n",
       "      <td>0</td>\n",
       "      <td>2024-05-09</td>\n",
       "      <td>8.8.96.364</td>\n",
       "      <td>16:28:13</td>\n",
       "      <td>[good]</td>\n",
       "    </tr>\n",
       "    <tr>\n",
       "      <th>1</th>\n",
       "      <td>1</td>\n",
       "      <td>mihaela</td>\n",
       "      <td>I love this app so much, I've been using Spoti...</td>\n",
       "      <td>5</td>\n",
       "      <td>0</td>\n",
       "      <td>2024-05-09</td>\n",
       "      <td>8.9.38.494</td>\n",
       "      <td>16:27:18</td>\n",
       "      <td>[love, app, much,, I've, using, Spotify, 2, ye...</td>\n",
       "    </tr>\n",
       "    <tr>\n",
       "      <th>2</th>\n",
       "      <td>2</td>\n",
       "      <td>jonathan</td>\n",
       "      <td>Perfect</td>\n",
       "      <td>5</td>\n",
       "      <td>0</td>\n",
       "      <td>2024-05-09</td>\n",
       "      <td>8.9.36.616</td>\n",
       "      <td>16:27:03</td>\n",
       "      <td>[Perfect]</td>\n",
       "    </tr>\n",
       "    <tr>\n",
       "      <th>3</th>\n",
       "      <td>3</td>\n",
       "      <td>cam</td>\n",
       "      <td>Best all around music streaming app I have use...</td>\n",
       "      <td>5</td>\n",
       "      <td>0</td>\n",
       "      <td>2024-05-09</td>\n",
       "      <td>8.9.38.494</td>\n",
       "      <td>16:26:19</td>\n",
       "      <td>[Best, around, music, streaming, app, used,, f...</td>\n",
       "    </tr>\n",
       "    <tr>\n",
       "      <th>4</th>\n",
       "      <td>4</td>\n",
       "      <td>your</td>\n",
       "      <td>Are y'all fr gatekeeping the play button on so...</td>\n",
       "      <td>1</td>\n",
       "      <td>0</td>\n",
       "      <td>2024-05-09</td>\n",
       "      <td>8.9.38.494</td>\n",
       "      <td>16:26:14</td>\n",
       "      <td>[y'all, fr, gatekeeping, play, button, songs!?]</td>\n",
       "    </tr>\n",
       "  </tbody>\n",
       "</table>\n",
       "</div>"
      ],
      "text/plain": [
       "   reviewId  userName                                            content  \\\n",
       "0         0     rajib                                          It's good   \n",
       "1         1   mihaela  I love this app so much, I've been using Spoti...   \n",
       "2         2  jonathan                                            Perfect   \n",
       "3         3       cam  Best all around music streaming app I have use...   \n",
       "4         4      your  Are y'all fr gatekeeping the play button on so...   \n",
       "\n",
       "   score  likesOnReview  reviewDate  appVersion reviewTime  \\\n",
       "0      4              0  2024-05-09  8.8.96.364   16:28:13   \n",
       "1      5              0  2024-05-09  8.9.38.494   16:27:18   \n",
       "2      5              0  2024-05-09  8.9.36.616   16:27:03   \n",
       "3      5              0  2024-05-09  8.9.38.494   16:26:19   \n",
       "4      1              0  2024-05-09  8.9.38.494   16:26:14   \n",
       "\n",
       "                             ContentWithoutStopwords  \n",
       "0                                             [good]  \n",
       "1  [love, app, much,, I've, using, Spotify, 2, ye...  \n",
       "2                                          [Perfect]  \n",
       "3  [Best, around, music, streaming, app, used,, f...  \n",
       "4    [y'all, fr, gatekeeping, play, button, songs!?]  "
      ]
     },
     "execution_count": 35,
     "metadata": {},
     "output_type": "execute_result"
    }
   ],
   "source": [
    "df.head()"
   ]
  },
  {
   "cell_type": "code",
   "execution_count": 36,
   "id": "71769c80",
   "metadata": {
    "execution": {
     "iopub.execute_input": "2024-07-16T05:21:05.753462Z",
     "iopub.status.busy": "2024-07-16T05:21:05.753045Z",
     "iopub.status.idle": "2024-07-16T05:21:06.379165Z",
     "shell.execute_reply": "2024-07-16T05:21:06.377935Z"
    },
    "papermill": {
     "duration": 0.656443,
     "end_time": "2024-07-16T05:21:06.382018",
     "exception": false,
     "start_time": "2024-07-16T05:21:05.725575",
     "status": "completed"
    },
    "tags": []
   },
   "outputs": [
    {
     "data": {
      "image/png": "[encoded data removed]",
      "text/plain": [
       "<Figure size 800x600 with 1 Axes>"
      ]
     },
     "metadata": {},
     "output_type": "display_data"
    }
   ],
   "source": [
    "df['filteredContentLength'] = df['ContentWithoutStopwords'].apply(len)\n",
    "\n",
    "# Plot scatter plot\n",
    "plt.figure(figsize=(8, 6))\n",
    "plt.scatter(df['filteredContentLength'], df['score'], color='blue', alpha=0.7)\n",
    "plt.title('Scatter Plot of Filtered Content Length vs. Score')\n",
    "plt.xlabel('Filtered Content Length (Number of Words)')\n",
    "plt.ylabel('Score')\n",
    "plt.grid(True)\n",
    "plt.show()"
   ]
  },
  {
   "cell_type": "code",
   "execution_count": null,
   "id": "4d79c39b",
   "metadata": {
    "papermill": {
     "duration": 0.027244,
     "end_time": "2024-07-16T05:21:06.438209",
     "exception": false,
     "start_time": "2024-07-16T05:21:06.410965",
     "status": "completed"
    },
    "tags": []
   },
   "outputs": [],
   "source": []
  },
  {
   "cell_type": "code",
   "execution_count": null,
   "id": "e51c395a",
   "metadata": {
    "papermill": {
     "duration": 0.02633,
     "end_time": "2024-07-16T05:21:06.492218",
     "exception": false,
     "start_time": "2024-07-16T05:21:06.465888",
     "status": "completed"
    },
    "tags": []
   },
   "outputs": [],
   "source": []
  },
  {
   "cell_type": "code",
   "execution_count": 37,
   "id": "c58d8770",
   "metadata": {
    "execution": {
     "iopub.execute_input": "2024-07-16T05:21:06.547826Z",
     "iopub.status.busy": "2024-07-16T05:21:06.547461Z",
     "iopub.status.idle": "2024-07-16T05:21:06.552878Z",
     "shell.execute_reply": "2024-07-16T05:21:06.551655Z"
    },
    "papermill": {
     "duration": 0.036741,
     "end_time": "2024-07-16T05:21:06.555541",
     "exception": false,
     "start_time": "2024-07-16T05:21:06.518800",
     "status": "completed"
    },
    "tags": []
   },
   "outputs": [],
   "source": [
    "# #selecting 500 random rows of outliers\n",
    "# outlier = df[df['userName'] == 'a']\n",
    "# random_outlier = outlier.sample(n=500)\n",
    "# dropindices = outlier.index.tolist()\n",
    "# #print(outlier)"
   ]
  },
  {
   "cell_type": "code",
   "execution_count": 38,
   "id": "dd0b88ed",
   "metadata": {
    "execution": {
     "iopub.execute_input": "2024-07-16T05:21:06.611934Z",
     "iopub.status.busy": "2024-07-16T05:21:06.611550Z",
     "iopub.status.idle": "2024-07-16T05:21:06.616759Z",
     "shell.execute_reply": "2024-07-16T05:21:06.615364Z"
    },
    "papermill": {
     "duration": 0.03783,
     "end_time": "2024-07-16T05:21:06.619908",
     "exception": false,
     "start_time": "2024-07-16T05:21:06.582078",
     "status": "completed"
    },
    "tags": []
   },
   "outputs": [],
   "source": [
    "# #dropping outlier rows to merge later\n",
    "# df.drop(dropindices,inplace=True)\n",
    "# print(len(df))"
   ]
  },
  {
   "cell_type": "code",
   "execution_count": 39,
   "id": "d298b99c",
   "metadata": {
    "execution": {
     "iopub.execute_input": "2024-07-16T05:21:06.674570Z",
     "iopub.status.busy": "2024-07-16T05:21:06.674189Z",
     "iopub.status.idle": "2024-07-16T05:21:06.679474Z",
     "shell.execute_reply": "2024-07-16T05:21:06.678048Z"
    },
    "papermill": {
     "duration": 0.035867,
     "end_time": "2024-07-16T05:21:06.682323",
     "exception": false,
     "start_time": "2024-07-16T05:21:06.646456",
     "status": "completed"
    },
    "tags": []
   },
   "outputs": [],
   "source": [
    "# #merging outliers rows with original df\n",
    "# df = pd.concat([df,random_outlier],axis=0)"
   ]
  },
  {
   "cell_type": "code",
   "execution_count": 40,
   "id": "3b7ab36d",
   "metadata": {
    "execution": {
     "iopub.execute_input": "2024-07-16T05:21:06.738921Z",
     "iopub.status.busy": "2024-07-16T05:21:06.738501Z",
     "iopub.status.idle": "2024-07-16T05:21:06.743982Z",
     "shell.execute_reply": "2024-07-16T05:21:06.742425Z"
    },
    "papermill": {
     "duration": 0.036471,
     "end_time": "2024-07-16T05:21:06.746684",
     "exception": false,
     "start_time": "2024-07-16T05:21:06.710213",
     "status": "completed"
    },
    "tags": []
   },
   "outputs": [],
   "source": [
    "# df.head()"
   ]
  },
  {
   "cell_type": "markdown",
   "id": "e9b88d35",
   "metadata": {
    "papermill": {
     "duration": 0.025874,
     "end_time": "2024-07-16T05:21:06.799791",
     "exception": false,
     "start_time": "2024-07-16T05:21:06.773917",
     "status": "completed"
    },
    "tags": []
   },
   "source": [
    "# Understanding users\n",
    "\n",
    "## User Activity:\n",
    "\n",
    "* How many reviews has each user written (using userName)?\n",
    "* Are there any particularly active reviewers?\n"
   ]
  },
  {
   "cell_type": "code",
   "execution_count": 41,
   "id": "413c4608",
   "metadata": {
    "execution": {
     "iopub.execute_input": "2024-07-16T05:21:06.855714Z",
     "iopub.status.busy": "2024-07-16T05:21:06.855334Z",
     "iopub.status.idle": "2024-07-16T05:21:06.943056Z",
     "shell.execute_reply": "2024-07-16T05:21:06.941758Z"
    },
    "papermill": {
     "duration": 0.119964,
     "end_time": "2024-07-16T05:21:06.946014",
     "exception": false,
     "start_time": "2024-07-16T05:21:06.826050",
     "status": "completed"
    },
    "tags": []
   },
   "outputs": [
    {
     "data": {
      "text/plain": [
       "userName\n",
       "a             12786\n",
       "david           436\n",
       "john            398\n",
       "michael         397\n",
       "james           319\n",
       "              ...  \n",
       "itme              1\n",
       "itmareli          1\n",
       "itit              1\n",
       "itisdarren        1\n",
       "zzz               1\n",
       "Name: reviewId, Length: 24266, dtype: int64"
      ]
     },
     "execution_count": 41,
     "metadata": {},
     "output_type": "execute_result"
    }
   ],
   "source": [
    "grouped = df.groupby(by='userName')['reviewId'].count().sort_values(ascending=False)\n",
    "grouped"
   ]
  },
  {
   "cell_type": "code",
   "execution_count": 42,
   "id": "e36f3072",
   "metadata": {
    "execution": {
     "iopub.execute_input": "2024-07-16T05:21:07.004117Z",
     "iopub.status.busy": "2024-07-16T05:21:07.003695Z",
     "iopub.status.idle": "2024-07-16T05:21:07.238056Z",
     "shell.execute_reply": "2024-07-16T05:21:07.236367Z"
    },
    "papermill": {
     "duration": 0.26667,
     "end_time": "2024-07-16T05:21:07.241177",
     "exception": false,
     "start_time": "2024-07-16T05:21:06.974507",
     "status": "completed"
    },
    "tags": []
   },
   "outputs": [
    {
     "data": {
      "image/png": "[encoded data removed]",
      "text/plain": [
       "<Figure size 1000x600 with 1 Axes>"
      ]
     },
     "metadata": {},
     "output_type": "display_data"
    }
   ],
   "source": [
    "plt.figure(figsize=(10,6))\n",
    "plt.boxplot(grouped)\n",
    "plt.show()"
   ]
  },
  {
   "cell_type": "code",
   "execution_count": 43,
   "id": "94c6c0dc",
   "metadata": {
    "execution": {
     "iopub.execute_input": "2024-07-16T05:21:07.300335Z",
     "iopub.status.busy": "2024-07-16T05:21:07.299913Z",
     "iopub.status.idle": "2024-07-16T05:21:07.309607Z",
     "shell.execute_reply": "2024-07-16T05:21:07.308391Z"
    },
    "papermill": {
     "duration": 0.042188,
     "end_time": "2024-07-16T05:21:07.312317",
     "exception": false,
     "start_time": "2024-07-16T05:21:07.270129",
     "status": "completed"
    },
    "tags": []
   },
   "outputs": [
    {
     "data": {
      "text/plain": [
       "4.0"
      ]
     },
     "execution_count": 43,
     "metadata": {},
     "output_type": "execute_result"
    }
   ],
   "source": [
    "grouped.quantile(0.90)\n"
   ]
  },
  {
   "cell_type": "code",
   "execution_count": 44,
   "id": "97434bc1",
   "metadata": {
    "execution": {
     "iopub.execute_input": "2024-07-16T05:21:07.368114Z",
     "iopub.status.busy": "2024-07-16T05:21:07.367682Z",
     "iopub.status.idle": "2024-07-16T05:21:07.375290Z",
     "shell.execute_reply": "2024-07-16T05:21:07.374173Z"
    },
    "papermill": {
     "duration": 0.038615,
     "end_time": "2024-07-16T05:21:07.378156",
     "exception": false,
     "start_time": "2024-07-16T05:21:07.339541",
     "status": "completed"
    },
    "tags": []
   },
   "outputs": [
    {
     "name": "stdout",
     "output_type": "stream",
     "text": [
      "no of outliers  47113\n",
      "% of outliers  66.00400678070581\n"
     ]
    }
   ],
   "source": [
    "outliers_90tile = (grouped > 4).count()\n",
    "print ( 'no of outliers ',(71379-outliers_90tile))\n",
    "print ( '% of outliers ',((71379-outliers_90tile)*100)/71379)"
   ]
  },
  {
   "cell_type": "code",
   "execution_count": 45,
   "id": "7c6a1b72",
   "metadata": {
    "execution": {
     "iopub.execute_input": "2024-07-16T05:21:07.436154Z",
     "iopub.status.busy": "2024-07-16T05:21:07.435749Z",
     "iopub.status.idle": "2024-07-16T05:21:08.115252Z",
     "shell.execute_reply": "2024-07-16T05:21:08.114023Z"
    },
    "papermill": {
     "duration": 0.710383,
     "end_time": "2024-07-16T05:21:08.117826",
     "exception": false,
     "start_time": "2024-07-16T05:21:07.407443",
     "status": "completed"
    },
    "tags": []
   },
   "outputs": [
    {
     "data": {
      "image/png": "[encoded data removed]",
      "text/plain": [
       "<Figure size 1000x600 with 1 Axes>"
      ]
     },
     "metadata": {},
     "output_type": "display_data"
    }
   ],
   "source": [
    "#using log scale due high no of outliers\n",
    "plt.figure(figsize=(10,6))\n",
    "plt.boxplot(grouped)\n",
    "plt.yscale('log')\n",
    "percentiles = np.percentile(grouped, [25,50,75,90,95])\n",
    "for percentile in percentiles:\n",
    "    plt.text(0, percentile, f'{percentile:.4f}', color='red')\n",
    "plt.show()\n",
    "\n"
   ]
  },
  {
   "cell_type": "markdown",
   "id": "4116d6a7",
   "metadata": {
    "papermill": {
     "duration": 0.027747,
     "end_time": "2024-07-16T05:21:08.173664",
     "exception": false,
     "start_time": "2024-07-16T05:21:08.145917",
     "status": "completed"
    },
    "tags": []
   },
   "source": [
    "#### since too many outliers we categorize based on percentile"
   ]
  },
  {
   "cell_type": "code",
   "execution_count": 46,
   "id": "51a97d48",
   "metadata": {
    "execution": {
     "iopub.execute_input": "2024-07-16T05:21:08.232823Z",
     "iopub.status.busy": "2024-07-16T05:21:08.232431Z",
     "iopub.status.idle": "2024-07-16T05:21:08.246519Z",
     "shell.execute_reply": "2024-07-16T05:21:08.245216Z"
    },
    "papermill": {
     "duration": 0.04636,
     "end_time": "2024-07-16T05:21:08.249391",
     "exception": false,
     "start_time": "2024-07-16T05:21:08.203031",
     "status": "completed"
    },
    "tags": []
   },
   "outputs": [
    {
     "data": {
      "text/html": [
       "<div>\n",
       "<style scoped>\n",
       "    .dataframe tbody tr th:only-of-type {\n",
       "        vertical-align: middle;\n",
       "    }\n",
       "\n",
       "    .dataframe tbody tr th {\n",
       "        vertical-align: top;\n",
       "    }\n",
       "\n",
       "    .dataframe thead th {\n",
       "        text-align: right;\n",
       "    }\n",
       "</style>\n",
       "<table border=\"1\" class=\"dataframe\">\n",
       "  <thead>\n",
       "    <tr style=\"text-align: right;\">\n",
       "      <th></th>\n",
       "      <th>userName</th>\n",
       "      <th>reviewCount</th>\n",
       "    </tr>\n",
       "  </thead>\n",
       "  <tbody>\n",
       "    <tr>\n",
       "      <th>0</th>\n",
       "      <td>a</td>\n",
       "      <td>12786</td>\n",
       "    </tr>\n",
       "    <tr>\n",
       "      <th>1</th>\n",
       "      <td>david</td>\n",
       "      <td>436</td>\n",
       "    </tr>\n",
       "    <tr>\n",
       "      <th>2</th>\n",
       "      <td>john</td>\n",
       "      <td>398</td>\n",
       "    </tr>\n",
       "    <tr>\n",
       "      <th>3</th>\n",
       "      <td>michael</td>\n",
       "      <td>397</td>\n",
       "    </tr>\n",
       "    <tr>\n",
       "      <th>4</th>\n",
       "      <td>james</td>\n",
       "      <td>319</td>\n",
       "    </tr>\n",
       "  </tbody>\n",
       "</table>\n",
       "</div>"
      ],
      "text/plain": [
       "  userName  reviewCount\n",
       "0        a        12786\n",
       "1    david          436\n",
       "2     john          398\n",
       "3  michael          397\n",
       "4    james          319"
      ]
     },
     "execution_count": 46,
     "metadata": {},
     "output_type": "execute_result"
    }
   ],
   "source": [
    "grouped_df = grouped.reset_index()\n",
    "grouped_df.columns = ['userName','reviewCount']\n",
    "grouped_df.head()"
   ]
  },
  {
   "cell_type": "code",
   "execution_count": 47,
   "id": "22ab21f8",
   "metadata": {
    "execution": {
     "iopub.execute_input": "2024-07-16T05:21:08.310196Z",
     "iopub.status.busy": "2024-07-16T05:21:08.308967Z",
     "iopub.status.idle": "2024-07-16T05:21:08.625190Z",
     "shell.execute_reply": "2024-07-16T05:21:08.623861Z"
    },
    "papermill": {
     "duration": 0.348844,
     "end_time": "2024-07-16T05:21:08.627761",
     "exception": false,
     "start_time": "2024-07-16T05:21:08.278917",
     "status": "completed"
    },
    "tags": []
   },
   "outputs": [
    {
     "data": {
      "image/png": "[encoded data removed]",
      "text/plain": [
       "<Figure size 1000x600 with 1 Axes>"
      ]
     },
     "metadata": {},
     "output_type": "display_data"
    }
   ],
   "source": [
    "# Violin plot to show density of outliers too\n",
    "plt.figure(figsize=(10, 6))\n",
    "plt.hist(grouped,bins=10)\n",
    "plt.title(\"Histogram\")\n",
    "plt.show()\n",
    "\n"
   ]
  },
  {
   "cell_type": "markdown",
   "id": "70360adb",
   "metadata": {
    "papermill": {
     "duration": 0.028287,
     "end_time": "2024-07-16T05:21:08.684845",
     "exception": false,
     "start_time": "2024-07-16T05:21:08.656558",
     "status": "completed"
    },
    "tags": []
   },
   "source": [
    "#### since we have 66% outliers, removing them would heavily influence the analysis so we will scale the dataset. we will compare square root and log transformations as they perform better with positive skewed data. we wont use winsorization because capping at certain percentile will again heavily influence the accuracy of our analysis, not using box cox to avoid heavy computation\n",
    "\n",
    "#### log transformation generally used for data which spans over several magnitude\n",
    "#### square root transformation which is less extreme\n",
    "#### we will compare both transformed data"
   ]
  },
  {
   "cell_type": "code",
   "execution_count": 48,
   "id": "fd457e9d",
   "metadata": {
    "execution": {
     "iopub.execute_input": "2024-07-16T05:21:08.742393Z",
     "iopub.status.busy": "2024-07-16T05:21:08.741946Z",
     "iopub.status.idle": "2024-07-16T05:21:09.189419Z",
     "shell.execute_reply": "2024-07-16T05:21:09.188012Z"
    },
    "papermill": {
     "duration": 0.479436,
     "end_time": "2024-07-16T05:21:09.192249",
     "exception": false,
     "start_time": "2024-07-16T05:21:08.712813",
     "status": "completed"
    },
    "tags": []
   },
   "outputs": [
    {
     "data": {
      "image/png": "[encoded data removed]",
      "text/plain": [
       "<Figure size 1500x600 with 2 Axes>"
      ]
     },
     "metadata": {},
     "output_type": "display_data"
    }
   ],
   "source": [
    "grouped_sqrt = np.sqrt(grouped)\n",
    "grouped_log = np.log1p(grouped)\n",
    "\n",
    "# Visualize original and square root transformed data\n",
    "plt.figure(figsize=(15, 6))\n",
    "\n",
    "plt.subplot(1,2,1)\n",
    "# Bar plot of original grouped data\n",
    "plt.hist(grouped_log,bins=10)\n",
    "plt.xticks(rotation=90)\n",
    "plt.title('Log Transformed Grouped Data')\n",
    "\n",
    "plt.subplot(1,2,2)\n",
    "# Bar plot of original grouped data\n",
    "plt.hist(grouped_sqrt,bins=10)\n",
    "plt.xticks(rotation=90)\n",
    "plt.title('Sq Root Transformed Grouped Data')\n",
    "\n",
    "plt.show()"
   ]
  },
  {
   "cell_type": "markdown",
   "id": "4ebdbbb1",
   "metadata": {
    "papermill": {
     "duration": 0.028268,
     "end_time": "2024-07-16T05:21:09.249904",
     "exception": false,
     "start_time": "2024-07-16T05:21:09.221636",
     "status": "completed"
    },
    "tags": []
   },
   "source": [
    "#### data is still highly skewed so we removed data above 95%tile"
   ]
  },
  {
   "cell_type": "code",
   "execution_count": 49,
   "id": "576acaa9",
   "metadata": {
    "execution": {
     "iopub.execute_input": "2024-07-16T05:21:09.312106Z",
     "iopub.status.busy": "2024-07-16T05:21:09.311682Z",
     "iopub.status.idle": "2024-07-16T05:21:09.606050Z",
     "shell.execute_reply": "2024-07-16T05:21:09.604893Z"
    },
    "papermill": {
     "duration": 0.330319,
     "end_time": "2024-07-16T05:21:09.609666",
     "exception": false,
     "start_time": "2024-07-16T05:21:09.279347",
     "status": "completed"
    },
    "tags": []
   },
   "outputs": [
    {
     "data": {
      "image/png": "[encoded data removed]",
      "text/plain": [
       "<Figure size 1000x600 with 1 Axes>"
      ]
     },
     "metadata": {},
     "output_type": "display_data"
    },
    {
     "name": "stdout",
     "output_type": "stream",
     "text": [
      "Counts: [17995     0     0     0  3496   942   260   387   216]\n",
      "Bin Edges: [ 1.   1.2  1.4  2.   2.   3.6  5.2  6.8  8.4 10. ]\n"
     ]
    }
   ],
   "source": [
    "custom_bins = [1, 1.2,1.4, 2]\n",
    "# For uniform bins (totaling 10 bins)\n",
    "uniform_bins = np.linspace(2, 10, 6)  # 5 bins from 2 to 10\n",
    "\n",
    "# Concatenate custom and uniform bins\n",
    "bin_edges = np.concatenate((custom_bins, uniform_bins))\n",
    "\n",
    "# Compute histogram with custom bins\n",
    "counts, _ = np.histogram(grouped, bins=bin_edges)\n",
    "\n",
    "# Plotting\n",
    "plt.figure(figsize=(10, 6))\n",
    "plt.hist(grouped, bins=bin_edges, edgecolor='black')\n",
    "plt.xlabel('Review Count')\n",
    "plt.ylabel('Frequency')\n",
    "plt.title('Histogram with Non-Uniform Bins')\n",
    "plt.grid(True)\n",
    "plt.xticks(bin_edges)\n",
    "plt.show()\n",
    "\n",
    "# Print counts and bin edges for verification\n",
    "print(\"Counts:\", counts)\n",
    "print(\"Bin Edges:\", bin_edges)"
   ]
  },
  {
   "cell_type": "code",
   "execution_count": 50,
   "id": "0bc85e36",
   "metadata": {
    "execution": {
     "iopub.execute_input": "2024-07-16T05:21:09.671866Z",
     "iopub.status.busy": "2024-07-16T05:21:09.671475Z",
     "iopub.status.idle": "2024-07-16T05:21:10.521378Z",
     "shell.execute_reply": "2024-07-16T05:21:10.520108Z"
    },
    "papermill": {
     "duration": 0.884183,
     "end_time": "2024-07-16T05:21:10.524157",
     "exception": false,
     "start_time": "2024-07-16T05:21:09.639974",
     "status": "completed"
    },
    "tags": []
   },
   "outputs": [
    {
     "name": "stdout",
     "output_type": "stream",
     "text": [
      "retain count of data after removing outliers less than 10%tile: 17995\n",
      "\n",
      "retain percentage of data after removing outliers less than 10%tile: 74.16%\n",
      "\n",
      "retain count of data after removing outliers between 10%tile and 20%tile: 0\n",
      "\n",
      "retain percentage of data after removing outliers between 10%tile and 20%tile: 0.00%\n",
      "\n",
      "retain count of data after removing outliers between 20%tile and 30%tile: 0\n",
      "\n",
      "retain percentage of data after removing outliers between 20%tile and 30%tile: 0.00%\n",
      "\n"
     ]
    },
    {
     "data": {
      "image/png": "[encoded data removed]",
      "text/plain": [
       "<Figure size 1800x600 with 3 Axes>"
      ]
     },
     "metadata": {},
     "output_type": "display_data"
    }
   ],
   "source": [
    "threshold10 = np.percentile(grouped, 10)\n",
    "threshold20 = np.percentile(grouped, 20)\n",
    "threshold30 = np.percentile(grouped, 30)\n",
    "\n",
    "# Filter data based on percentiles\n",
    "grouped_filtered_10 = grouped[grouped <= threshold10]\n",
    "retain_percent_10 = (len(grouped_filtered_10) / len(grouped)) * 100\n",
    "\n",
    "grouped_filtered_20 = grouped[(grouped > threshold10) & (grouped <= threshold20)]\n",
    "retain_percent_20 = (len(grouped_filtered_20) / len(grouped)) * 100\n",
    "\n",
    "grouped_filtered_30 = grouped[(grouped > threshold20) & (grouped <= threshold30)]\n",
    "retain_percent_30 = (len(grouped_filtered_30) / len(grouped)) * 100\n",
    "\n",
    "# Print results\n",
    "print(f\"retain count of data after removing outliers less than 10%tile: {grouped_filtered_10.count()}\\n\")\n",
    "print(f\"retain percentage of data after removing outliers less than 10%tile: {retain_percent_10:.2f}%\\n\")\n",
    "\n",
    "print(f\"retain count of data after removing outliers between 10%tile and 20%tile: {grouped_filtered_20.count()}\\n\")\n",
    "print(f\"retain percentage of data after removing outliers between 10%tile and 20%tile: {retain_percent_20:.2f}%\\n\")\n",
    "\n",
    "print(f\"retain count of data after removing outliers between 20%tile and 30%tile: {grouped_filtered_30.count()}\\n\")\n",
    "print(f\"retain percentage of data after removing outliers between 20%tile and 30%tile: {retain_percent_30:.2f}%\\n\")\n",
    "\n",
    "# Plot all histograms in one row\n",
    "plt.figure(figsize=(18, 6))\n",
    "\n",
    "# Histogram for 10th percentile\n",
    "plt.subplot(1, 3, 1)\n",
    "plt.hist(grouped_filtered_10, bins=10, color='skyblue', edgecolor='black')\n",
    "plt.title('Filtered Data (10th Percentile)')\n",
    "plt.xlabel('Review Count')\n",
    "plt.ylabel('Frequency')\n",
    "plt.xticks(rotation=90)\n",
    "\n",
    "# Histogram for 20th percentile\n",
    "plt.subplot(1, 3, 2)\n",
    "plt.hist(grouped_filtered_20, bins=10, color='lightgreen', edgecolor='black')\n",
    "plt.title('Filtered Data (Between 10th and 20th Percentile)')\n",
    "plt.xlabel('Review Count')\n",
    "plt.ylabel('Frequency')\n",
    "plt.xticks(rotation=90)\n",
    "\n",
    "# Histogram for 30th percentile\n",
    "plt.subplot(1, 3, 3)\n",
    "plt.hist(grouped_filtered_30, bins=10, color='lightcoral', edgecolor='black')\n",
    "plt.title('Filtered Data (Between 20th and 30th Percentile)')\n",
    "plt.xlabel('Review Count')\n",
    "plt.ylabel('Frequency')\n",
    "plt.xticks(rotation=90)\n",
    "\n",
    "plt.tight_layout()\n",
    "plt.show()"
   ]
  },
  {
   "cell_type": "code",
   "execution_count": null,
   "id": "1b55ef29",
   "metadata": {
    "papermill": {
     "duration": 0.030444,
     "end_time": "2024-07-16T05:21:10.584960",
     "exception": false,
     "start_time": "2024-07-16T05:21:10.554516",
     "status": "completed"
    },
    "tags": []
   },
   "outputs": [],
   "source": []
  },
  {
   "cell_type": "code",
   "execution_count": null,
   "id": "1946a493",
   "metadata": {
    "papermill": {
     "duration": 0.030924,
     "end_time": "2024-07-16T05:21:10.647315",
     "exception": false,
     "start_time": "2024-07-16T05:21:10.616391",
     "status": "completed"
    },
    "tags": []
   },
   "outputs": [],
   "source": []
  }
 ],
 "metadata": {
  "kaggle": {
   "accelerator": "none",
   "dataSources": [
    {
     "datasetId": 4981519,
     "sourceId": 8377684,
     "sourceType": "datasetVersion"
    }
   ],
   "dockerImageVersionId": 30732,
   "isGpuEnabled": false,
   "isInternetEnabled": false,
   "language": "python",
   "sourceType": "notebook"
  },
  "kernelspec": {
   "display_name": "Python 3",
   "language": "python",
   "name": "python3"
  },
  "language_info": {
   "codemirror_mode": {
    "name": "ipython",
    "version": 3
   },
   "file_extension": ".py",
   "mimetype": "text/x-python",
   "name": "python",
   "nbconvert_exporter": "python",
   "pygments_lexer": "ipython3",
   "version": "3.10.13"
  },
  "papermill": {
   "default_parameters": {},
   "duration": 23.208241,
   "end_time": "2024-07-16T05:21:11.903393",
   "environment_variables": {},
   "exception": null,
   "input_path": "__notebook__.ipynb",
   "output_path": "__notebook__.ipynb",
   "parameters": {},
   "start_time": "2024-07-16T05:20:48.695152",
   "version": "2.5.0"
  }
 },
 "nbformat": 4,
 "nbformat_minor": 5
}
